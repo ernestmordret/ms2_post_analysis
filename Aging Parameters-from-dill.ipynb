{
 "cells": [
  {
   "cell_type": "markdown",
   "metadata": {},
   "source": [
    "# 1. Data input"
   ]
  },
  {
   "cell_type": "markdown",
   "metadata": {},
   "source": [
    "### 1.1 Read the metadata table (clusters_df): strain name and paths of their mortality data .pickles"
   ]
  },
  {
   "cell_type": "markdown",
   "metadata": {},
   "source": [
    "### 1.2 Locate mortality clusters"
   ]
  },
  {
   "cell_type": "markdown",
   "metadata": {},
   "source": [
    "### 1.3 Filter out cluster choice mistakes"
   ]
  },
  {
   "cell_type": "markdown",
   "metadata": {},
   "source": [
    "### 1.4 Drop data known to not fit GGM"
   ]
  },
  {
   "cell_type": "markdown",
   "metadata": {},
   "source": [
    "### 1.5 Load mortality .pickles (pip install pandas==0.19.2)"
   ]
  },
  {
   "cell_type": "markdown",
   "metadata": {},
   "source": [
    "# 2. Redo statistical mortality analysis and quality control"
   ]
  },
  {
   "cell_type": "markdown",
   "metadata": {},
   "source": [
    "### 2.1 Fit to GG or GGM"
   ]
  },
  {
   "cell_type": "code",
   "execution_count": 1,
   "metadata": {},
   "outputs": [
    {
     "name": "stdout",
     "output_type": "stream",
     "text": [
      "/app/src/ms2_post_analysis\n"
     ]
    }
   ],
   "source": [
    "%cd '/app/src/ms2_post_analysis'\n",
    "import dill\n",
    "dill_file = open(\"./dill/Fitted.p\", \"rb\")\n",
    "Fitted_from_file = dill.load(dill_file)\n",
    "dill_file.close()\n",
    "Fitted = Fitted_from_file\n",
    "\n",
    "dill_file = open(\"./dill/stats.p\", \"rb\")\n",
    "stats_from_file = dill.load(dill_file)\n",
    "dill_file.close()\n",
    "stats = stats_from_file\n",
    "\n",
    "dill_file = open(\"./dill/dfs_mortality.p\", \"rb\")\n",
    "dfs_from_file = dill.load(dill_file)\n",
    "dill_file.close()\n",
    "dfs_mortality = dfs_from_file\n",
    "\n",
    "dill_file = open(\"./dill/tgs_mortality.p\", \"rb\")\n",
    "tgs_from_file = dill.load(dill_file)\n",
    "dill_file.close()\n",
    "tgs_mortality = tgs_from_file\n",
    "\n",
    "dill_file = open(\"./dill/quantiles.p\", \"rb\")\n",
    "quantiles_from_file = dill.load(dill_file)\n",
    "dill_file.close()\n",
    "quantiles = quantiles_from_file\n",
    "\n",
    "dill_file = open(\"./dill/KStests.p\", \"rb\")\n",
    "KStests_from_file = dill.load(dill_file)\n",
    "dill_file.close()\n",
    "KStests = KStests_from_file"
   ]
  },
  {
   "cell_type": "code",
   "execution_count": 2,
   "metadata": {},
   "outputs": [
    {
     "data": {
      "text/plain": [
       "['ydjQ', 'ybaJ', 'uxuR', 'yiaW', 'hslR', 'uxaC']"
      ]
     },
     "execution_count": 2,
     "metadata": {},
     "output_type": "execute_result"
    }
   ],
   "source": [
    "strain_error = ['ydjQ', 'ybaJ', 'uxuR', 'yiaW', 'hslR', 'uxaC']\n",
    "strain_error"
   ]
  },
  {
   "cell_type": "markdown",
   "metadata": {},
   "source": [
    "### 2.2 Generate bootstrapped statistics: Medians, GGM parameters"
   ]
  },
  {
   "cell_type": "markdown",
   "metadata": {},
   "source": [
    "### 2.3 Goodness-of-fit by K-S statistics & quality control"
   ]
  },
  {
   "cell_type": "markdown",
   "metadata": {},
   "source": [
    "### These data cross K-S thresholds, but only in very few time points, thus pass quality control"
   ]
  },
  {
   "cell_type": "code",
   "execution_count": 3,
   "metadata": {},
   "outputs": [
    {
     "name": "stdout",
     "output_type": "stream",
     "text": [
      "norV KstestResult(statistic=1.527911284934915, pvalue=0.01839849899610042, critical_stat=1.6252092349398368)\n",
      "80%20MG%20yagS KstestResult(statistic=1.870992574195027, pvalue=0.001821528591744746, critical_stat=1.627623630718729)\n",
      "jump  ydjQ\n",
      "lsrC KstestResult(statistic=1.562344350904738, pvalue=0.015166100667016562, critical_stat=1.627623630718729)\n",
      "ptsH KstestResult(statistic=1.7420232174035264, pvalue=0.004625630469956536, critical_stat=1.6276236305626721)\n",
      "yagH KstestResult(statistic=1.6310413664621568, pvalue=0.008691198840334318, critical_stat=1.6091234244094257)\n",
      "ydcP KstestResult(statistic=2.330143092803433, pvalue=3.8456358647840585e-05, critical_stat=1.6276195692566895)\n",
      "80%20MG%20pgi KstestResult(statistic=1.7012837471272915, pvalue=0.006123719559480749, critical_stat=1.6276236307187228)\n",
      "ygjP KstestResult(statistic=2.0100870630558996, pvalue=0.0006187849123886392, critical_stat=1.6276236249018332)\n",
      "fruR KstestResult(statistic=1.525101053600419, pvalue=0.019087544695554546, critical_stat=1.627623630718729)\n",
      "fruB KstestResult(statistic=2.0712406519531825, pvalue=0.0003756215279743861, critical_stat=1.627623630718728)\n",
      "melA KstestResult(statistic=1.9171924319543592, pvalue=0.0012835745682881665, critical_stat=1.6276236307176608)\n",
      "jump  ybaJ\n",
      "paoB KstestResult(statistic=1.8418004758315347, pvalue=0.0022624413508858226, critical_stat=1.627623630718729)\n",
      "yobH KstestResult(statistic=1.800857808409107, pvalue=0.003048728326985193, critical_stat=1.6276233624334642)\n",
      "caiB KstestResult(statistic=2.155141144789202, pvalue=0.00018482159885326805, critical_stat=1.6276233703693355)\n",
      "yqjE KstestResult(statistic=2.6150730715368606, pvalue=2.2966313056498057e-06, critical_stat=1.6276236302133764)\n",
      "casE%202 KstestResult(statistic=2.103386400603264, pvalue=0.00028720292969734474, critical_stat=1.6276236187442863)\n",
      "gltD KstestResult(statistic=1.5661638485033331, pvalue=0.01467623361705337, critical_stat=1.6264764360111805)\n",
      "yafV KstestResult(statistic=2.0764443650685687, pvalue=0.00035974918130718116, critical_stat=1.6275891936316302)\n",
      "jump  uxuR\n",
      "rph KstestResult(statistic=1.7324062005607554, pvalue=0.004945276206014082, critical_stat=1.6276206823821706)\n",
      "yajQ%202 KstestResult(statistic=2.1960188678036126, pvalue=0.00012949729631242304, critical_stat=1.62762363071847)\n",
      "yhdX KstestResult(statistic=1.7956269121812163, pvalue=0.0031656195369402416, critical_stat=1.627622170329465)\n",
      "yihS KstestResult(statistic=1.8047898174335377, pvalue=0.0029634967018419634, critical_stat=1.627623630718729)\n",
      "tdcE KstestResult(statistic=1.7694687488774028, pvalue=0.003813574512812989, critical_stat=1.627522406740058)\n",
      "jump  yiaW\n",
      "mhpB KstestResult(statistic=1.5762280738795043, pvalue=0.013535589968901205, critical_stat=1.623894096679107)\n",
      "eptA KstestResult(statistic=1.7515501416035733, pvalue=0.00432416694573181, critical_stat=1.6273944803968015)\n",
      "yigL KstestResult(statistic=1.7939402538640847, pvalue=0.0032041895279999004, critical_stat=1.6276236114882319)\n",
      "jump  hslR\n",
      "yafX KstestResult(statistic=1.6035530388976973, pvalue=0.01168303468326833, critical_stat=1.627623630718729)\n",
      "jump  uxaC\n",
      "yigZ KstestResult(statistic=2.335219942416443, pvalue=3.6677129250066285e-05, critical_stat=1.627623630718729)\n"
     ]
    }
   ],
   "source": [
    "for strain in Fitted.keys():\n",
    "    if strain in strain_error:\n",
    "        print \"jump \", strain\n",
    "        continue\n",
    "    if KStests[strain][0] > 1.517:\n",
    "        print strain, KStests[strain]"
   ]
  },
  {
   "cell_type": "markdown",
   "metadata": {},
   "source": [
    "### Mortality cluster with too few imaging positions, dropped later"
   ]
  },
  {
   "cell_type": "code",
   "execution_count": 4,
   "metadata": {},
   "outputs": [
    {
     "name": "stdout",
     "output_type": "stream",
     "text": [
      "jump  ydjQ\n",
      "ydjK\n",
      "gspM\n",
      "mprA\n",
      "melA\n",
      "jump  ybaJ\n",
      "dcuA\n",
      "bglF\n",
      "gnsA\n",
      "gltK\n",
      "jump  uxuR\n",
      "yjfJ\n",
      "ybgD\n",
      "rsd\n",
      "70%20thiQ\n",
      "jump  yiaW\n",
      "xdhC\n",
      "ycfX\n",
      "glpX\n",
      "jump  hslR\n",
      "uxaA\n",
      "jump  uxaC\n"
     ]
    }
   ],
   "source": [
    "import numpy as np\n",
    "for strain in dfs_mortality.keys():\n",
    "    if strain in strain_error:\n",
    "        print \"jump \", strain\n",
    "        continue\n",
    "    if len(np.unique(dfs_mortality[strain]['fn'])) < 3:\n",
    "        print strain"
   ]
  },
  {
   "cell_type": "markdown",
   "metadata": {},
   "source": [
    "### 2.4 Important Quantiles"
   ]
  },
  {
   "cell_type": "markdown",
   "metadata": {},
   "source": [
    "# 3. Aging parameters basics: first figures"
   ]
  },
  {
   "cell_type": "markdown",
   "metadata": {},
   "source": [
    "### 3.1 Set basic info for plotting: strain aging parameters dataframe (strain_df) and strain categories"
   ]
  },
  {
   "cell_type": "code",
   "execution_count": 5,
   "metadata": {},
   "outputs": [
    {
     "name": "stdout",
     "output_type": "stream",
     "text": [
      "jump  ydjQ\n",
      "jump  ybaJ\n",
      "jump  uxuR\n",
      "jump  yiaW\n",
      "jump  hslR\n",
      "jump  uxaC\n"
     ]
    }
   ],
   "source": [
    "import pandas as pd\n",
    "strain_df = pd.DataFrame(index=Fitted.keys(), columns=['med_exp','med_model','scale','med_ratio','scale_ratio'])\n",
    "for strain in Fitted.keys():\n",
    "    if strain in strain_error:\n",
    "        print \"jump \", strain\n",
    "        continue\n",
    "    strain_df.loc[strain,'med_model'] = float(np.median(stats[strain]['median']))\n",
    "    strain_df.loc[strain,'med_ratio'] = float(np.median(stats[strain]['median'])/np.median(stats['MG-WT']['median']))\n",
    "    strain_df.loc[strain,'scale'] = float(1/Fitted[strain]['model_paras'].loc['rate','est'])\n",
    "    strain_df.loc[strain,'scale_ratio'] = float(Fitted['MG-WT']['model_paras'].loc['rate','est']/Fitted[strain]['model_paras'].loc['rate','est'])\n",
    "    strain_df.loc[strain,'rate'] = Fitted[strain]['model_paras'].loc['rate','est']\n",
    "    strain_df.loc[strain,'rate_L95%'] = Fitted[strain]['model_paras'].loc['rate','L95%']\n",
    "    strain_df.loc[strain,'rate_U95%'] = Fitted[strain]['model_paras'].loc['rate','U95%']\n",
    "    strain_df.loc[strain,'beta'] = Fitted[strain]['model_paras'].loc['beta','est']\n",
    "    strain_df.loc[strain,'beta_L95%'] = Fitted[strain]['model_paras'].loc['beta','L95%']\n",
    "    strain_df.loc[strain,'beta_U95%'] = Fitted[strain]['model_paras'].loc['beta','U95%']\n",
    "    strain_df.loc[strain,'s'] = Fitted[strain]['model_paras'].loc['s','est']\n",
    "    strain_df.loc[strain,'s_L95%'] = Fitted[strain]['model_paras'].loc['s','L95%']\n",
    "    strain_df.loc[strain,'s_U95%'] = Fitted[strain]['model_paras'].loc['s','U95%']\n",
    "    strain_df.loc[strain,'model type'] = Fitted[strain]['type']\n",
    "    if Fitted[strain]['type'] == 'GGM':\n",
    "        strain_df.loc[strain,'lambda'] = Fitted[strain]['model_paras'].loc['lambda','est']\n",
    "        strain_df.loc[strain,'lambda_L95%'] = Fitted[strain]['model_paras'].loc['lambda','L95%']\n",
    "        strain_df.loc[strain,'lambda_U95%'] = Fitted[strain]['model_paras'].loc['lambda','U95%']\n",
    "    elif Fitted[strain]['type'] == 'GG':\n",
    "        strain_df.loc[strain,'lambda'] = 0\n",
    "        strain_df.loc[strain,'lambda_L95%'] = 0\n",
    "        strain_df.loc[strain,'lambda_U95%'] = 0"
   ]
  },
  {
   "cell_type": "code",
   "execution_count": 6,
   "metadata": {},
   "outputs": [
    {
     "data": {
      "text/plain": [
       "Text(0,0.5,'relative longevity')"
      ]
     },
     "execution_count": 6,
     "metadata": {},
     "output_type": "execute_result"
    },
    {
     "data": {
      "image/png": "[encoded data removed]",
      "text/plain": [
       "<Figure size 432x288 with 1 Axes>"
      ]
     },
     "metadata": {},
     "output_type": "display_data"
    }
   ],
   "source": [
    "import matplotlib as mpl\n",
    "%matplotlib inline\n",
    "from matplotlib import pyplot as plt\n",
    "plt.style.use('ggplot')\n",
    "#import seaborn as sns\n",
    "plt.plot(strain_df['scale_ratio'], strain_df['med_ratio'],'o')\n",
    "#plt.xscale('log')\n",
    "plt.xlabel('relative aging scale')\n",
    "#plt.yscale('log')\n",
    "plt.ylabel('relative longevity')"
   ]
  },
  {
   "cell_type": "markdown",
   "metadata": {},
   "source": [
    "### 3.2 Aging parameter space: lifespan, aging timescale, shape"
   ]
  },
  {
   "cell_type": "markdown",
   "metadata": {},
   "source": [
    "__**shape = lifespan / scale**__"
   ]
  },
  {
   "cell_type": "code",
   "execution_count": 7,
   "metadata": {},
   "outputs": [],
   "source": [
    "#candidates = ['ompL_new','pgi','uxaB_new','aqpZ','ascG','caiT_new','yagS','yfiD_new', 'appY']\n",
    "\n",
    "strain_df['scale_ratio_log2'] = [np.log2(float(r)) for r in strain_df['scale_ratio']]\n",
    "strain_df['lifespan_ratio_log2'] = [np.log2(float(r)) for r in strain_df['med_ratio']]\n",
    "strain_df['shape_ratio_log2'] = [np.log2(float(r)) for r in strain_df['med_ratio']/strain_df['scale_ratio']]"
   ]
  },
  {
   "cell_type": "code",
   "execution_count": 8,
   "metadata": {},
   "outputs": [
    {
     "data": {
      "image/png": "[encoded data removed]",
      "text/plain": [
       "<Figure size 720x1008 with 2 Axes>"
      ]
     },
     "metadata": {},
     "output_type": "display_data"
    }
   ],
   "source": [
    "f, (ax1, ax2) = plt.subplots(2, sharex=False)\n",
    "\n",
    "ax1.plot(strain_df['scale_ratio_log2'], \n",
    "         strain_df['lifespan_ratio_log2'],\n",
    "         'o',label='others')\n",
    "#ax1.plot(strain_df.loc[candidates, 'scale_ratio_log2'],\n",
    "#         strain_df.loc[candidates, 'lifespan_ratio_log2'], 'o', label='candidates')\n",
    "ax1.set_ylabel('$log_2$ relative lifespan')\n",
    "ax1.set_xlabel('$log_2$ relative aging scale')\n",
    "ax1.plot(np.arange(4,-4,-0.1), [0]*80, '--')\n",
    "ax1.plot(np.arange(2,-3,-0.1), np.arange(2,-3,-0.1), '--', label='equal shape')\n",
    "ax1.legend(loc=4)\n",
    "\n",
    "\n",
    "ax2.plot(strain_df['scale_ratio_log2'], \n",
    "         strain_df['shape_ratio_log2'],\n",
    "         'o',label='others')\n",
    "#ax2.plot(strain_df.loc[candidates, 'scale_ratio_log2'],\n",
    "#         strain_df.loc[candidates, 'shape_ratio_log2'], 'o', label='candidates')\n",
    "ax2.set_xlabel('$log_2$ relative aging scale')\n",
    "ax2.set_ylabel('$log_2$ relative shape ')\n",
    "ax2.plot(np.arange(3,-4,-0.1), np.arange(-3,4,0.1), '--', label='equal lifespan')\n",
    "ax2.plot(np.arange(4,-4,-0.1), [0]*80, '--')\n",
    "ax2.legend(loc=1)\n",
    "\n",
    "ax1.set_xlim([-1.5,1.5])\n",
    "ax2.set_xlim([-1.5,1.5])\n",
    "ax1.set_ylim([-1.6,0.9])\n",
    "ax2.set_ylim([-1,1.5])\n",
    "\n",
    "\n",
    "f.set_size_inches(10,14)"
   ]
  },
  {
   "cell_type": "code",
   "execution_count": 9,
   "metadata": {},
   "outputs": [
    {
     "data": {
      "image/png": "[encoded data removed]",
      "text/plain": [
       "<Figure size 360x360 with 1 Axes>"
      ]
     },
     "metadata": {},
     "output_type": "display_data"
    }
   ],
   "source": [
    "f, (ax1) = plt.subplots(1, sharex=False)\n",
    "\n",
    "ax1.plot(strain_df['shape_ratio_log2'], \n",
    "         strain_df['lifespan_ratio_log2'],\n",
    "         'o',label='others')\n",
    "#ax1.plot(strain_df.loc[candidates, 'shape_ratio_log2'],\n",
    "#         strain_df.loc[candidates, 'lifespan_ratio_log2'], 'o', label='candidates')\n",
    "ax1.set_xlabel('$log_2$ relative shape')\n",
    "ax1.set_ylabel('$log_2$ relative lifespan')\n",
    "ax1.plot(np.arange(-1,1.5,0.1), np.arange(-1,1.5,0.1), '--', label='equal timescale')\n",
    "ax1.legend(loc=3)\n",
    "\n",
    "ax1.set_ylim([-1.6,0.9])\n",
    "ax1.set_xlim([-1,1.3])\n",
    "\n",
    "\n",
    "f.set_size_inches(5,5)"
   ]
  },
  {
   "cell_type": "markdown",
   "metadata": {},
   "source": [
    "### 3.3 Longevity strains as candidate strains"
   ]
  },
  {
   "cell_type": "code",
   "execution_count": 10,
   "metadata": {},
   "outputs": [],
   "source": [
    "#strain_df.loc[candidates,['scale_ratio_log2','lifespan_ratio_log2','shape_ratio_log2']]"
   ]
  },
  {
   "cell_type": "code",
   "execution_count": 11,
   "metadata": {
    "scrolled": true
   },
   "outputs": [
    {
     "data": {
      "text/html": [
       "<div>\n",
       "<table border=\"1\" class=\"dataframe\">\n",
       "  <thead>\n",
       "    <tr style=\"text-align: right;\">\n",
       "      <th></th>\n",
       "      <th>scale_ratio_log2</th>\n",
       "      <th>lifespan_ratio_log2</th>\n",
       "      <th>shape_ratio_log2</th>\n",
       "    </tr>\n",
       "  </thead>\n",
       "  <tbody>\n",
       "    <tr>\n",
       "      <th>yihV%202</th>\n",
       "      <td>0.120459</td>\n",
       "      <td>0.523195</td>\n",
       "      <td>0.402736</td>\n",
       "    </tr>\n",
       "    <tr>\n",
       "      <th>norW</th>\n",
       "      <td>-0.599195</td>\n",
       "      <td>0.565141</td>\n",
       "      <td>1.164336</td>\n",
       "    </tr>\n",
       "    <tr>\n",
       "      <th>norV</th>\n",
       "      <td>-1.198274</td>\n",
       "      <td>0.711431</td>\n",
       "      <td>1.909705</td>\n",
       "    </tr>\n",
       "    <tr>\n",
       "      <th>bipA</th>\n",
       "      <td>0.532535</td>\n",
       "      <td>0.506582</td>\n",
       "      <td>-0.025953</td>\n",
       "    </tr>\n",
       "    <tr>\n",
       "      <th>ssuE%202</th>\n",
       "      <td>-1.111346</td>\n",
       "      <td>0.411870</td>\n",
       "      <td>1.523216</td>\n",
       "    </tr>\n",
       "    <tr>\n",
       "      <th>yoaF</th>\n",
       "      <td>0.494770</td>\n",
       "      <td>0.760847</td>\n",
       "      <td>0.266077</td>\n",
       "    </tr>\n",
       "    <tr>\n",
       "      <th>ulaD</th>\n",
       "      <td>-0.624050</td>\n",
       "      <td>0.795252</td>\n",
       "      <td>1.419302</td>\n",
       "    </tr>\n",
       "    <tr>\n",
       "      <th>ycaD</th>\n",
       "      <td>0.792539</td>\n",
       "      <td>0.461605</td>\n",
       "      <td>-0.330935</td>\n",
       "    </tr>\n",
       "    <tr>\n",
       "      <th>nagZ</th>\n",
       "      <td>0.657077</td>\n",
       "      <td>0.677505</td>\n",
       "      <td>0.020428</td>\n",
       "    </tr>\n",
       "    <tr>\n",
       "      <th>sspA</th>\n",
       "      <td>-0.537939</td>\n",
       "      <td>0.415037</td>\n",
       "      <td>0.952976</td>\n",
       "    </tr>\n",
       "    <tr>\n",
       "      <th>lsrC</th>\n",
       "      <td>0.745181</td>\n",
       "      <td>0.516024</td>\n",
       "      <td>-0.229157</td>\n",
       "    </tr>\n",
       "    <tr>\n",
       "      <th>yfbM</th>\n",
       "      <td>-1.642964</td>\n",
       "      <td>0.726806</td>\n",
       "      <td>2.369770</td>\n",
       "    </tr>\n",
       "    <tr>\n",
       "      <th>yagH</th>\n",
       "      <td>-0.565922</td>\n",
       "      <td>0.754575</td>\n",
       "      <td>1.320497</td>\n",
       "    </tr>\n",
       "    <tr>\n",
       "      <th>osmY</th>\n",
       "      <td>0.454990</td>\n",
       "      <td>0.505176</td>\n",
       "      <td>0.050186</td>\n",
       "    </tr>\n",
       "    <tr>\n",
       "      <th>flgD%202</th>\n",
       "      <td>-0.866836</td>\n",
       "      <td>0.634716</td>\n",
       "      <td>1.501552</td>\n",
       "    </tr>\n",
       "    <tr>\n",
       "      <th>hycA</th>\n",
       "      <td>0.428256</td>\n",
       "      <td>0.561516</td>\n",
       "      <td>0.133260</td>\n",
       "    </tr>\n",
       "    <tr>\n",
       "      <th>gspF</th>\n",
       "      <td>-0.988974</td>\n",
       "      <td>0.720419</td>\n",
       "      <td>1.709394</td>\n",
       "    </tr>\n",
       "    <tr>\n",
       "      <th>yfjO</th>\n",
       "      <td>-0.158675</td>\n",
       "      <td>0.902948</td>\n",
       "      <td>1.061623</td>\n",
       "    </tr>\n",
       "    <tr>\n",
       "      <th>gspL</th>\n",
       "      <td>0.468580</td>\n",
       "      <td>0.455592</td>\n",
       "      <td>-0.012989</td>\n",
       "    </tr>\n",
       "    <tr>\n",
       "      <th>gspM</th>\n",
       "      <td>-1.286391</td>\n",
       "      <td>0.534889</td>\n",
       "      <td>1.821280</td>\n",
       "    </tr>\n",
       "    <tr>\n",
       "      <th>ybdK</th>\n",
       "      <td>0.493357</td>\n",
       "      <td>0.548500</td>\n",
       "      <td>0.055143</td>\n",
       "    </tr>\n",
       "    <tr>\n",
       "      <th>ydcP</th>\n",
       "      <td>0.775761</td>\n",
       "      <td>0.654237</td>\n",
       "      <td>-0.121523</td>\n",
       "    </tr>\n",
       "    <tr>\n",
       "      <th>ygjP</th>\n",
       "      <td>-0.414734</td>\n",
       "      <td>0.666956</td>\n",
       "      <td>1.081690</td>\n",
       "    </tr>\n",
       "    <tr>\n",
       "      <th>mprA</th>\n",
       "      <td>-1.579685</td>\n",
       "      <td>0.735700</td>\n",
       "      <td>2.315384</td>\n",
       "    </tr>\n",
       "    <tr>\n",
       "      <th>ldcC</th>\n",
       "      <td>0.636440</td>\n",
       "      <td>0.602259</td>\n",
       "      <td>-0.034181</td>\n",
       "    </tr>\n",
       "    <tr>\n",
       "      <th>tyrB</th>\n",
       "      <td>0.476091</td>\n",
       "      <td>0.723417</td>\n",
       "      <td>0.247327</td>\n",
       "    </tr>\n",
       "    <tr>\n",
       "      <th>melA</th>\n",
       "      <td>-0.188886</td>\n",
       "      <td>0.825321</td>\n",
       "      <td>1.014207</td>\n",
       "    </tr>\n",
       "    <tr>\n",
       "      <th>phnH</th>\n",
       "      <td>0.998963</td>\n",
       "      <td>0.781566</td>\n",
       "      <td>-0.217397</td>\n",
       "    </tr>\n",
       "    <tr>\n",
       "      <th>paoB</th>\n",
       "      <td>-0.428504</td>\n",
       "      <td>0.587772</td>\n",
       "      <td>1.016276</td>\n",
       "    </tr>\n",
       "    <tr>\n",
       "      <th>ytfF</th>\n",
       "      <td>-0.136616</td>\n",
       "      <td>0.898429</td>\n",
       "      <td>1.035045</td>\n",
       "    </tr>\n",
       "    <tr>\n",
       "      <th>...</th>\n",
       "      <td>...</td>\n",
       "      <td>...</td>\n",
       "      <td>...</td>\n",
       "    </tr>\n",
       "    <tr>\n",
       "      <th>yicH</th>\n",
       "      <td>-0.066680</td>\n",
       "      <td>0.813369</td>\n",
       "      <td>0.880048</td>\n",
       "    </tr>\n",
       "    <tr>\n",
       "      <th>ydgT</th>\n",
       "      <td>-1.086770</td>\n",
       "      <td>0.545043</td>\n",
       "      <td>1.631814</td>\n",
       "    </tr>\n",
       "    <tr>\n",
       "      <th>yhdX</th>\n",
       "      <td>-0.815944</td>\n",
       "      <td>0.800105</td>\n",
       "      <td>1.616049</td>\n",
       "    </tr>\n",
       "    <tr>\n",
       "      <th>tdcE</th>\n",
       "      <td>0.551099</td>\n",
       "      <td>0.864078</td>\n",
       "      <td>0.312978</td>\n",
       "    </tr>\n",
       "    <tr>\n",
       "      <th>dnaT</th>\n",
       "      <td>-0.856042</td>\n",
       "      <td>0.694587</td>\n",
       "      <td>1.550629</td>\n",
       "    </tr>\n",
       "    <tr>\n",
       "      <th>yjgB</th>\n",
       "      <td>-1.299550</td>\n",
       "      <td>0.986225</td>\n",
       "      <td>2.285775</td>\n",
       "    </tr>\n",
       "    <tr>\n",
       "      <th>yiaG</th>\n",
       "      <td>0.357448</td>\n",
       "      <td>0.578468</td>\n",
       "      <td>0.221020</td>\n",
       "    </tr>\n",
       "    <tr>\n",
       "      <th>eutQ</th>\n",
       "      <td>0.335125</td>\n",
       "      <td>0.851918</td>\n",
       "      <td>0.516793</td>\n",
       "    </tr>\n",
       "    <tr>\n",
       "      <th>alsB</th>\n",
       "      <td>0.796859</td>\n",
       "      <td>0.450892</td>\n",
       "      <td>-0.345967</td>\n",
       "    </tr>\n",
       "    <tr>\n",
       "      <th>yagL</th>\n",
       "      <td>0.441563</td>\n",
       "      <td>0.793103</td>\n",
       "      <td>0.351540</td>\n",
       "    </tr>\n",
       "    <tr>\n",
       "      <th>mhpB</th>\n",
       "      <td>-0.884842</td>\n",
       "      <td>0.701089</td>\n",
       "      <td>1.585930</td>\n",
       "    </tr>\n",
       "    <tr>\n",
       "      <th>ygcQ%202</th>\n",
       "      <td>-1.199811</td>\n",
       "      <td>0.688056</td>\n",
       "      <td>1.887867</td>\n",
       "    </tr>\n",
       "    <tr>\n",
       "      <th>eptA</th>\n",
       "      <td>0.414793</td>\n",
       "      <td>0.776904</td>\n",
       "      <td>0.362111</td>\n",
       "    </tr>\n",
       "    <tr>\n",
       "      <th>fabR%202</th>\n",
       "      <td>-1.074120</td>\n",
       "      <td>0.604515</td>\n",
       "      <td>1.678635</td>\n",
       "    </tr>\n",
       "    <tr>\n",
       "      <th>ygfO</th>\n",
       "      <td>0.224578</td>\n",
       "      <td>0.764632</td>\n",
       "      <td>0.540054</td>\n",
       "    </tr>\n",
       "    <tr>\n",
       "      <th>paaC</th>\n",
       "      <td>-1.320325</td>\n",
       "      <td>0.658963</td>\n",
       "      <td>1.979288</td>\n",
       "    </tr>\n",
       "    <tr>\n",
       "      <th>yhbP</th>\n",
       "      <td>-0.213417</td>\n",
       "      <td>0.421944</td>\n",
       "      <td>0.635361</td>\n",
       "    </tr>\n",
       "    <tr>\n",
       "      <th>nsrR</th>\n",
       "      <td>-0.014816</td>\n",
       "      <td>0.861758</td>\n",
       "      <td>0.876574</td>\n",
       "    </tr>\n",
       "    <tr>\n",
       "      <th>sgcQ</th>\n",
       "      <td>-1.206798</td>\n",
       "      <td>0.698491</td>\n",
       "      <td>1.905289</td>\n",
       "    </tr>\n",
       "    <tr>\n",
       "      <th>mtlD</th>\n",
       "      <td>-0.856880</td>\n",
       "      <td>0.761631</td>\n",
       "      <td>1.618511</td>\n",
       "    </tr>\n",
       "    <tr>\n",
       "      <th>ssuA</th>\n",
       "      <td>-0.313900</td>\n",
       "      <td>0.726806</td>\n",
       "      <td>1.040706</td>\n",
       "    </tr>\n",
       "    <tr>\n",
       "      <th>ycfX</th>\n",
       "      <td>-3.646476</td>\n",
       "      <td>0.478480</td>\n",
       "      <td>4.124956</td>\n",
       "    </tr>\n",
       "    <tr>\n",
       "      <th>yeeW</th>\n",
       "      <td>0.405437</td>\n",
       "      <td>0.443073</td>\n",
       "      <td>0.037636</td>\n",
       "    </tr>\n",
       "    <tr>\n",
       "      <th>rarD%202</th>\n",
       "      <td>-1.246864</td>\n",
       "      <td>0.672260</td>\n",
       "      <td>1.919124</td>\n",
       "    </tr>\n",
       "    <tr>\n",
       "      <th>yigL</th>\n",
       "      <td>-0.396207</td>\n",
       "      <td>0.631996</td>\n",
       "      <td>1.028203</td>\n",
       "    </tr>\n",
       "    <tr>\n",
       "      <th>glpX</th>\n",
       "      <td>-2.148811</td>\n",
       "      <td>0.427638</td>\n",
       "      <td>2.576449</td>\n",
       "    </tr>\n",
       "    <tr>\n",
       "      <th>fsr</th>\n",
       "      <td>-0.449849</td>\n",
       "      <td>0.678832</td>\n",
       "      <td>1.128680</td>\n",
       "    </tr>\n",
       "    <tr>\n",
       "      <th>uxaA</th>\n",
       "      <td>-1.215649</td>\n",
       "      <td>0.486029</td>\n",
       "      <td>1.701678</td>\n",
       "    </tr>\n",
       "    <tr>\n",
       "      <th>yjeL</th>\n",
       "      <td>-0.795939</td>\n",
       "      <td>0.804942</td>\n",
       "      <td>1.600882</td>\n",
       "    </tr>\n",
       "    <tr>\n",
       "      <th>yigZ</th>\n",
       "      <td>-0.412937</td>\n",
       "      <td>0.847763</td>\n",
       "      <td>1.260700</td>\n",
       "    </tr>\n",
       "  </tbody>\n",
       "</table>\n",
       "<p>99 rows × 3 columns</p>\n",
       "</div>"
      ],
      "text/plain": [
       "          scale_ratio_log2  lifespan_ratio_log2  shape_ratio_log2\n",
       "yihV%202          0.120459             0.523195          0.402736\n",
       "norW             -0.599195             0.565141          1.164336\n",
       "norV             -1.198274             0.711431          1.909705\n",
       "bipA              0.532535             0.506582         -0.025953\n",
       "ssuE%202         -1.111346             0.411870          1.523216\n",
       "yoaF              0.494770             0.760847          0.266077\n",
       "ulaD             -0.624050             0.795252          1.419302\n",
       "ycaD              0.792539             0.461605         -0.330935\n",
       "nagZ              0.657077             0.677505          0.020428\n",
       "sspA             -0.537939             0.415037          0.952976\n",
       "lsrC              0.745181             0.516024         -0.229157\n",
       "yfbM             -1.642964             0.726806          2.369770\n",
       "yagH             -0.565922             0.754575          1.320497\n",
       "osmY              0.454990             0.505176          0.050186\n",
       "flgD%202         -0.866836             0.634716          1.501552\n",
       "hycA              0.428256             0.561516          0.133260\n",
       "gspF             -0.988974             0.720419          1.709394\n",
       "yfjO             -0.158675             0.902948          1.061623\n",
       "gspL              0.468580             0.455592         -0.012989\n",
       "gspM             -1.286391             0.534889          1.821280\n",
       "ybdK              0.493357             0.548500          0.055143\n",
       "ydcP              0.775761             0.654237         -0.121523\n",
       "ygjP             -0.414734             0.666956          1.081690\n",
       "mprA             -1.579685             0.735700          2.315384\n",
       "ldcC              0.636440             0.602259         -0.034181\n",
       "tyrB              0.476091             0.723417          0.247327\n",
       "melA             -0.188886             0.825321          1.014207\n",
       "phnH              0.998963             0.781566         -0.217397\n",
       "paoB             -0.428504             0.587772          1.016276\n",
       "ytfF             -0.136616             0.898429          1.035045\n",
       "...                    ...                  ...               ...\n",
       "yicH             -0.066680             0.813369          0.880048\n",
       "ydgT             -1.086770             0.545043          1.631814\n",
       "yhdX             -0.815944             0.800105          1.616049\n",
       "tdcE              0.551099             0.864078          0.312978\n",
       "dnaT             -0.856042             0.694587          1.550629\n",
       "yjgB             -1.299550             0.986225          2.285775\n",
       "yiaG              0.357448             0.578468          0.221020\n",
       "eutQ              0.335125             0.851918          0.516793\n",
       "alsB              0.796859             0.450892         -0.345967\n",
       "yagL              0.441563             0.793103          0.351540\n",
       "mhpB             -0.884842             0.701089          1.585930\n",
       "ygcQ%202         -1.199811             0.688056          1.887867\n",
       "eptA              0.414793             0.776904          0.362111\n",
       "fabR%202         -1.074120             0.604515          1.678635\n",
       "ygfO              0.224578             0.764632          0.540054\n",
       "paaC             -1.320325             0.658963          1.979288\n",
       "yhbP             -0.213417             0.421944          0.635361\n",
       "nsrR             -0.014816             0.861758          0.876574\n",
       "sgcQ             -1.206798             0.698491          1.905289\n",
       "mtlD             -0.856880             0.761631          1.618511\n",
       "ssuA             -0.313900             0.726806          1.040706\n",
       "ycfX             -3.646476             0.478480          4.124956\n",
       "yeeW              0.405437             0.443073          0.037636\n",
       "rarD%202         -1.246864             0.672260          1.919124\n",
       "yigL             -0.396207             0.631996          1.028203\n",
       "glpX             -2.148811             0.427638          2.576449\n",
       "fsr              -0.449849             0.678832          1.128680\n",
       "uxaA             -1.215649             0.486029          1.701678\n",
       "yjeL             -0.795939             0.804942          1.600882\n",
       "yigZ             -0.412937             0.847763          1.260700\n",
       "\n",
       "[99 rows x 3 columns]"
      ]
     },
     "execution_count": 11,
     "metadata": {},
     "output_type": "execute_result"
    }
   ],
   "source": [
    "strain_df.loc[strain_df['lifespan_ratio_log2']>0.4,['scale_ratio_log2','lifespan_ratio_log2','shape_ratio_log2']]"
   ]
  },
  {
   "cell_type": "markdown",
   "metadata": {},
   "source": [
    "# 4. Aging parameter C.I.s"
   ]
  },
  {
   "cell_type": "markdown",
   "metadata": {},
   "source": [
    "### 4.1 Median lifespan: medians estimated non-parametrically from Kaplan-Meier, versus parametrically from GGM"
   ]
  },
  {
   "cell_type": "code",
   "execution_count": 12,
   "metadata": {},
   "outputs": [
    {
     "name": "stdout",
     "output_type": "stream",
     "text": [
      "jump  ydjQ\n",
      "jump  ybaJ\n",
      "jump  uxuR\n",
      "jump  yiaW\n",
      "jump  hslR\n",
      "jump  uxaC\n"
     ]
    }
   ],
   "source": [
    "from cohortMortalitySummary import KaplanMeier\n",
    "def surv_prob_median(surv):\n",
    "    return (surv.index[surv<0.5][0] + surv.index[surv>0.5][-1])*0.5\n",
    "for strain in Fitted.keys():\n",
    "    if strain in strain_error:\n",
    "        print \"jump \", strain\n",
    "        continue\n",
    "    KM = KaplanMeier(dfs_mortality[strain], tgs_mortality[strain])\n",
    "    if KM['upper_ci'].iloc[-1]>0.5:\n",
    "        print strain\n",
    "    else:\n",
    "        strain_df.loc[strain,'med_exp'] = surv_prob_median( KM['survivorship'] )\n",
    "        strain_df.loc[strain,'med_exp_U95%'] = surv_prob_median( KM['upper_ci'] )\n",
    "        strain_df.loc[strain,'med_exp_L95%'] = surv_prob_median( KM['lower_ci'] )\n",
    "    "
   ]
  },
  {
   "cell_type": "code",
   "execution_count": 13,
   "metadata": {},
   "outputs": [
    {
     "data": {
      "text/plain": [
       "Text(0,0.5,'model median lifespan (h)')"
      ]
     },
     "execution_count": 13,
     "metadata": {},
     "output_type": "execute_result"
    },
    {
     "data": {
      "image/png": "[encoded data removed]",
      "text/plain": [
       "<Figure size 432x288 with 1 Axes>"
      ]
     },
     "metadata": {},
     "output_type": "display_data"
    }
   ],
   "source": [
    "plt.plot([float(r) for r in strain_df['med_model']], strain_df['med_exp'],'o')\n",
    "plt.xlabel('experimental median lifespan (h)')\n",
    "plt.ylabel('model median lifespan (h)')\n"
   ]
  },
  {
   "cell_type": "markdown",
   "metadata": {},
   "source": [
    "### 4.2 Calculating C.I.s of aging statistics from bootstrapped GGM parameters"
   ]
  },
  {
   "cell_type": "code",
   "execution_count": 14,
   "metadata": {},
   "outputs": [
    {
     "name": "stdout",
     "output_type": "stream",
     "text": [
      "jump  ydjQ\n",
      "jump  ybaJ\n",
      "jump  uxuR\n",
      "jump  yiaW\n",
      "jump  hslR\n",
      "jump  uxaC\n",
      "jump  ydjQ\n",
      "jump  ybaJ\n",
      "jump  uxuR\n",
      "jump  yiaW\n",
      "jump  hslR\n",
      "jump  uxaC\n"
     ]
    }
   ],
   "source": [
    "for strain in Fitted.keys():\n",
    "    if strain in strain_error:\n",
    "        print \"jump \", strain\n",
    "        continue\n",
    "    stats[strain]['smed'] = stats[strain]['median']*stats[strain]['rate']\n",
    "\n",
    "for strain in Fitted.keys():\n",
    "    if strain in strain_error:\n",
    "        print \"jump \", strain\n",
    "        continue\n",
    "    stats[strain]['inverse_eta'] = stats[strain]['beta']/stats[strain]['s']\n",
    "    strain_df.loc[strain, 'inverse_eta'] = np.median(stats[strain]['beta']/stats[strain]['s'])\n",
    "    strain_df.loc[strain,'model_type'] = Fitted[strain]['type']\n",
    "    strain_df.loc[strain,'shape_exp'] = strain_df.loc[strain,'med_exp']*strain_df.loc[strain,'rate']\n",
    "    strain_df.loc[strain,'shape_med'] = np.median(stats[strain]['median']*stats[strain]['rate'])\n",
    "    \n",
    "    strain_df.loc[strain,'med_model_L95%'] = 0.5*(np.sort(stats[strain]['median'])[int(np.floor(len(stats[strain]['median'])*0.025))]+np.sort(stats[strain]['median'])[1+int(np.floor(len(stats[strain]['median'])*0.025))])\n",
    "    strain_df.loc[strain,'med_model_U95%'] = 0.5*(np.sort(stats[strain]['median'])[int(np.floor(len(stats[strain]['median'])*0.975))]+np.sort(stats[strain]['median'])[1+int(np.floor(len(stats[strain]['median'])*0.975))])\n",
    "    \n",
    "    strain_df.loc[strain,'shape_med_L95%'] = 0.5*(np.sort(stats[strain]['smed'])[int(np.floor(len(stats[strain]['smed'])*0.025))]+np.sort(stats[strain]['smed'])[1+int(np.floor(len(stats[strain]['smed'])*0.025))])\n",
    "    strain_df.loc[strain,'shape_med_U95%'] = 0.5*(np.sort(stats[strain]['smed'])[int(np.floor(len(stats[strain]['smed'])*0.975))]+np.sort(stats[strain]['smed'])[1+int(np.floor(len(stats[strain]['smed'])*0.975))])\n",
    "    \n",
    "strain_df['shape_eta'] = [np.log(s*np.log(2)+1) for s in strain_df['inverse_eta']]\n",
    "\n",
    "strain_df['scale_ratio_log2'] = [np.log2(float(r)) for r in strain_df['scale_ratio']]\n",
    "strain_df['scale_ratio_log2_L95%'] = np.log2(strain_df.loc['MG-WT','rate'])-np.log2(strain_df.loc[:,'rate_U95%'])\n",
    "strain_df['scale_ratio_log2_U95%'] = np.log2(strain_df.loc['MG-WT','rate'])-np.log2(strain_df.loc[:,'rate_L95%'])\n",
    "strain_df['lifespan_ratio_log2'] = np.log2([lf/strain_df.loc['MG-WT','med_exp'] for lf in strain_df.loc[:,'med_exp']])\n",
    "strain_df['lifespan_ratio_log2_L95%'] = np.log2(strain_df.loc[:,'med_exp_L95%']/strain_df.loc['MG-WT','med_exp'])\n",
    "strain_df['lifespan_ratio_log2_U95%'] = np.log2(strain_df.loc[:,'med_exp_U95%']/strain_df.loc['MG-WT','med_exp']) \n",
    "strain_df['shape_ratio_log2'] = [np.log2(float(r)) for r in strain_df['med_ratio']/strain_df['scale_ratio']]\n",
    "strain_df['shape_ratio_log2_L95%'] = np.log2(strain_df.loc[:,'shape_med_L95%']/strain_df.loc['MG-WT','shape_med'])\n",
    "strain_df['shape_ratio_log2_U95%'] = np.log2(strain_df.loc[:,'shape_med_U95%']/strain_df.loc['MG-WT','shape_med'])"
   ]
  },
  {
   "cell_type": "markdown",
   "metadata": {},
   "source": [
    "### 4.3 Drop data with too few imaging positions to avoid large C.I.s"
   ]
  },
  {
   "cell_type": "code",
   "execution_count": 15,
   "metadata": {},
   "outputs": [
    {
     "name": "stdout",
     "output_type": "stream",
     "text": [
      "jump  ydjQ\n",
      "ydjK\n",
      "gspM\n",
      "mprA\n",
      "melA\n",
      "jump  ybaJ\n",
      "dcuA\n",
      "bglF\n",
      "gnsA\n",
      "gltK\n",
      "jump  uxuR\n",
      "yjfJ\n",
      "ybgD\n",
      "rsd\n",
      "70%20thiQ\n",
      "jump  yiaW\n",
      "xdhC\n",
      "ycfX\n",
      "glpX\n",
      "jump  hslR\n",
      "uxaA\n",
      "jump  uxaC\n"
     ]
    }
   ],
   "source": [
    "for strain in dfs_mortality.keys():\n",
    "    if strain in strain_error:\n",
    "        print \"jump \", strain\n",
    "        continue\n",
    "    if len(np.unique(dfs_mortality[strain]['fn'])) < 3:\n",
    "        print strain\n",
    "        strain_df.drop(strain, inplace=True)"
   ]
  },
  {
   "cell_type": "markdown",
   "metadata": {},
   "source": [
    "### 4.4 Classify and plot strains based on significant differences in aging parameters"
   ]
  },
  {
   "cell_type": "code",
   "execution_count": 16,
   "metadata": {},
   "outputs": [],
   "source": [
    "for strain in strain_df.index:\n",
    "    for trait in ['rate', 'med_exp', 'shape_med']:\n",
    "        if strain_df.loc[strain, trait+'_U95%'] < strain_df.loc['MG-WT', trait+'_L95%']:\n",
    "            strain_df.loc[strain, trait+'_overlap_wt'] = -1\n",
    "        elif strain_df.loc[strain, trait+'_L95%'] > strain_df.loc['MG-WT', trait+'_U95%']:\n",
    "            strain_df.loc[strain, trait+'_overlap_wt'] = 1\n",
    "        else:\n",
    "            strain_df.loc[strain, trait+'_overlap_wt'] = 0"
   ]
  },
  {
   "cell_type": "code",
   "execution_count": 17,
   "metadata": {},
   "outputs": [
    {
     "data": {
      "image/png": "[encoded data removed]",
      "text/plain": [
       "<Figure size 720x1008 with 2 Axes>"
      ]
     },
     "metadata": {},
     "output_type": "display_data"
    }
   ],
   "source": [
    "#candidates = ['ompL_new','pgi','uxaB_new','aqpZ','ascG','caiT_new','yagS','yfiD_new', 'appY']\n",
    "rate_diff = set(strain_df.index[strain_df['rate_overlap_wt']!=0])\n",
    "rate_non = set(strain_df.index[strain_df['rate_overlap_wt']==0])\n",
    "lifespan_diff = set(strain_df.index[strain_df['med_exp_overlap_wt']!=0])\n",
    "lifespan_non = set(strain_df.index[strain_df['med_exp_overlap_wt']==0])\n",
    "shape_diff = set(strain_df.index[strain_df['shape_med_overlap_wt']!=0])\n",
    "shape_non = set(strain_df.index[strain_df['shape_med_overlap_wt']==0])\n",
    "\n",
    "f, (ax1, ax2) = plt.subplots(2, sharex=False)\n",
    "\n",
    "ax1.plot(strain_df.loc[set.intersection(rate_diff, lifespan_diff),'scale_ratio_log2'], \n",
    "         strain_df.loc[set.intersection(rate_diff, lifespan_diff),'lifespan_ratio_log2'],\n",
    "         'o',label='p<0.05 for both', color='k', markersize=8, alpha=0.6)\n",
    "#ax1.plot(strain_df.loc[candidates,'scale_ratio_log2'], \n",
    "#         strain_df.loc[candidates,'lifespan_ratio_log2'],\n",
    "#         '.',label='candidates', color='r', markersize=6)\n",
    "ax1.plot(strain_df.loc[set.difference(rate_non, lifespan_non), 'scale_ratio_log2'],\n",
    "         strain_df.loc[set.difference(rate_non, lifespan_non), 'lifespan_ratio_log2'],\n",
    "         'o',label='ageing scale ~ wt',markerfacecolor='none', markeredgecolor='r', alpha=0.4, markersize=10)\n",
    "ax1.plot(strain_df.loc[lifespan_non, 'scale_ratio_log2'],\n",
    "         strain_df.loc[lifespan_non, 'lifespan_ratio_log2'],\n",
    "         'o',label='lifespan ~ wt', markerfacecolor='none', markeredgecolor='g', alpha=0.8, markersize=10)\n",
    "\n",
    "ax1.set_ylabel('$log_2$ relative lifespan')\n",
    "ax1.set_xlabel('$log_2$ relative aging scale')\n",
    "ax1.plot(np.arange(4,-4,-0.1), [0]*80, '-', color='k', alpha=0.8)\n",
    "ax1.plot( [0]*80, np.arange(4,-4,-0.1), '-', color='r', alpha=0.4)\n",
    "ax1.plot(np.arange(2,-3,-0.1), np.arange(2,-3,-0.1), '--', color='b', label='equal shape')\n",
    "ax1.legend(loc=4)\n",
    "\n",
    "\n",
    "ax2.plot(strain_df.loc[set.intersection(shape_diff, rate_diff),'scale_ratio_log2'], \n",
    "         strain_df.loc[set.intersection(shape_diff, rate_diff),'shape_ratio_log2'],\n",
    "         'o',label='p<0.05 for both', color='k', markersize=8, alpha=0.6)\n",
    "#ax2.plot(strain_df.loc[candidates,'scale_ratio_log2'], \n",
    "#         strain_df.loc[candidates,'shape_ratio_log2'],\n",
    "#         '.',label='candidates', color='r', markersize=6)\n",
    "ax2.plot(strain_df.loc[set.difference(shape_non, rate_non), 'scale_ratio_log2'],\n",
    "         strain_df.loc[set.difference(shape_non, rate_non), 'shape_ratio_log2'],\n",
    "        'o',label='ageing shape ~ wt',markerfacecolor='none', markeredgecolor='b', markersize=10)\n",
    "ax2.plot(strain_df.loc[rate_non, 'scale_ratio_log2'],\n",
    "         strain_df.loc[rate_non, 'shape_ratio_log2'],\n",
    "        'o',label='ageing scale ~ wt',markerfacecolor='none', markeredgecolor='r', alpha=0.4, markersize=10)\n",
    "ax2.set_xlabel('$log_2$ relative aging scale')\n",
    "ax2.set_ylabel('$log_2$ relative shape ')\n",
    "ax2.plot(np.arange(3,-4,-0.1), np.arange(-3,4,0.1), '-',color='k', alpha=0.8, label='equal lifespan')\n",
    "ax2.plot( [0]*80, np.arange(4,-4,-0.1), '-', color='r', alpha=0.4)\n",
    "ax2.plot(np.arange(4,-4,-0.1), [0]*80, '--',color='b')\n",
    "ax2.legend(loc=1)\n",
    "\n",
    "ax1.set_xlim([-1.5,1.5])\n",
    "ax2.set_xlim([-1.5,1.5])\n",
    "ax1.set_ylim([-1.6,0.9])\n",
    "ax2.set_ylim([-1,1.5])\n",
    "\n",
    "\n",
    "f.set_size_inches(10,14)"
   ]
  },
  {
   "cell_type": "code",
   "execution_count": 18,
   "metadata": {},
   "outputs": [
    {
     "data": {
      "image/png": "[encoded data removed]",
      "text/plain": [
       "<Figure size 576x504 with 1 Axes>"
      ]
     },
     "metadata": {},
     "output_type": "display_data"
    }
   ],
   "source": [
    "f, (ax1) = plt.subplots(1, sharex=False)\n",
    "\n",
    "ax1.plot(strain_df.loc[set.difference(set.intersection(shape_diff, lifespan_diff),rate_non),'shape_ratio_log2'], \n",
    "         strain_df.loc[set.difference(set.intersection(shape_diff, lifespan_diff),rate_non),'lifespan_ratio_log2'],\n",
    "         'o',label='p<0.05 for both', color='k', markersize=8, alpha=0.6)\n",
    "#ax1.plot(strain_df.loc[candidates,'shape_ratio_log2'], \n",
    "#         strain_df.loc[candidates,'lifespan_ratio_log2'],\n",
    "#         '.',label='candidates', color='r', markersize=6)\n",
    "ax1.plot(strain_df.loc[set.difference(shape_non, lifespan_non), 'shape_ratio_log2'],\n",
    "         strain_df.loc[set.difference(shape_non, lifespan_non), 'lifespan_ratio_log2'],\n",
    "         'o',label='shape ~ wt',markerfacecolor='none', markeredgecolor='b', alpha=0.4, markersize=10)\n",
    "ax1.plot(strain_df.loc[set.difference(rate_non,lifespan_non), 'shape_ratio_log2'],\n",
    "         strain_df.loc[set.difference(rate_non,lifespan_non), 'lifespan_ratio_log2'],\n",
    "        'o',label='ageing scale ~ wt',markerfacecolor='none', markeredgecolor='r', alpha=0.4, markersize=10)\n",
    "ax1.plot(strain_df.loc[lifespan_non, 'shape_ratio_log2'],\n",
    "         strain_df.loc[lifespan_non, 'lifespan_ratio_log2'],\n",
    "         'o',label='lifespan ~ wt', markerfacecolor='none', markeredgecolor='g', alpha=0.8, markersize=10)\n",
    "\n",
    "\n",
    "ax1.set_xlabel('$log_2$ relative shape')\n",
    "ax1.set_ylabel('$log_2$ relative lifespan')\n",
    "ax1.plot(np.arange(-1,1.5,0.1), np.arange(-1,1.5,0.1), 'r--', label='equal timescale')\n",
    "ax1.plot(np.arange(4,-4,-0.1),[0]*80, '-',color='g', alpha=0.8, label='equal lifespan')\n",
    "ax1.plot([0]*80,np.arange(4,-4,-0.1),  '--',color='b', label='equal shape')\n",
    "ax1.legend(loc=4, fontsize=8)\n",
    "\n",
    "ax1.set_ylim([-1.6,0.9])\n",
    "ax1.set_xlim([-1,1.3])\n",
    "\n",
    "\n",
    "f.set_size_inches(8,7)"
   ]
  },
  {
   "cell_type": "markdown",
   "metadata": {},
   "source": [
    "# 5. What is shape? A function of Gompertz intercept"
   ]
  },
  {
   "cell_type": "markdown",
   "metadata": {},
   "source": [
    "### 5.1 Analytical formulation of shape using Gamma-Gompertz parameters: $ln(\\frac{\\beta}{s}ln2+1)$"
   ]
  },
  {
   "cell_type": "markdown",
   "metadata": {},
   "source": [
    "### 5.2 Analytical vs experimental shape"
   ]
  },
  {
   "cell_type": "markdown",
   "metadata": {},
   "source": [
    "__Experimental shape could be calculated using lifespan distribution without assuming parametric models__"
   ]
  },
  {
   "cell_type": "code",
   "execution_count": 19,
   "metadata": {},
   "outputs": [
    {
     "data": {
      "image/png": "[encoded data removed]",
      "text/plain": [
       "<Figure size 576x432 with 1 Axes>"
      ]
     },
     "metadata": {},
     "output_type": "display_data"
    }
   ],
   "source": [
    "f, ( ax1) = plt.subplots(1, sharex=False)\n",
    "\n",
    "ax1.plot(strain_df.loc[strain_df['model_type']=='GG','shape_eta'],\n",
    "         strain_df.loc[strain_df['model_type']=='GG','shape_exp'],'o',label='GG')\n",
    "ax1.plot(strain_df.loc[strain_df['model_type']=='GGM','shape_eta'],\n",
    "         strain_df.loc[strain_df['model_type']=='GGM','shape_exp'],'o',label='GGM')\n",
    "ax1.set_xlabel('Gompertz median')\n",
    "ax1.set_ylabel('Experimental shape (median / scale)')\n",
    "ax1.set_xlim([0,12.5])\n",
    "ax1.set_ylim([0,12.5])\n",
    "ax1.legend(loc=2)\n",
    "\n",
    "ax1.set_xlabel(r'Gompertz shape, $ln(\\frac{\\beta}{s}ln2+1)$')\n",
    "ax1.set_title('GammaGompertz parameters predict shape')\n",
    "\n",
    "f.set_size_inches(8,6)"
   ]
  },
  {
   "cell_type": "markdown",
   "metadata": {},
   "source": [
    "### 5.3 Analytical vs GGM model shape"
   ]
  },
  {
   "cell_type": "markdown",
   "metadata": {},
   "source": [
    "**Shape can also be calculated using fitted GGM models. Ignoring Makeham term do not make much difference**"
   ]
  },
  {
   "cell_type": "code",
   "execution_count": 20,
   "metadata": {},
   "outputs": [
    {
     "data": {
      "image/png": "[encoded data removed]",
      "text/plain": [
       "<Figure size 576x432 with 1 Axes>"
      ]
     },
     "metadata": {},
     "output_type": "display_data"
    }
   ],
   "source": [
    "f, ( ax1) = plt.subplots(1, sharex=False)\n",
    "\n",
    "ax1.plot(strain_df.loc[strain_df['model_type']=='GG','shape_eta'],\n",
    "         strain_df.loc[strain_df['model_type']=='GG','shape_med'],'o',label='GG')\n",
    "ax1.plot(strain_df.loc[strain_df['model_type']=='GGM','shape_eta'],\n",
    "         strain_df.loc[strain_df['model_type']=='GGM','shape_med'],'o',label='GGM')\n",
    "ax1.set_xlabel('Gompertz median')\n",
    "ax1.set_ylabel('Model shape (median / scale)')\n",
    "ax1.set_xlim([0,12.5])\n",
    "ax1.set_ylim([0,12.5])\n",
    "ax1.legend(loc=2)\n",
    "\n",
    "ax1.set_xlabel(r'Gompertz shape, $ln(\\frac{\\beta}{s}ln2+1)$')\n",
    "\n",
    "ax1.set_title('GammaGompertz parameters predict shape')\n",
    "\n",
    "f.set_size_inches(8,6)"
   ]
  },
  {
   "cell_type": "markdown",
   "metadata": {},
   "source": [
    "### 5.4 Shape and Gompertz intercept $\\eta = \\frac{\\beta}{s}$"
   ]
  },
  {
   "cell_type": "code",
   "execution_count": 21,
   "metadata": {},
   "outputs": [
    {
     "data": {
      "image/png": "[encoded data removed]",
      "text/plain": [
       "<Figure size 576x432 with 1 Axes>"
      ]
     },
     "metadata": {},
     "output_type": "display_data"
    }
   ],
   "source": [
    "ax2 = plt.gca()\n",
    "ax2.plot(np.arange(1,10,0.1), [(np.exp(s)-1)/np.log(2) for s in np.arange(1,10,0.1)], 'b',\n",
    "         label=r'Gompertz: $e^{shape}-1 = \\frac{1}{\\eta}ln2$')\n",
    "ax2.set_yscale('log')\n",
    "ax2.set_ylabel('$1/\\\\eta \\\\sim \\\\beta/s$')\n",
    "ax2.set_xlabel('shape = median/scale')\n",
    "ax2.legend(loc=0)\n",
    "ax2.set_title('Rescaled median (\\'shape\\') and Gompertz intercept $\\eta$')\n",
    "\n",
    "plt.gcf().set_size_inches(8,6)"
   ]
  },
  {
   "cell_type": "markdown",
   "metadata": {},
   "source": [
    "## 6. Saving and replotting aging parameters using only initially selected mutants"
   ]
  },
  {
   "cell_type": "markdown",
   "metadata": {},
   "source": [
    "### 6.0 Saving results so far"
   ]
  },
  {
   "cell_type": "code",
   "execution_count": 22,
   "metadata": {},
   "outputs": [],
   "source": [
    "strain_df[['scale','scale_ratio','scale_ratio_log2','rate_overlap_wt',\n",
    "           'med_exp','med_exp_overlap_wt','med_model','med_ratio','lifespan_ratio_log2',\n",
    "           'shape_med','shape_med_overlap_wt','shape_exp','shape_eta','inverse_eta','shape_ratio_log2']].to_csv('/app/src/ms2_post_analysis/csv/Aging parameters.csv')\n",
    "strain_df[['scale_ratio_log2','scale','lifespan_ratio_log2','med_exp',\n",
    "           'shape_ratio_log2','shape_exp',\n",
    "           'rate_overlap_wt','med_exp_overlap_wt','shape_med_overlap_wt']].to_csv(\n",
    "                '/app/src/ms2_post_analysis/csv/Mutant effects on aging parameters.csv')"
   ]
  },
  {
   "cell_type": "markdown",
   "metadata": {},
   "source": [
    "## waiting candidates"
   ]
  },
  {
   "cell_type": "code",
   "execution_count": 23,
   "metadata": {},
   "outputs": [],
   "source": [
    "#strain_df.loc[['MG-WT']+candidates, ['model type']+\n",
    "#              list(np.ravel([[trait,trait+'_L95%',trait+'_U95%'] for trait in ['rate','beta','s','lambda']]))].to_csv(\n",
    "#                '/Users/yyfwuhan/Projects/2018-TaMaRa-Ana-figures/Candidates aging parameters.csv')\n",
    "#strain_df.loc[['WT']+candidates, ['model type']+\n",
    "#              list(np.ravel([[trait,trait+'_L95%',trait+'_U95%'] for trait in ['rate','beta','s','lambda']]))]"
   ]
  },
  {
   "cell_type": "code",
   "execution_count": 24,
   "metadata": {},
   "outputs": [
    {
     "name": "stdout",
     "output_type": "stream",
     "text": [
      "jump  ydjQ\n",
      "jump  ybaJ\n",
      "jump  uxuR\n",
      "jump  yiaW\n",
      "jump  hslR\n",
      "jump  uxaC\n"
     ]
    }
   ],
   "source": [
    "for strain in Fitted.keys():\n",
    "    if strain in strain_error:\n",
    "        print \"jump \", strain\n",
    "        continue\n",
    "    quantiles[strain].to_csv('/app/src/ms2_post_analysis/bootstrap/'+strain+'.csv')"
   ]
  },
  {
   "cell_type": "markdown",
   "metadata": {},
   "source": [
    "### 6.1 Growth yields are only measured for the initially selected mutants"
   ]
  },
  {
   "cell_type": "code",
   "execution_count": null,
   "metadata": {},
   "outputs": [],
   "source": [
    "yield_df = pandas.read_csv('/Users/yyfwuhan/Projects/2018-TaMaRa-Ana-figures/growth/OD 600 at 24h of KO - Sheet1.csv',sep=',')\n",
    "yield_df.set_index('Unnamed: 0', inplace=True)"
   ]
  },
  {
   "cell_type": "code",
   "execution_count": null,
   "metadata": {},
   "outputs": [],
   "source": [
    "initial_genes = list(yield_df.index)\n",
    "initial_strains = [strain for strain in strain_df.index\n",
    "                   if strain.split('_')[0] in initial_genes]\n",
    "other_strains = [strain for strain in strain_df.index\n",
    "                   if strain.split('_')[0] not in initial_genes]\n",
    "for strain in initial_strains:\n",
    "    strain_df.loc[strain, 'yield_mean'] = np.mean(yield_df.loc[strain.split('_')[0], :])\n",
    "    strain_df.loc[strain, 'yield_std'] = np.std(yield_df.loc[strain.split('_')[0], :])"
   ]
  },
  {
   "cell_type": "markdown",
   "metadata": {},
   "source": [
    "### 6.2 Three sub-types are outlined: mutants with wildtype level lifespan or aging scale or shape"
   ]
  },
  {
   "cell_type": "code",
   "execution_count": null,
   "metadata": {},
   "outputs": [],
   "source": [
    "f, (ax1) = plt.subplots(1, sharex=False)\n",
    "\n",
    "#ax1.plot(strain_df.loc[set.difference(set.intersection(set(initial_strains), shape_diff, lifespan_diff),rate_non),'shape_ratio_log2'], \n",
    "#         strain_df.loc[set.difference(set.intersection(set(initial_strains), shape_diff, lifespan_diff),rate_non),'lifespan_ratio_log2'],\n",
    "#         'o',label='p<0.05 for both', color='k', markersize=8, alpha=0.6)\n",
    "#ax1.plot(strain_df.loc[candidates,'shape_ratio_log2'], \n",
    "#         strain_df.loc[candidates,'lifespan_ratio_log2'],\n",
    "#         '.',label='candidates', color='r', markersize=6)\n",
    "#ax1.plot(strain_df.loc[set.intersection(set(initial_strains), set.difference(shape_non, lifespan_non)), 'shape_ratio_log2'],\n",
    "#         strain_df.loc[set.intersection(set(initial_strains), set.difference(shape_non, lifespan_non)), 'lifespan_ratio_log2'],\n",
    "#         'o',label='shape ~ wt',markerfacecolor='none', markeredgecolor='b', alpha=0.4, markersize=10)\n",
    "#ax1.plot(strain_df.loc[set.intersection(set(initial_strains), set.difference(rate_non,lifespan_non)), 'shape_ratio_log2'],\n",
    "#         strain_df.loc[set.intersection(set(initial_strains), set.difference(rate_non,lifespan_non)), 'lifespan_ratio_log2'],\n",
    "#        'o',label='ageing scale ~ wt',markerfacecolor='none', markeredgecolor='r', alpha=0.4, markersize=10)\n",
    "#ax1.plot(strain_df.loc[set.intersection(set(initial_strains), lifespan_non), 'shape_ratio_log2'],\n",
    "#         strain_df.loc[set.intersection(set(initial_strains), lifespan_non), 'lifespan_ratio_log2'],\n",
    "#         'o',label='lifespan ~ wt', markerfacecolor='none', markeredgecolor='g', alpha=0.8, markersize=10)\n",
    "\n",
    "\n",
    "ax1.set_xlabel('$log_2$ relative shape')\n",
    "ax1.set_ylabel('$log_2$ relative lifespan')\n",
    "ax1.plot(np.arange(-1,1.5,0.1), np.arange(-1,1.5,0.1), 'r--', label='equal timescale')\n",
    "ax1.plot(np.arange(4,-4,-0.1),[0]*80, '-',color='g', alpha=0.8, label='equal lifespan')\n",
    "ax1.plot([0]*80,np.arange(4,-4,-0.1),  '--',color='b', label='equal shape')\n",
    "ax1.legend(loc=4, fontsize=8)\n",
    "\n",
    "ax1.set_ylim([-1.6,0.9])\n",
    "ax1.set_xlim([-1,1.3])\n",
    "\n",
    "\n",
    "f.set_size_inches(6,5)"
   ]
  },
  {
   "cell_type": "code",
   "execution_count": null,
   "metadata": {},
   "outputs": [],
   "source": [
    "candidates = ['ompL_new','pgi','uxaB_new','aqpZ','ascG','caiT_new','yagS','yfiD_new', 'appY']\n",
    "rate_diff = set(strain_df.index[strain_df['rate_overlap_wt']!=0])\n",
    "rate_non = set(strain_df.index[strain_df['rate_overlap_wt']==0])\n",
    "lifespan_diff = set(strain_df.index[strain_df['med_exp_overlap_wt']!=0])\n",
    "lifespan_non = set(strain_df.index[strain_df['med_exp_overlap_wt']==0])\n",
    "shape_diff = set(strain_df.index[strain_df['shape_med_overlap_wt']!=0])\n",
    "shape_non = set(strain_df.index[strain_df['shape_med_overlap_wt']==0])\n",
    "\n",
    "f1, (ax1) = plt.subplots(1, sharex=False)\n",
    "f2, (ax2) = plt.subplots(1, sharex=False)\n",
    "\n",
    "ax1.plot(strain_df.loc[set.intersection(set(initial_strains), rate_diff, lifespan_diff, shape_diff),'scale_ratio_log2'], \n",
    "         strain_df.loc[set.intersection(set(initial_strains), rate_diff, lifespan_diff, shape_diff),'lifespan_ratio_log2'],\n",
    "         'o',label='p<0.05 for both', color='k', markersize=8, alpha=0.6)\n",
    "ax1.plot(strain_df.loc[candidates,'scale_ratio_log2'], \n",
    "         strain_df.loc[candidates,'lifespan_ratio_log2'],\n",
    "         '.',label='candidates', color='r', markersize=6)\n",
    "ax1.plot(strain_df.loc[set.intersection(set(initial_strains), set.difference(rate_non, lifespan_non)), 'scale_ratio_log2'],\n",
    "         strain_df.loc[set.intersection(set(initial_strains), set.difference(rate_non, lifespan_non)), 'lifespan_ratio_log2'],\n",
    "         'o',label='ageing scale ~ wt',markerfacecolor='none', markeredgecolor='r', alpha=0.4, markersize=10)\n",
    "ax1.plot(strain_df.loc[set.intersection(set(initial_strains),lifespan_non), 'scale_ratio_log2'],\n",
    "         strain_df.loc[set.intersection(set(initial_strains),lifespan_non), 'lifespan_ratio_log2'],\n",
    "         'o',label='lifespan ~ wt', markerfacecolor='none', markeredgecolor='g', alpha=0.8, markersize=10)\n",
    "ax1.plot(strain_df.loc[set.intersection(set(initial_strains), set.difference(shape_non, rate_non), lifespan_diff), 'scale_ratio_log2'],\n",
    "         strain_df.loc[set.intersection(set(initial_strains), set.difference(shape_non, rate_non), lifespan_diff), 'lifespan_ratio_log2'],\n",
    "        'o',label='ageing shape ~ wt',markerfacecolor='none', markeredgecolor='b', markersize=10)\n",
    "\n",
    "ax1.set_ylabel('$log_2$ relative lifespan')\n",
    "ax1.set_xlabel('$log_2$ relative aging scale')\n",
    "ax1.plot(np.arange(4,-4,-0.1), [0]*80, '-', color='k', alpha=0.8)\n",
    "ax1.plot( [0]*80, np.arange(4,-4,-0.1), '-', color='r', alpha=0.4)\n",
    "ax1.plot(np.arange(2,-3,-0.1), np.arange(2,-3,-0.1), '--', color='b', label='equal shape')\n",
    "ax1.legend(loc=4)\n",
    "\n",
    "\n",
    "ax2.plot(strain_df.loc[set.intersection(set(initial_strains), shape_diff, rate_diff, lifespan_diff),'scale_ratio_log2'], \n",
    "         strain_df.loc[set.intersection(set(initial_strains), shape_diff, rate_diff, lifespan_diff),'shape_ratio_log2'],\n",
    "         'o',label='p<0.05 for both', color='k', markersize=8, alpha=0.6)\n",
    "ax2.plot(strain_df.loc[candidates,'scale_ratio_log2'], \n",
    "         strain_df.loc[candidates,'shape_ratio_log2'],\n",
    "         '.',label='candidates', color='r', markersize=6)\n",
    "ax2.plot(strain_df.loc[set.intersection(set(initial_strains), set.difference(shape_non, rate_non)), 'scale_ratio_log2'],\n",
    "         strain_df.loc[set.intersection(set(initial_strains), set.difference(shape_non, rate_non)), 'shape_ratio_log2'],\n",
    "        'o',label='ageing shape ~ wt',markerfacecolor='none', markeredgecolor='b', markersize=10)\n",
    "ax2.plot(strain_df.loc[set.intersection(set(initial_strains), rate_non), 'scale_ratio_log2'],\n",
    "         strain_df.loc[set.intersection(set(initial_strains), rate_non), 'shape_ratio_log2'],\n",
    "        'o',label='ageing scale ~ wt',markerfacecolor='none', markeredgecolor='r', alpha=0.4, markersize=10)\n",
    "ax2.plot(strain_df.loc[set.intersection(set(initial_strains),lifespan_non), 'scale_ratio_log2'],\n",
    "         strain_df.loc[set.intersection(set(initial_strains),lifespan_non), 'shape_ratio_log2'],\n",
    "         'o',label='lifespan ~ wt', markerfacecolor='none', markeredgecolor='g', alpha=0.8, markersize=10)\n",
    "ax2.set_xlabel('$log_2$ relative aging scale')\n",
    "ax2.set_ylabel('$log_2$ relative shape ')\n",
    "ax2.plot(np.arange(3,-4,-0.1), np.arange(-3,4,0.1), '-',color='k', alpha=0.8, label='equal lifespan')\n",
    "ax2.plot( [0]*80, np.arange(4,-4,-0.1), '-', color='r', alpha=0.4)\n",
    "ax2.plot(np.arange(4,-4,-0.1), [0]*80, '--',color='b')\n",
    "ax2.legend(loc=1)\n",
    "\n",
    "ax1.set_xlim([-1.5,1.5])\n",
    "ax2.set_xlim([-1.5,1.5])\n",
    "ax1.set_ylim([-1.6,0.9])\n",
    "ax2.set_ylim([-1,1.5])\n",
    "\n",
    "\n",
    "f2.set_size_inches(10,7)\n",
    "f1.set_size_inches(10,7)"
   ]
  },
  {
   "cell_type": "markdown",
   "metadata": {},
   "source": [
    "### 6.3 Only two sub-types are outlined: mutants with wildtype level lifespan or aging scale"
   ]
  },
  {
   "cell_type": "code",
   "execution_count": null,
   "metadata": {},
   "outputs": [],
   "source": [
    "candidates = ['ompL_new','pgi','uxaB_new','aqpZ','ascG','caiT_new','yagS','yfiD_new', 'appY']\n",
    "rate_diff = set(strain_df.index[strain_df['rate_overlap_wt']!=0])\n",
    "rate_non = set(strain_df.index[strain_df['rate_overlap_wt']==0])\n",
    "lifespan_diff = set(strain_df.index[strain_df['med_exp_overlap_wt']!=0])\n",
    "lifespan_non = set(strain_df.index[strain_df['med_exp_overlap_wt']==0])\n",
    "shape_diff = set(strain_df.index[strain_df['shape_med_overlap_wt']!=0])\n",
    "shape_non = set(strain_df.index[strain_df['shape_med_overlap_wt']==0])\n",
    "\n",
    "f, (ax1, ax2) = plt.subplots(2, sharex=False)\n",
    "\n",
    "ax1.plot(strain_df.loc[set.intersection(set(initial_strains), rate_diff, lifespan_diff),'scale_ratio_log2'], \n",
    "         strain_df.loc[set.intersection(set(initial_strains), rate_diff, lifespan_diff),'lifespan_ratio_log2'],\n",
    "         'o',label='p<0.05 for both', color='k', markersize=8, alpha=0.6)\n",
    "ax1.plot(strain_df.loc[candidates,'scale_ratio_log2'], \n",
    "         strain_df.loc[candidates,'lifespan_ratio_log2'],\n",
    "         '.',label='candidates', color='r', markersize=6)\n",
    "ax1.plot(strain_df.loc[set.intersection(set(initial_strains), set.difference(rate_non, lifespan_non)), 'scale_ratio_log2'],\n",
    "         strain_df.loc[set.intersection(set(initial_strains), set.difference(rate_non, lifespan_non)), 'lifespan_ratio_log2'],\n",
    "         'o',label='ageing scale ~ wt',markerfacecolor='none', markeredgecolor='r', alpha=0.4, markersize=10)\n",
    "ax1.plot(strain_df.loc[set.intersection(set(initial_strains),lifespan_non), 'scale_ratio_log2'],\n",
    "         strain_df.loc[set.intersection(set(initial_strains),lifespan_non), 'lifespan_ratio_log2'],\n",
    "         'o',label='lifespan ~ wt', markerfacecolor='none', markeredgecolor='g', alpha=0.8, markersize=10)\n",
    "\n",
    "ax1.set_ylabel('$log_2$ relative lifespan')\n",
    "ax1.set_xlabel('$log_2$ relative aging scale')\n",
    "ax1.plot(np.arange(4,-4,-0.1), [0]*80, '-', color='k', alpha=0.8)\n",
    "ax1.plot( [0]*80, np.arange(4,-4,-0.1), '-', color='r', alpha=0.4)\n",
    "ax1.plot(np.arange(2,-3,-0.1), np.arange(2,-3,-0.1), '--', color='b', label='equal shape')\n",
    "ax1.legend(loc=4)\n",
    "\n",
    "\n",
    "ax2.plot(strain_df.loc[set.intersection(set(initial_strains), rate_diff, lifespan_diff),'scale_ratio_log2'], \n",
    "         strain_df.loc[set.intersection(set(initial_strains), rate_diff, lifespan_diff),'shape_ratio_log2'],\n",
    "         'o',label='p<0.05 for both', color='k', markersize=8, alpha=0.6)\n",
    "ax2.plot(strain_df.loc[candidates,'scale_ratio_log2'], \n",
    "         strain_df.loc[candidates,'shape_ratio_log2'],\n",
    "         '.',label='candidates', color='r', markersize=6)\n",
    "ax2.plot(strain_df.loc[set.intersection(set(initial_strains), rate_non), 'scale_ratio_log2'],\n",
    "         strain_df.loc[set.intersection(set(initial_strains), rate_non), 'shape_ratio_log2'],\n",
    "        'o',label='ageing scale ~ wt',markerfacecolor='none', markeredgecolor='r', alpha=0.4, markersize=10)\n",
    "ax2.plot(strain_df.loc[set.intersection(set(initial_strains),lifespan_non), 'scale_ratio_log2'],\n",
    "         strain_df.loc[set.intersection(set(initial_strains),lifespan_non), 'shape_ratio_log2'],\n",
    "         'o',label='lifespan ~ wt', markerfacecolor='none', markeredgecolor='g', alpha=0.8, markersize=10)\n",
    "ax2.set_xlabel('$log_2$ relative aging scale')\n",
    "ax2.set_ylabel('$log_2$ relative shape ')\n",
    "ax2.plot(np.arange(3,-4,-0.1), np.arange(-3,4,0.1), '-',color='k', alpha=0.8, label='equal lifespan')\n",
    "ax2.plot( [0]*80, np.arange(4,-4,-0.1), '-', color='r', alpha=0.4)\n",
    "ax2.plot(np.arange(4,-4,-0.1), [0]*80, '--',color='b')\n",
    "ax2.legend(loc=1)\n",
    "\n",
    "ax1.set_xlim([-1.5,1.5])\n",
    "ax2.set_xlim([-1.5,1.5])\n",
    "ax1.set_ylim([-1.6,0.9])\n",
    "ax2.set_ylim([-1,1.5])\n",
    "\n",
    "\n",
    "f.set_size_inches(10,14)"
   ]
  },
  {
   "cell_type": "code",
   "execution_count": null,
   "metadata": {},
   "outputs": [],
   "source": [
    "f, (ax1) = plt.subplots(1, sharex=False)\n",
    "\n",
    "ax1.plot(strain_df.loc[set.difference(set.intersection(set(initial_strains), lifespan_diff),rate_non),'shape_ratio_log2'], \n",
    "         strain_df.loc[set.difference(set.intersection(set(initial_strains), lifespan_diff),rate_non),'lifespan_ratio_log2'],\n",
    "         'o',label='p<0.05 for both', color='k', markersize=8, alpha=0.6)\n",
    "ax1.plot(strain_df.loc[candidates,'shape_ratio_log2'], \n",
    "         strain_df.loc[candidates,'lifespan_ratio_log2'],\n",
    "         '.',label='candidates', color='r', markersize=6)\n",
    "ax1.plot(strain_df.loc[set.intersection(set(initial_strains), set.difference(rate_non,lifespan_non)), 'shape_ratio_log2'],\n",
    "         strain_df.loc[set.intersection(set(initial_strains), set.difference(rate_non,lifespan_non)), 'lifespan_ratio_log2'],\n",
    "        'o',label='ageing scale ~ wt',markerfacecolor='none', markeredgecolor='r', alpha=0.4, markersize=10)\n",
    "ax1.plot(strain_df.loc[set.intersection(set(initial_strains), lifespan_non), 'shape_ratio_log2'],\n",
    "         strain_df.loc[set.intersection(set(initial_strains), lifespan_non), 'lifespan_ratio_log2'],\n",
    "         'o',label='lifespan ~ wt', markerfacecolor='none', markeredgecolor='g', alpha=0.8, markersize=10)\n",
    "\n",
    "\n",
    "ax1.set_xlabel('$log_2$ relative shape')\n",
    "ax1.set_ylabel('$log_2$ relative lifespan')\n",
    "ax1.plot(np.arange(-1,1.5,0.1), np.arange(-1,1.5,0.1), 'r--', label='equal timescale')\n",
    "ax1.plot(np.arange(4,-4,-0.1),[0]*80, '-',color='g', alpha=0.8, label='equal lifespan')\n",
    "ax1.plot([0]*80,np.arange(4,-4,-0.1),  '--',color='b', label='equal shape')\n",
    "ax1.legend(loc=4, fontsize=8)\n",
    "\n",
    "ax1.set_ylim([-1.6,0.9])\n",
    "ax1.set_xlim([-1,1.3])\n",
    "\n",
    "\n",
    "f.set_size_inches(6,5)"
   ]
  },
  {
   "cell_type": "markdown",
   "metadata": {},
   "source": [
    "# 7. Publication quality exhibitions of mutant lifespan distributions "
   ]
  },
  {
   "cell_type": "code",
   "execution_count": null,
   "metadata": {},
   "outputs": [],
   "source": [
    "import matplotlib as mpl\n",
    "from matplotlib import pyplot as plt\n",
    "import seaborn as sns\n",
    "sns.set_context(\"poster\")\n",
    "sns.set_style(\"white\")"
   ]
  },
  {
   "cell_type": "code",
   "execution_count": null,
   "metadata": {},
   "outputs": [],
   "source": [
    "coordinates = dict()\n",
    "for strain in initial_strains:\n",
    "    coordinates[strain] = (strain_df.loc[strain,'scale_ratio_log2'], strain_df.loc[strain,'lifespan_ratio_log2'])\n",
    "def distance(strain1, strain2):\n",
    "    return np.sqrt(np.sum(np.power(coordinates[strain1][i]-coordinates[strain2][i], 2) for i in range(2)))\n",
    "\n",
    "grid_positions = dict()\n",
    "vectors = dict()\n",
    "to_assign = set(initial_strains)\n",
    "grid_positions['WT']=(0,0)\n",
    "to_assign.remove('WT')\n",
    "while len(to_assign) > 0:\n",
    "    #finding the next strain to assign: closed to already assigned strains\n",
    "    min_dist2grid = 99.0\n",
    "    next_strain2assign = ''\n",
    "    for strain in to_assign:\n",
    "        dist2grid = np.min([distance(strain,assigned) for assigned in grid_positions.keys()])\n",
    "        if dist2grid < min_dist2grid:\n",
    "            next_strain2assign = strain\n",
    "            min_dist2grid = dist2grid\n",
    "    for assigned in grid_positions.keys():\n",
    "        if distance(next_strain2assign,assigned) == min_dist2grid:\n",
    "            #assign next_strain2assign next to its closest assignd neighbor\n",
    "            dist_x = np.abs(coordinates[next_strain2assign][0]-coordinates[assigned][0])\n",
    "            dist_y = np.abs(coordinates[next_strain2assign][1]-coordinates[assigned][1])\n",
    "            if dist_x > dist_y:\n",
    "                grid_positions[next_strain2assign] = (grid_positions[assigned][0], \n",
    "                                                      grid_positions[assigned][1]+\n",
    "                                                     int((coordinates[next_strain2assign][1]-\n",
    "                                                          coordinates[assigned][1])/\n",
    "                                                         dist_y)\n",
    "                                                     )\n",
    "            else:\n",
    "                grid_positions[next_strain2assign] = (grid_positions[assigned][0]+\n",
    "                                                        int((coordinates[next_strain2assign][0]-\n",
    "                                                          coordinates[assigned][0])/dist_x), \n",
    "                                                      grid_positions[assigned][1])\n",
    "            vectors[next_strain2assign] = (assigned, (coordinates[next_strain2assign][0]-coordinates[assigned][0],\n",
    "                                    coordinates[next_strain2assign][1]-coordinates[assigned][1]))\n",
    "            print assigned, grid_positions[assigned], '->', next_strain2assign, grid_positions[next_strain2assign],coordinates[next_strain2assign]\n",
    "            to_assign.remove(next_strain2assign)"
   ]
  },
  {
   "cell_type": "code",
   "execution_count": null,
   "metadata": {},
   "outputs": [],
   "source": [
    "f, (ax1) = plt.subplots(1, sharex=False)\n",
    "\n",
    "ax1.plot(strain_df.loc[set(initial_strains),'scale_ratio_log2'], \n",
    "         strain_df.loc[set(initial_strains),'lifespan_ratio_log2'],\n",
    "         'o',label='p<0.05 for both', color='k', markersize=8, alpha=0.6)\n",
    "for strain, (start, vector) in vectors.items():\n",
    "    ax1.plot([coordinates[start][0], coordinates[strain][0]], [coordinates[start][1], coordinates[strain][1]], 'k-')\n",
    "\n",
    "ax1.set_ylabel('$log_2$ relative lifespan')\n",
    "ax1.set_xlabel('$log_2$ relative aging scale')\n",
    "ax1.plot(np.arange(4,-4,-0.1), [0]*80, '-', color='k', alpha=0.8)\n",
    "ax1.plot( [0]*80, np.arange(4,-4,-0.1), '-', color='r', alpha=0.4)\n",
    "ax1.plot(np.arange(2,-3,-0.1), np.arange(2,-3,-0.1), '--', color='b', label='equal shape')\n",
    "ax1.legend(loc=4)\n",
    "\n",
    "ax1.set_xlim([-1.5,1.5])\n",
    "ax1.set_ylim([-1.6,0.9])\n",
    "\n",
    "f.set_size_inches(10,7)"
   ]
  },
  {
   "cell_type": "code",
   "execution_count": null,
   "metadata": {},
   "outputs": [],
   "source": [
    "sns.violinplot(dfs_mortality['WT']['mortality'],\n",
    "               scale='area',cut=0,bw=0.2,gridsize=100,palette=\"muted\",orient='v',\n",
    "               width=0.2, inner='box')"
   ]
  },
  {
   "cell_type": "code",
   "execution_count": null,
   "metadata": {},
   "outputs": [],
   "source": [
    "from cohortMortalitySummary import KaplanMeier, NelsonAalen, Breslow, BSHazardR, generate_ts_image\n",
    "f, (ax1, ax3) = plt.subplots(2, 1, sharex=True, sharey=False)\n",
    "for strain in list(set.intersection(set(initial_strains), shape_diff, rate_non)):\n",
    "    KM = KaplanMeier(dfs_mortality[strain], tgs_mortality[strain])\n",
    "    ax1.plot(KM.index,KM.loc[:,'survivorship'],linewidth=1.4)\n",
    "    #ax1.plot(tgs_mortality[strain][1:],Fitted[strain]['ML_survivorship'](tgs_mortality[strain][1:]),linewidth=2, linestyle='--',alpha=0.8)\n",
    "    #ax1.fill_between(KM.index,KM.loc[:,'lower_ci'],KM.loc[:,'upper_ci'],\n",
    "    #                        alpha=0.3)\n",
    "    #BSFit = BSFits[strain]\n",
    "    #ax3.plot(BSFit['time'],BSFit['hazard'],linewidth=1.4)\n",
    "    #ax3.fill_between(BSFit['time'],BSFit['lower.ci'],BSFit['upper.ci'],\n",
    "    #                        alpha=0.5)\n",
    "    ax3.plot(tgs_mortality[strain][1:],Fitted[strain]['ML_hazard'](tgs_mortality[strain][1:]),linewidth=2, linestyle='--',alpha=0.8)\n",
    "ax1.set_ylim([0,1])\n",
    "ax1.set_xlim([0,140])\n",
    "ax3.set_yscale('log')\n",
    "ax3.set_ylim([0.00002,0.2])\n",
    "sns.despine()\n",
    "f.set_size_inches(6,8)\n",
    "plt.tight_layout()"
   ]
  },
  {
   "cell_type": "code",
   "execution_count": null,
   "metadata": {},
   "outputs": [],
   "source": [
    "from cohortMortalitySummary import KaplanMeier, NelsonAalen, Breslow, BSHazardR, generate_ts_image\n",
    "f, (ax1, ax3) = plt.subplots(2, 1, sharex=True, sharey=False)\n",
    "for strain in list(set.intersection(set(initial_strains), shape_diff, rate_non)):\n",
    "    KM = KaplanMeier(dfs_mortality[strain], tgs_mortality[strain])\n",
    "    ax1.plot(KM.index,KM.loc[:,'survivorship'],linewidth=1.4)\n",
    "    #ax1.plot(tgs_mortality[strain][1:],Fitted[strain]['ML_survivorship'](tgs_mortality[strain][1:]),linewidth=2, linestyle='--',alpha=0.8)\n",
    "    #ax1.fill_between(KM.index,KM.loc[:,'lower_ci'],KM.loc[:,'upper_ci'],\n",
    "    #                        alpha=0.3)\n",
    "    #BSFit = BSHazardR(dfs_mortality[strain])\n",
    "    #ax3.plot(BSFit['time'],BSFit['hazard'],linewidth=1.4)\n",
    "    #ax3.fill_between(BSFit['time'],BSFit['lower.ci'],BSFit['upper.ci'],\n",
    "    #                        alpha=0.5)\n",
    "    ax3.plot(tgs_mortality[strain][1:],Fitted[strain]['ML_hazard'](tgs_mortality[strain][1:]),linewidth=2, linestyle='--',alpha=0.8)\n",
    "ax1.set_ylim([0,1])\n",
    "ax1.set_xlim([0,140])\n",
    "ax3.set_yscale('log')\n",
    "ax3.set_ylim([0.00002,0.2])\n",
    "sns.despine()\n",
    "f.set_size_inches(6,8)\n",
    "plt.tight_layout()"
   ]
  },
  {
   "cell_type": "code",
   "execution_count": null,
   "metadata": {},
   "outputs": [],
   "source": [
    "from cohortMortalitySummary import KaplanMeier, NelsonAalen, Breslow, BSHazardR, generate_ts_image\n",
    "f, (ax1, ax3) = plt.subplots(2, 1, sharex=True, sharey=False)\n",
    "for strain in list(set.intersection(set(initial_strains), shape_non)):\n",
    "    KM = KaplanMeier(dfs_mortality[strain], tgs_mortality[strain])\n",
    "    ax1.plot(KM.index,KM.loc[:,'survivorship'],linewidth=1.4)\n",
    "    #ax1.plot(tgs_mortality[strain][1:],Fitted[strain]['ML_survivorship'](tgs_mortality[strain][1:]),linewidth=2, linestyle='--',alpha=0.8)\n",
    "    #ax1.fill_between(KM.index,KM.loc[:,'lower_ci'],KM.loc[:,'upper_ci'],\n",
    "    #                        alpha=0.3)\n",
    "    #BSFit = BSFits[strain]\n",
    "    #ax3.plot(BSFit['time'],BSFit['hazard'],linewidth=1.4)\n",
    "    #ax3.fill_between(BSFit['time'],BSFit['lower.ci'],BSFit['upper.ci'],\n",
    "    #                        alpha=0.5)\n",
    "    ax3.plot(tgs_mortality[strain][1:],Fitted[strain]['ML_hazard'](tgs_mortality[strain][1:]),linewidth=2, linestyle='--',alpha=0.8)\n",
    "ax1.set_ylim([0,1])\n",
    "ax1.set_xlim([0,140])\n",
    "ax3.set_yscale('log')\n",
    "ax3.set_ylim([0.0002,0.2])\n",
    "sns.despine()\n",
    "f.set_size_inches(6,8)\n",
    "plt.tight_layout()"
   ]
  },
  {
   "cell_type": "markdown",
   "metadata": {},
   "source": [
    "# 8. Correlations between aging and growth parameters"
   ]
  },
  {
   "cell_type": "markdown",
   "metadata": {},
   "source": [
    "### 8.1 Growth yields vs aging parameters"
   ]
  },
  {
   "cell_type": "code",
   "execution_count": null,
   "metadata": {
    "scrolled": true
   },
   "outputs": [],
   "source": [
    "strain_df['yield_ratio_log2'] = [np.log2(float(r)/strain_df.loc['WT','yield_mean']) for r in strain_df['yield_mean']]\n",
    "strain_df['yield_ratio'] = [float(r)/strain_df.loc['WT','yield_mean'] for r in strain_df['yield_mean']]\n",
    "\n",
    "f, (ax3, ax1, ax2) = plt.subplots(3, sharex=False)\n",
    "\n",
    "ax1.plot(strain_df.loc[initial_strains, 'yield_ratio'], \n",
    "         strain_df.loc[initial_strains, 'scale_ratio'],\n",
    "         'o',label='others')\n",
    "ax1.plot(strain_df.loc[candidates, 'yield_ratio'],\n",
    "         strain_df.loc[candidates, 'scale_ratio'], 'o', label='candidates')\n",
    "ax1.set_ylabel('relative aging scale')\n",
    "ax1.set_xlabel('relative yield')\n",
    "#ax1.plot(np.arange(4,-4,-0.1), [0]*80, '--')\n",
    "#ax1.plot(np.arange(2,-3,-0.1), np.arange(2,-3,-0.1), '--', label='equal shape')\n",
    "ax1.legend(loc=4)\n",
    "\n",
    "\n",
    "ax2.plot(strain_df.loc[initial_strains, 'yield_ratio'], \n",
    "         np.power(2,strain_df.loc[initial_strains, 'shape_ratio_log2']),\n",
    "         'o',label='others')\n",
    "ax2.plot(strain_df.loc[candidates, 'yield_ratio'],\n",
    "         np.power(2,strain_df.loc[candidates, 'shape_ratio_log2']), 'o', label='candidates')\n",
    "ax2.set_xlabel('relative yield')\n",
    "ax2.set_ylabel('relative shape ')\n",
    "#ax2.plot(np.arange(3,-4,-0.1), np.arange(-3,4,0.1), '--', label='equal lifespan')\n",
    "#ax2.plot(np.arange(4,-4,-0.1), [0]*80, '--')\n",
    "#ax2.legend(loc=1)\n",
    "\n",
    "#ax1.set_xlim([-1.5,1.5])\n",
    "#ax2.set_xlim([-1.5,1.5])\n",
    "#ax1.set_ylim([-1.6,0.9])\n",
    "#ax2.set_ylim([-1,1.5])\n",
    "\n",
    "ax3.plot(strain_df.loc[initial_strains, 'yield_ratio'], \n",
    "         strain_df.loc[initial_strains, 'med_ratio'],\n",
    "         'o',label='others')\n",
    "ax3.plot(strain_df.loc[candidates, 'yield_ratio'],\n",
    "         strain_df.loc[candidates, 'med_ratio'], 'o', label='candidates')\n",
    "ax3.set_ylabel('relative lifespan')\n",
    "ax3.set_xlabel('relative yield')\n",
    "#ax1.plot(np.arange(4,-4,-0.1), [0]*80, '--')\n",
    "#ax1.plot(np.arange(2,-3,-0.1), np.arange(2,-3,-0.1), '--', label='equal shape')\n",
    "#ax3.legend(loc=4)\n",
    "\n",
    "f.set_size_inches(10,20)"
   ]
  },
  {
   "cell_type": "code",
   "execution_count": null,
   "metadata": {},
   "outputs": [],
   "source": [
    "growth_curve_raw_df = pandas.read_csv('/Users/yyfwuhan/Projects/2018-TaMaRa-Ana-figures/growth/Growth Curves Raw Data MS1.csv',sep=';')\n",
    "max_od = growth_curve_raw_df.iloc[0,1:]\n",
    "for gene in max_od.index:\n",
    "    value = float(max_od.loc[gene].replace(',','.'))\n",
    "    if '.' not in gene:\n",
    "        yield_df.loc[gene, 'R1'] = value - 0.044\n",
    "    else:\n",
    "        yield_df.loc[gene.split('.')[0], 'R'+str(int(gene.split('.')[1])+1)] = value - 0.044"
   ]
  },
  {
   "cell_type": "code",
   "execution_count": null,
   "metadata": {
    "scrolled": true
   },
   "outputs": [],
   "source": [
    "strain_df['yield_ratio_log2'] = [np.log2(float(r)/strain_df.loc['WT','yield_mean']) for r in strain_df['yield_mean']]\n",
    "strain_df['yield_ratio'] = [float(r)/strain_df.loc['WT','yield_mean'] for r in strain_df['yield_mean']]\n",
    "\n",
    "f, (ax3, ax1, ax2) = plt.subplots(3, sharex=False)\n",
    "\n",
    "ax1.plot(strain_df.loc[initial_strains, 'yield_ratio'], \n",
    "         strain_df.loc[initial_strains, 'scale_ratio'],\n",
    "         'o',label='others')\n",
    "ax1.plot(strain_df.loc[candidates, 'yield_ratio'],\n",
    "         strain_df.loc[candidates, 'scale_ratio'], 'o', label='candidates')\n",
    "ax1.set_ylabel('relative aging scale')\n",
    "ax1.set_xlabel('relative yield')\n",
    "#ax1.plot(np.arange(4,-4,-0.1), [0]*80, '--')\n",
    "#ax1.plot(np.arange(2,-3,-0.1), np.arange(2,-3,-0.1), '--', label='equal shape')\n",
    "ax1.legend(loc=4)\n",
    "\n",
    "\n",
    "ax2.plot(strain_df.loc[initial_strains, 'yield_ratio'], \n",
    "         np.power(2,strain_df.loc[initial_strains, 'shape_ratio_log2']),\n",
    "         'o',label='others')\n",
    "ax2.plot(strain_df.loc[candidates, 'yield_ratio'],\n",
    "         np.power(2,strain_df.loc[candidates, 'shape_ratio_log2']), 'o', label='candidates')\n",
    "ax2.set_xlabel('relative yield')\n",
    "ax2.set_ylabel('relative shape ')\n",
    "#ax2.plot(np.arange(3,-4,-0.1), np.arange(-3,4,0.1), '--', label='equal lifespan')\n",
    "#ax2.plot(np.arange(4,-4,-0.1), [0]*80, '--')\n",
    "#ax2.legend(loc=1)\n",
    "\n",
    "#ax1.set_xlim([-1.5,1.5])\n",
    "#ax2.set_xlim([-1.5,1.5])\n",
    "#ax1.set_ylim([-1.6,0.9])\n",
    "#ax2.set_ylim([-1,1.5])\n",
    "\n",
    "ax3.plot(strain_df.loc[initial_strains, 'yield_ratio'], \n",
    "         strain_df.loc[initial_strains, 'med_ratio'],\n",
    "         'o',label='others')\n",
    "ax3.plot(strain_df.loc[candidates, 'yield_ratio'],\n",
    "         strain_df.loc[candidates, 'med_ratio'], 'o', label='candidates')\n",
    "ax3.set_ylabel('relative lifespan')\n",
    "ax3.set_xlabel('relative yield')\n",
    "#ax1.plot(np.arange(4,-4,-0.1), [0]*80, '--')\n",
    "#ax1.plot(np.arange(2,-3,-0.1), np.arange(2,-3,-0.1), '--', label='equal shape')\n",
    "#ax3.legend(loc=4)\n",
    "\n",
    "f.set_size_inches(10,20)"
   ]
  },
  {
   "cell_type": "markdown",
   "metadata": {},
   "source": [
    "### 8.2 Growth rates vs aging parameters"
   ]
  },
  {
   "cell_type": "code",
   "execution_count": null,
   "metadata": {},
   "outputs": [],
   "source": [
    "grate_df = pandas.read_csv('/Users/yyfwuhan/Projects/2018-TaMaRa-Ana-figures/growth/Growth Rate of KO - Sheet1.csv',sep=',')\n",
    "grate_df.set_index('Unnamed: 0', inplace=True)\n",
    "\n",
    "initial_genes = list(grate_df.index)\n",
    "initial_strains = [strain for strain in strain_df.index\n",
    "                   if strain.split('_')[0] in initial_genes]\n",
    "other_strains = [strain for strain in strain_df.index\n",
    "                   if strain.split('_')[0] not in initial_genes]\n",
    "for strain in initial_strains:\n",
    "    strain_df.loc[strain, 'growr_mean'] = np.mean(grate_df.loc[strain.split('_')[0], :])\n",
    "    strain_df.loc[strain, 'growr_std'] = np.std(grate_df.loc[strain.split('_')[0], :])"
   ]
  },
  {
   "cell_type": "code",
   "execution_count": null,
   "metadata": {
    "scrolled": true
   },
   "outputs": [],
   "source": [
    "strain_df['growr_ratio_log2'] = [np.log2(float(r)/strain_df.loc['WT','growr_mean']) for r in strain_df['growr_mean']]\n",
    "strain_df['growr_ratio'] = [float(r)/strain_df.loc['WT','growr_mean'] for r in strain_df['growr_mean']]\n",
    "\n",
    "f, (ax3, ax1, ax2) = plt.subplots(3, sharex=False)\n",
    "\n",
    "ax1.plot(strain_df.loc[initial_strains, 'growr_ratio_log2'], \n",
    "         strain_df.loc[initial_strains, 'scale_ratio_log2'],\n",
    "         'o',label='others')\n",
    "ax1.plot(strain_df.loc[candidates, 'growr_ratio_log2'],\n",
    "         strain_df.loc[candidates, 'scale_ratio_log2'], 'o', label='candidates')\n",
    "ax1.set_ylabel('$log_2$ relative aging scale')\n",
    "ax1.set_xlabel('$log_2$ relative growth rate')\n",
    "#ax1.plot(np.arange(4,-4,-0.1), [0]*80, '--')\n",
    "#ax1.plot(np.arange(2,-3,-0.1), np.arange(2,-3,-0.1), '--', label='equal shape')\n",
    "#ax2.legend(loc=4)\n",
    "\n",
    "\n",
    "ax2.plot(strain_df.loc[initial_strains, 'growr_ratio_log2'], \n",
    "         np.power(2,strain_df.loc[initial_strains, 'shape_ratio_log2']),\n",
    "         'o',label='others')\n",
    "ax2.plot(strain_df.loc[candidates, 'growr_ratio_log2'],\n",
    "         np.power(2,strain_df.loc[candidates, 'shape_ratio_log2']), 'o', label='candidates')\n",
    "ax2.set_xlabel('$log_2$ relative growth rate')\n",
    "ax2.set_ylabel('$log_2$ relative shape ')\n",
    "#ax2.plot(np.arange(3,-4,-0.1), np.arange(-3,4,0.1), '--', label='equal lifespan')\n",
    "#ax2.plot(np.arange(4,-4,-0.1), [0]*80, '--')\n",
    "ax2.legend(loc=1)\n",
    "\n",
    "#ax1.set_xlim([-1.5,1.5])\n",
    "#ax2.set_xlim([-1.5,1.5])\n",
    "#ax1.set_ylim([-1.6,0.9])\n",
    "#ax2.set_ylim([-1,1.5])\n",
    "\n",
    "ax3.plot(strain_df.loc[initial_strains, 'growr_ratio_log2'], \n",
    "         strain_df.loc[initial_strains, 'lifespan_ratio_log2'],\n",
    "         'o',label='others')\n",
    "ax3.plot(strain_df.loc[candidates, 'growr_ratio_log2'],\n",
    "         strain_df.loc[candidates, 'lifespan_ratio_log2'], 'o', label='candidates')\n",
    "ax3.set_ylabel('$log_2$ relative lifespan')\n",
    "ax3.set_xlabel('$log_2$ relative growth rate')\n",
    "#ax1.plot(np.arange(4,-4,-0.1), [0]*80, '--')\n",
    "#ax1.plot(np.arange(2,-3,-0.1), np.arange(2,-3,-0.1), '--', label='equal shape')\n",
    "#ax3.legend(loc=4)\n",
    "\n",
    "f.set_size_inches(10,20)"
   ]
  },
  {
   "cell_type": "code",
   "execution_count": null,
   "metadata": {},
   "outputs": [],
   "source": [
    "grate_df_new = pandas.read_csv('/Users/yyfwuhan/Projects/2018-TaMaRa-Ana-figures/growth/growth_rate_max_xiaohu.csv',sep=',')\n",
    "grate_dict = dict()\n",
    "for i in range(len(grate_df_new)):\n",
    "    name = grate_df_new.iloc[i,0]\n",
    "    if grate_dict.has_key(name.split('-')[0]):\n",
    "        grate_dict[name.split('-')[0]].append(grate_df_new.iloc[i,1])\n",
    "    else:\n",
    "        grate_dict[name.split('-')[0]] = [grate_df_new.iloc[i,1]]\n",
    "initial_genes = list()\n",
    "initial_strains = list()\n",
    "for gene, grates in grate_dict.items():\n",
    "    init_mean = np.mean(grates)\n",
    "    init_std = np.std(grates)\n",
    "    for gr in grates:\n",
    "        if np.abs(gr - init_mean) > 2*init_std:\n",
    "            print gene, gr, init_mean, init_std\n",
    "            grates.remove(gr)\n",
    "    if len(grates) != 0:\n",
    "        initial_genes.append(gene)\n",
    "        initial_strains.extend([strain for strain in strain_df.index if strain.split('_')[0] == gene])\n",
    "        strain = initial_strains[-1]\n",
    "        strain_df.loc[strain, 'growr_mean'] = np.mean(grates)\n",
    "        strain_df.loc[strain, 'growr_std'] = np.std(grates)\n",
    "        \n",
    "other_strains = [strain for strain in strain_df.index\n",
    "                   if strain.split('_')[0] not in initial_genes]"
   ]
  },
  {
   "cell_type": "code",
   "execution_count": null,
   "metadata": {
    "scrolled": true
   },
   "outputs": [],
   "source": [
    "strain_df['growr_ratio_log2'] = [np.log2(float(r)/strain_df.loc['WT','growr_mean']) for r in strain_df['growr_mean']]\n",
    "strain_df['growr_ratio'] = [float(r)/strain_df.loc['WT','growr_mean'] for r in strain_df['growr_mean']]\n",
    "\n",
    "f, (ax3, ax1, ax2) = plt.subplots(3, sharex=False)\n",
    "\n",
    "ax1.plot(strain_df.loc[initial_strains, 'growr_ratio_log2'], \n",
    "         strain_df.loc[initial_strains, 'scale_ratio_log2'],\n",
    "         'o',label='others')\n",
    "ax1.plot(strain_df.loc[candidates, 'growr_ratio_log2'],\n",
    "         strain_df.loc[candidates, 'scale_ratio_log2'], 'o', label='candidates')\n",
    "ax1.set_ylabel('$log_2$ relative aging scale')\n",
    "ax1.set_xlabel('$log_2$ relative growth rate')\n",
    "#ax1.plot(np.arange(4,-4,-0.1), [0]*80, '--')\n",
    "#ax1.plot(np.arange(2,-3,-0.1), np.arange(2,-3,-0.1), '--', label='equal shape')\n",
    "#ax2.legend(loc=4)\n",
    "\n",
    "\n",
    "ax2.plot(strain_df.loc[initial_strains, 'growr_ratio_log2'], \n",
    "         np.power(2,strain_df.loc[initial_strains, 'shape_ratio_log2']),\n",
    "         'o',label='others')\n",
    "ax2.plot(strain_df.loc[candidates, 'growr_ratio_log2'],\n",
    "         np.power(2,strain_df.loc[candidates, 'shape_ratio_log2']), 'o', label='candidates')\n",
    "ax2.set_xlabel('$log_2$ relative growth rate')\n",
    "ax2.set_ylabel('$log_2$ relative shape ')\n",
    "#ax2.plot(np.arange(3,-4,-0.1), np.arange(-3,4,0.1), '--', label='equal lifespan')\n",
    "#ax2.plot(np.arange(4,-4,-0.1), [0]*80, '--')\n",
    "ax2.legend(loc=1)\n",
    "\n",
    "#ax1.set_xlim([-1.5,1.5])\n",
    "#ax2.set_xlim([-1.5,1.5])\n",
    "#ax1.set_ylim([-1.6,0.9])\n",
    "#ax2.set_ylim([-1,1.5])\n",
    "\n",
    "ax3.plot(strain_df.loc[initial_strains, 'growr_ratio_log2'], \n",
    "         strain_df.loc[initial_strains, 'lifespan_ratio_log2'],\n",
    "         'o',label='others')\n",
    "ax3.plot(strain_df.loc[candidates, 'growr_ratio_log2'],\n",
    "         strain_df.loc[candidates, 'lifespan_ratio_log2'], 'o', label='candidates')\n",
    "ax3.set_ylabel('$log_2$ relative lifespan')\n",
    "ax3.set_xlabel('$log_2$ relative growth rate')\n",
    "#ax1.plot(np.arange(4,-4,-0.1), [0]*80, '--')\n",
    "#ax1.plot(np.arange(2,-3,-0.1), np.arange(2,-3,-0.1), '--', label='equal shape')\n",
    "#ax3.legend(loc=4)\n",
    "\n",
    "f.set_size_inches(10,20)"
   ]
  },
  {
   "cell_type": "markdown",
   "metadata": {},
   "source": [
    "### 8.3 Strains with extreme growth rates: are growth rate estimates correct?"
   ]
  },
  {
   "cell_type": "code",
   "execution_count": null,
   "metadata": {},
   "outputs": [],
   "source": [
    "strain_df.loc[strain_df['growr_ratio_log2']>1,['growr_ratio_log2','scale_ratio_log2','lifespan_ratio_log2','shape_ratio_log2']]"
   ]
  },
  {
   "cell_type": "code",
   "execution_count": null,
   "metadata": {},
   "outputs": [],
   "source": [
    "strain_df.loc[strain_df['growr_ratio_log2']<-0.75,['growr_ratio_log2','scale_ratio_log2','lifespan_ratio_log2','shape_ratio_log2']]"
   ]
  }
 ],
 "metadata": {
  "kernelspec": {
   "display_name": "Python 2",
   "language": "python",
   "name": "python2"
  },
  "language_info": {
   "codemirror_mode": {
    "name": "ipython",
    "version": 2
   },
   "file_extension": ".py",
   "mimetype": "text/x-python",
   "name": "python",
   "nbconvert_exporter": "python",
   "pygments_lexer": "ipython2",
   "version": "2.7.16"
  }
 },
 "nbformat": 4,
 "nbformat_minor": 2
}
