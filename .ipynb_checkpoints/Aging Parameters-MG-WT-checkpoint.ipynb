{
 "cells": [
  {
   "cell_type": "markdown",
   "metadata": {},
   "source": [
    "# 1. Data input"
   ]
  },
  {
   "cell_type": "markdown",
   "metadata": {},
   "source": [
    "### 1.1 Read the metadata table (clusters_df): strain name and paths of their mortality data .pickles"
   ]
  },
  {
   "cell_type": "code",
   "execution_count": 1,
   "metadata": {},
   "outputs": [
    {
     "name": "stdout",
     "output_type": "stream",
     "text": [
      "/app/src/ms2_post_analysis\n",
      "not fit GG or GGM alr\n",
      "not fit GG or GGM atoS\n",
      "not fit GG or GGM hybG\n"
     ]
    }
   ],
   "source": [
    "import os, pandas\n",
    "%cd '/app/src/ms2_post_analysis'\n",
    "from math import isnan\n",
    "csv_df = pandas.read_csv('Github Links MS2 - Sheet1.csv',sep=',')\n",
    "#clusters_df = csv_df.drop([0])\n",
    "clusters_df = csv_df\n",
    "clusters_df = clusters_df.iloc[:,:]\n",
    "clusters_df.columns = ['genotype','url','cluster', 'Obs','Unnamed','Unnamed']\n",
    "clusters_df = clusters_df[clusters_df['url']!='in progress']\n",
    "clusters_df = clusters_df[clusters_df['url'].isnull()==False]\n",
    "\n",
    "to_drop = []\n",
    "import urlparse, urllib\n",
    "from os import path\n",
    "for i in range(len(clusters_df)):\n",
    "    url_parsed = urlparse.urlparse(clusters_df.iloc[i]['url'])\n",
    "    relative_path = urllib.unquote('/'.join(url_parsed.path.split('/')[5:])).decode('utf8')\n",
    "    clusters_df.loc[clusters_df.index[i], 'path'] = relative_path\n",
    "    strain_name = url_parsed.path.split('/')[-1]\n",
    "    if isnan(clusters_df.loc[clusters_df.index[i], 'cluster']):\n",
    "        print \"not fit GG or GGM\",strain_name\n",
    "        to_drop.append(i)\n",
    "        continue\n",
    "    clusters_df.loc[clusters_df.index[i], 'strain'] = strain_name\n",
    "    clusters_df.loc[clusters_df.index[i], 'cluster'] = str(int(clusters_df.loc[clusters_df.index[i], 'cluster']))\n",
    "\n",
    "clusters_df = clusters_df.drop(to_drop)"
   ]
  },
  {
   "cell_type": "markdown",
   "metadata": {},
   "source": [
    "### 1.2 Locate mortality clusters"
   ]
  },
  {
   "cell_type": "code",
   "execution_count": null,
   "metadata": {},
   "outputs": [],
   "source": [
    "%cd '/app/src/ms2'"
   ]
  },
  {
   "cell_type": "code",
   "execution_count": null,
   "metadata": {},
   "outputs": [],
   "source": [
    "import re\n",
    "to_drop = []\n",
    "for ind in clusters_df.index:\n",
    "    #print clusters_df.loc[ind]['path']\n",
    "    try:\n",
    "        re_mortality1 = re.compile('(.*) mortality_dataframe_cluster(\\d).pickle')\n",
    "        re_mortality2 = re.compile('(.*)_mortality_dataframe_cluster(\\d).pickle')\n",
    "        re_mortality = re.compile('(.*?.)mortality_dataframe_cluster(\\d).pickle')\n",
    "        matches1 = [fn for fn in os.listdir(clusters_df.loc[ind,'path']) if re.match(re_mortality1, fn)]\n",
    "        matches2 = [fn for fn in os.listdir(clusters_df.loc[ind,'path']) if re.match(re_mortality2, fn)]\n",
    "        matches = (matches1, matches2)[len(matches1) == 0]\n",
    "        if len(set([re.match(re_mortality, fn).groups()[0] for fn in matches]))>1:\n",
    "                raise Exception(matches)\n",
    "        if len(matches) < int(clusters_df.loc[ind,'cluster']):\n",
    "            raise Exception(matches.__str__)\n",
    "        basename = re.match(re_mortality, matches[0]).groups()[0]\n",
    "        clusters_df.loc[ind, 'basename'] = basename\n",
    "    except:\n",
    "        to_drop.append(ind)\n",
    "print to_drop\n",
    "clusters_df = clusters_df.drop(to_drop)        \n"
   ]
  },
  {
   "cell_type": "code",
   "execution_count": null,
   "metadata": {},
   "outputs": [],
   "source": [
    "from os import path\n",
    "for ind in clusters_df.index:\n",
    "    re_mortality = re.compile(clusters_df.loc[ind, 'basename']+'mortality_dataframe_cluster'+'\\d'+'.pickle')\n",
    "    matches = [fn for fn in os.listdir(clusters_df.loc[ind,'path']) if re.match(re_mortality, fn)]\n",
    "    if len(matches)-1 < int(clusters_df.loc[ind,'cluster']):\n",
    "        print 'Droped: ',clusters_df.loc[ind,'path'], matches, clusters_df.loc[ind,'cluster']\n",
    "        clusters_df.drop(ind,inplace=True)\n",
    "        "
   ]
  },
  {
   "cell_type": "markdown",
   "metadata": {},
   "source": [
    "### 1.4 Drop data known to not fit GGM"
   ]
  },
  {
   "cell_type": "markdown",
   "metadata": {},
   "source": [
    "### 1.5 Load mortality .pickles (pip install pandas==0.19.2)"
   ]
  },
  {
   "cell_type": "code",
   "execution_count": null,
   "metadata": {},
   "outputs": [],
   "source": [
    "import pickle\n",
    "import numpy as np\n",
    "import pandas as pd\n",
    "#from Df_timegrid import Df_timegrid\n",
    "dfs_mortality = dict()\n",
    "tgs_mortality = dict()\n",
    "for ind in clusters_df.index:\n",
    "    fn_mortality = path.join(clusters_df.loc[ind,'path'], clusters_df.loc[ind,'basename']+'mortality_dataframe_cluster'+clusters_df.loc[ind,'cluster']+'.pickle' )\n",
    "    fn_timegrid = path.join(clusters_df.loc[ind,'path'], clusters_df.loc[ind,'basename']+'relative_timegrid_cluster'+clusters_df.loc[ind,'cluster']+'.pickle' )\n",
    "    dfs_mortality[clusters_df.loc[ind,'strain']] = pickle.load( open(fn_mortality, 'rb') )\n",
    "    tg = pickle.load( open(fn_timegrid, 'rb') )\n",
    "    tgs_mortality[clusters_df.loc[ind,'strain']] = np.array(pd.Series(tg)[tg<=np.max(dfs_mortality[clusters_df.loc[ind,'strain']]['mortality'])])"
   ]
  },
  {
   "cell_type": "markdown",
   "metadata": {},
   "source": [
    "# 2. Redo statistical mortality analysis and quality control"
   ]
  },
  {
   "cell_type": "markdown",
   "metadata": {},
   "source": [
    "### 2.1 Fit to GG or GGM"
   ]
  },
  {
   "cell_type": "code",
   "execution_count": null,
   "metadata": {
    "scrolled": true
   },
   "outputs": [],
   "source": [
    "%cd '/app/src/ms2_post_analysis'\n",
    "from cohortMortalitySummary import GGMfit, GGfit\n",
    "GGM_fitted = dict()\n",
    "GG_fitted = dict()\n",
    "Fitted = dict()\n",
    "for ind in clusters_df.index:\n",
    "    GGM_fitted[clusters_df.loc[ind,'strain']] = GGMfit(dfs_mortality[clusters_df.loc[ind,'strain']])\n",
    "    try:\n",
    "        GG_fitted[clusters_df.loc[ind,'strain']] = GGfit(dfs_mortality[clusters_df.loc[ind,'strain']])\n",
    "        if GG_fitted[clusters_df.loc[ind,'strain']]['AIC'] < GGM_fitted[clusters_df.loc[ind,'strain']]['AIC']:\n",
    "            Fitted[clusters_df.loc[ind,'strain']] = GG_fitted[clusters_df.loc[ind,'strain']]\n",
    "            Fitted[clusters_df.loc[ind,'strain']]['type'] = 'GG'\n",
    "            print clusters_df.loc[ind,'strain'] + ': GG'\n",
    "        else:\n",
    "            Fitted[clusters_df.loc[ind,'strain']] = GGM_fitted[clusters_df.loc[ind,'strain']]\n",
    "            Fitted[clusters_df.loc[ind,'strain']]['type'] = 'GGM'\n",
    "            print clusters_df.loc[ind,'strain'] + ': GGM'\n",
    "    except:\n",
    "        Fitted[clusters_df.loc[ind,'strain']] = GGM_fitted[clusters_df.loc[ind,'strain']]\n",
    "        Fitted[clusters_df.loc[ind,'strain']]['type'] = 'GGM'\n",
    "        print clusters_df.loc[ind,'strain'] + ': GGM'"
   ]
  },
  {
   "cell_type": "code",
   "execution_count": null,
   "metadata": {},
   "outputs": [],
   "source": [
    "import dill\n",
    "dill_file = open(\"dill/Fitted.p\", \"wb\")\n",
    "dill_file.write(dill.dumps(Fitted))\n",
    "dill_file.close()\n",
    "\n",
    "import dill\n",
    "dill_file = open(\"dill/dfs_mortality.p\", \"wb\")\n",
    "dill_file.write(dill.dumps(dfs_mortality))\n",
    "dill_file.close()\n",
    "\n",
    "import dill\n",
    "dill_file = open(\"dill/tgs_mortality.p\", \"wb\")\n",
    "dill_file.write(dill.dumps(tgs_mortality))\n",
    "dill_file.close()\n",
    "\n",
    "import dill\n",
    "dill_file = open(\"dill/quantiles.p\", \"wb\")\n",
    "dill_file.write(dill.dumps(quantiles))\n",
    "dill_file.close()\n",
    "\n",
    "import dill\n",
    "dill_file = open(\"dill/KStests.p\", \"wb\")\n",
    "dill_file.write(dill.dumps(KStests))\n",
    "dill_file.close()\n",
    "\n",
    "import dill\n",
    "dill_file = open(\"dill/stats.p\", \"wb\")\n",
    "dill_file.write(dill.dumps(stats))\n",
    "dill_file.close()"
   ]
  },
  {
   "cell_type": "code",
   "execution_count": null,
   "metadata": {},
   "outputs": [],
   "source": [
    "%pwd"
   ]
  },
  {
   "cell_type": "markdown",
   "metadata": {},
   "source": [
    "### 2.2 Generate bootstrapped statistics: Medians, GGM parameters"
   ]
  },
  {
   "cell_type": "code",
   "execution_count": 4,
   "metadata": {},
   "outputs": [],
   "source": [
    "#%cd '/app/src/ms2_post_analysis'\n",
    "from cohortMortalitySummary import rflexsurv, globalenv, ro, pandas2ri\n",
    "import numpy as np\n",
    "import os\n",
    "flexsurvreg = rflexsurv.flexsurvreg\n",
    "normboot = rflexsurv.normboot_flexsurvreg\n",
    "ro.r.source(os.path.join( 'Rmodels', 'GammaGompertz.R'), echo=False,verbose=False);\n",
    "ro.r.source(os.path.join( 'Rmodels', 'GammaGompertzMakeham.R'), echo=False,verbose=False);\n",
    "qgammagompertz = globalenv['qgammagompertz']\n",
    "pgammagompertzmakeham = globalenv['pgammagompertzmakeham']\n",
    "def gg_med(para):\n",
    "    return np.array(qgammagompertz(0.5,\n",
    "                        para['beta'],\n",
    "                        para['s'],\n",
    "                        para['rate']))[0]\n",
    "\n",
    "def ggm_med(para, precision=0.1, max_t = 150):\n",
    "    ptime = np.arange(0,max_t,precision)\n",
    "    rtime = ro.Vector(ptime)\n",
    "    probs = np.array(pgammagompertzmakeham(rtime,para['rate'],\n",
    "                                            para['beta'],\n",
    "                                            para['s'],\n",
    "                                            para['lambda']))\n",
    "    while probs[-1]<0.5:\n",
    "        ptime = np.arange(max_t, max_t+100, precision)\n",
    "        rtime = ro.Vector(ptime)\n",
    "        probs = np.array(pgammagompertzmakeham(rtime,para['rate'],\n",
    "                                            para['beta'],\n",
    "                                            para['s'],\n",
    "                                            para['lambda']))\n",
    "        max_t += 100\n",
    "    return ptime[probs>=0.5][0]\n",
    "    "
   ]
  },
  {
   "cell_type": "code",
   "execution_count": null,
   "metadata": {
    "scrolled": true
   },
   "outputs": [],
   "source": [
    "import pandas as pd\n",
    "stats = dict()\n",
    "strain_error = []\n",
    "for strain in Fitted.keys():\n",
    "    print strain\n",
    "    try:\n",
    "        paras = pandas2ri.ri2py(normboot(Fitted[strain]['flexsurvreg'],B=50000))\n",
    "        if Fitted[strain]['type'] == 'GGM':\n",
    "            stats[strain]=pd.DataFrame(data=paras,columns=['rate','beta','s','lambda'])\n",
    "        elif Fitted[strain]['type'] == 'GG':\n",
    "            stats[strain]=pd.DataFrame(data=paras,columns=['beta','s','rate'])\n",
    "            stats[strain]['lambda'] = pd.Series([0]*len(paras))\n",
    "        meds = [(ggm_med(dict(stats[strain].iloc[i,:])), gg_med(dict(stats[strain].iloc[i,:])))[Fitted[strain]['type'] == 'GG'] for i in range(len(paras))]\n",
    "        stats[strain]['median'] = pd.Series(data=meds)\n",
    "    except:\n",
    "        #paras = pandas2ri.ri2py(normboot(Fitted[strain]['flexsurvreg'],B=50000))\n",
    "        print \"error \", strain\n",
    "        strain_error.append(strain)\n",
    "        \n",
    "        \n",
    "        "
   ]
  },
  {
   "cell_type": "code",
   "execution_count": 7,
   "metadata": {},
   "outputs": [
    {
     "ename": "NameError",
     "evalue": "name 'paras' is not defined",
     "output_type": "error",
     "traceback": [
      "\u001b[0;31m---------------------------------------------------------------------------\u001b[0m",
      "\u001b[0;31mNameError\u001b[0m                                 Traceback (most recent call last)",
      "\u001b[0;32m<ipython-input-7-e3efd0090bf3>\u001b[0m in \u001b[0;36m<module>\u001b[0;34m()\u001b[0m\n\u001b[0;32m----> 1\u001b[0;31m \u001b[0mpd\u001b[0m\u001b[0;34m.\u001b[0m\u001b[0mDataFrame\u001b[0m\u001b[0;34m(\u001b[0m\u001b[0mdata\u001b[0m\u001b[0;34m=\u001b[0m\u001b[0mparas\u001b[0m\u001b[0;34m,\u001b[0m\u001b[0mcolumns\u001b[0m\u001b[0;34m=\u001b[0m\u001b[0;34m[\u001b[0m\u001b[0;34m'rate'\u001b[0m\u001b[0;34m,\u001b[0m\u001b[0;34m'beta'\u001b[0m\u001b[0;34m,\u001b[0m\u001b[0;34m's'\u001b[0m\u001b[0;34m,\u001b[0m\u001b[0;34m'lambda'\u001b[0m\u001b[0;34m]\u001b[0m\u001b[0;34m)\u001b[0m\u001b[0;34m\u001b[0m\u001b[0m\n\u001b[0m",
      "\u001b[0;31mNameError\u001b[0m: name 'paras' is not defined"
     ]
    }
   ],
   "source": [
    "pd.DataFrame(data=paras,columns=['rate','beta','s','lambda'])"
   ]
  },
  {
   "cell_type": "code",
   "execution_count": 8,
   "metadata": {},
   "outputs": [
    {
     "ename": "NameError",
     "evalue": "name 'strain_error' is not defined",
     "output_type": "error",
     "traceback": [
      "\u001b[0;31m---------------------------------------------------------------------------\u001b[0m",
      "\u001b[0;31mNameError\u001b[0m                                 Traceback (most recent call last)",
      "\u001b[0;32m<ipython-input-8-8e6e9a63ff9d>\u001b[0m in \u001b[0;36m<module>\u001b[0;34m()\u001b[0m\n\u001b[0;32m----> 1\u001b[0;31m \u001b[0mstrain_error\u001b[0m\u001b[0;34m\u001b[0m\u001b[0m\n\u001b[0m",
      "\u001b[0;31mNameError\u001b[0m: name 'strain_error' is not defined"
     ]
    }
   ],
   "source": [
    "strain_error"
   ]
  },
  {
   "cell_type": "markdown",
   "metadata": {},
   "source": [
    "### 2.3 Goodness-of-fit by K-S statistics & quality control"
   ]
  },
  {
   "cell_type": "code",
   "execution_count": null,
   "metadata": {},
   "outputs": [],
   "source": [
    "from cohortMortalitySummary import KSm_gof, KSm_test\n",
    "KStests = dict()\n",
    "for strain in Fitted.keys():\n",
    "    if strain in strain_error:\n",
    "        print \"jump \", strain\n",
    "        continue\n",
    "    data = dfs_mortality[strain]\n",
    "    rtg = tgs_mortality[strain]\n",
    "    sf = Fitted[strain]['ML_survivorship']\n",
    "    residues = KSm_gof(data, rtg, sf)\n",
    "    KStests[strain] = KSm_test(residues[0], residues[1], alpha=0.01)"
   ]
  },
  {
   "cell_type": "markdown",
   "metadata": {},
   "source": [
    "### These data cross K-S thresholds, but only in very few time points, thus pass quality control"
   ]
  },
  {
   "cell_type": "code",
   "execution_count": null,
   "metadata": {},
   "outputs": [],
   "source": [
    "for strain in Fitted.keys():\n",
    "    if strain in strain_error:\n",
    "        print \"jump \", strain\n",
    "        continue\n",
    "    if KStests[strain][0] > 1.517:\n",
    "        print strain, KStests[strain]"
   ]
  },
  {
   "cell_type": "markdown",
   "metadata": {},
   "source": [
    "### Mortality cluster with too few imaging positions, dropped later"
   ]
  },
  {
   "cell_type": "code",
   "execution_count": null,
   "metadata": {},
   "outputs": [],
   "source": [
    "for strain in dfs_mortality.keys():\n",
    "    if strain in strain_error:\n",
    "        print \"jump \", strain\n",
    "        continue\n",
    "    if len(np.unique(dfs_mortality[strain]['fn'])) < 3:\n",
    "        print strain"
   ]
  },
  {
   "cell_type": "markdown",
   "metadata": {},
   "source": [
    "### 2.4 Important Quantiles"
   ]
  },
  {
   "cell_type": "code",
   "execution_count": null,
   "metadata": {
    "scrolled": true
   },
   "outputs": [],
   "source": [
    "def gg_q(q, para):\n",
    "    return np.array(qgammagompertz(q,\n",
    "                        para['beta'],\n",
    "                        para['s'],\n",
    "                        para['rate']))[0]\n",
    "\n",
    "def ggm_q(q, para, precision=0.1, max_t = 150):\n",
    "    ptime = np.arange(0,max_t,precision)\n",
    "    rtime = ro.Vector(ptime)\n",
    "    probs = np.array(pgammagompertzmakeham(rtime,para['rate'],\n",
    "                                            para['beta'],\n",
    "                                            para['s'],\n",
    "                                            para['lambda']))\n",
    "    while probs[-1]<q:\n",
    "        ptime = np.arange(max_t, max_t+100, precision)\n",
    "        rtime = ro.Vector(ptime)\n",
    "        probs = np.array(pgammagompertzmakeham(rtime,para['rate'],\n",
    "                                            para['beta'],\n",
    "                                            para['s'],\n",
    "                                            para['lambda']))\n",
    "        max_t += 100\n",
    "    return ptime[probs>=q][0]\n",
    "quantiles = dict()\n",
    "for strain in Fitted.keys():\n",
    "    if strain in strain_error:\n",
    "        print \"jump \", strain\n",
    "        continue\n",
    "    print strain+': '+Fitted[strain]['type']\n",
    "    paras = pandas2ri.ri2py(normboot(Fitted[strain]['flexsurvreg'],B=5000))\n",
    "    if Fitted[strain]['type'] == 'GGM':\n",
    "        quantiles[strain]=pd.DataFrame(data=paras,columns=['rate','beta','s','lambda'])\n",
    "    elif Fitted[strain]['type'] == 'GG':\n",
    "        quantiles[strain]=pd.DataFrame(data=paras,columns=['beta','s','rate'])\n",
    "        quantiles[strain]['lambda'] = pd.Series([0]*len(paras))\n",
    "    for q in [0.1,0.25,0.5,0.75,0.9]:\n",
    "        #print q\n",
    "        qs = [(ggm_q(q, dict(quantiles[strain].iloc[i,:])), gg_q(q,dict(quantiles[strain].iloc[i,:])))[Fitted[strain]['type'] == 'GG'] for i in range(len(paras))]\n",
    "        quantiles[strain]['q='+str(q)] = pd.Series(data=qs, index=quantiles[strain].index)"
   ]
  },
  {
   "cell_type": "markdown",
   "metadata": {},
   "source": [
    "# 3. Aging parameters basics: first figures"
   ]
  },
  {
   "cell_type": "markdown",
   "metadata": {},
   "source": [
    "### 3.1 Set basic info for plotting: strain aging parameters dataframe (strain_df) and strain categories"
   ]
  },
  {
   "cell_type": "code",
   "execution_count": 10,
   "metadata": {},
   "outputs": [],
   "source": [
    "import dill\n",
    "dill_file = open(\"dill/Fitted.p\", \"rb\")\n",
    "Fitted_from_file = dill.load(dill_file)\n",
    "dill_file.close()\n",
    "Fitted = Fitted_from_file\n",
    "\n",
    "dill_file = open(\"dill/stats.p\", \"rb\")\n",
    "stats_from_file = dill.load(dill_file)\n",
    "dill_file.close()\n",
    "stats = stats_from_file\n",
    "\n",
    "dill_file = open(\"dill/dfs_mortality.p\", \"rb\")\n",
    "dfs_from_file = dill.load(dill_file)\n",
    "dill_file.close()\n",
    "dfs_mortality = dfs_from_file\n",
    "\n",
    "dill_file = open(\"dill/tgs_mortality.p\", \"rb\")\n",
    "tgs_from_file = dill.load(dill_file)\n",
    "dill_file.close()\n",
    "tgs_mortality = tgs_from_file\n",
    "\n",
    "dill_file = open(\"dill/KStests.p\", \"rb\")\n",
    "KStests_from_file = dill.load(dill_file)\n",
    "dill_file.close()\n",
    "KStests = KStests_from_file\n",
    "\n",
    "strain_error= ['ydjQ']"
   ]
  },
  {
   "cell_type": "code",
   "execution_count": 13,
   "metadata": {},
   "outputs": [
    {
     "name": "stdout",
     "output_type": "stream",
     "text": [
      "jump  ydjQ\n"
     ]
    }
   ],
   "source": [
    "strain_df = pd.DataFrame(index=Fitted.keys(), columns=['med_exp','med_model','scale','med_ratio','scale_ratio'])\n",
    "for strain in Fitted.keys():\n",
    "    if strain in strain_error:\n",
    "        print \"jump \", strain\n",
    "        continue\n",
    "    strain_df.loc[strain,'med_model'] = float(np.median(stats[strain]['median']))\n",
    "    strain_df.loc[strain,'med_ratio'] = float(np.median(stats[strain]['median'])/np.median(stats['MG-WT']['median']))\n",
    "    strain_df.loc[strain,'scale'] = float(1/Fitted[strain]['model_paras'].loc['rate','est'])\n",
    "    strain_df.loc[strain,'scale_ratio'] = float(Fitted['MG-WT']['model_paras'].loc['rate','est']/Fitted[strain]['model_paras'].loc['rate','est'])\n",
    "    strain_df.loc[strain,'rate'] = Fitted[strain]['model_paras'].loc['rate','est']\n",
    "    strain_df.loc[strain,'rate_L95%'] = Fitted[strain]['model_paras'].loc['rate','L95%']\n",
    "    strain_df.loc[strain,'rate_U95%'] = Fitted[strain]['model_paras'].loc['rate','U95%']\n",
    "    strain_df.loc[strain,'beta'] = Fitted[strain]['model_paras'].loc['beta','est']\n",
    "    strain_df.loc[strain,'beta_L95%'] = Fitted[strain]['model_paras'].loc['beta','L95%']\n",
    "    strain_df.loc[strain,'beta_U95%'] = Fitted[strain]['model_paras'].loc['beta','U95%']\n",
    "    strain_df.loc[strain,'s'] = Fitted[strain]['model_paras'].loc['s','est']\n",
    "    strain_df.loc[strain,'s_L95%'] = Fitted[strain]['model_paras'].loc['s','L95%']\n",
    "    strain_df.loc[strain,'s_U95%'] = Fitted[strain]['model_paras'].loc['s','U95%']\n",
    "    strain_df.loc[strain,'model type'] = Fitted[strain]['type']\n",
    "    if Fitted[strain]['type'] == 'GGM':\n",
    "        strain_df.loc[strain,'lambda'] = Fitted[strain]['model_paras'].loc['lambda','est']\n",
    "        strain_df.loc[strain,'lambda_L95%'] = Fitted[strain]['model_paras'].loc['lambda','L95%']\n",
    "        strain_df.loc[strain,'lambda_U95%'] = Fitted[strain]['model_paras'].loc['lambda','U95%']\n",
    "    elif Fitted[strain]['type'] == 'GG':\n",
    "        strain_df.loc[strain,'lambda'] = 0\n",
    "        strain_df.loc[strain,'lambda_L95%'] = 0\n",
    "        strain_df.loc[strain,'lambda_U95%'] = 0"
   ]
  },
  {
   "cell_type": "code",
   "execution_count": 14,
   "metadata": {},
   "outputs": [
    {
     "data": {
      "text/plain": [
       "Text(0,0.5,'relative longevity')"
      ]
     },
     "execution_count": 14,
     "metadata": {},
     "output_type": "execute_result"
    },
    {
     "data": {
      "image/png": "[encoded data removed]",
      "text/plain": [
       "<Figure size 432x288 with 1 Axes>"
      ]
     },
     "metadata": {},
     "output_type": "display_data"
    }
   ],
   "source": [
    "import matplotlib as mpl\n",
    "%matplotlib inline\n",
    "from matplotlib import pyplot as plt\n",
    "plt.style.use('ggplot')\n",
    "#import seaborn as sns\n",
    "plt.plot(strain_df['scale_ratio'], strain_df['med_ratio'],'o')\n",
    "#plt.xscale('log')\n",
    "plt.xlabel('relative aging scale')\n",
    "#plt.yscale('log')\n",
    "plt.ylabel('relative longevity')"
   ]
  },
  {
   "cell_type": "code",
   "execution_count": 62,
   "metadata": {},
   "outputs": [
    {
     "data": {
      "text/plain": [
       "153.7637447675589"
      ]
     },
     "execution_count": 62,
     "metadata": {},
     "output_type": "execute_result"
    }
   ],
   "source": [
    "strain_df.loc['MG-WT']['beta']"
   ]
  },
  {
   "cell_type": "markdown",
   "metadata": {},
   "source": [
    "### 3.2 Aging parameter space: lifespan, aging timescale, shape"
   ]
  },
  {
   "cell_type": "markdown",
   "metadata": {},
   "source": [
    "__**shape = lifespan / scale**__"
   ]
  },
  {
   "cell_type": "code",
   "execution_count": 63,
   "metadata": {},
   "outputs": [],
   "source": [
    "#candidates = ['ompL_new','pgi','uxaB_new','aqpZ','ascG','caiT_new','yagS','yfiD_new', 'appY']\n",
    "candidates = list(strain_df.index)\n",
    "strain_df['scale_ratio_log2'] = [np.log2(float(r)) for r in strain_df['scale_ratio']]\n",
    "strain_df['lifespan_ratio_log2'] = [np.log2(float(r)) for r in strain_df['med_ratio']]\n",
    "strain_df['shape_ratio_log2'] = [np.log2(float(r)) for r in strain_df['med_ratio']/strain_df['scale_ratio']]\n",
    "\n",
    "rate_mg_wt = float(strain_df.loc['MG-WT']['rate'])\n",
    "strain_df['rate_ratio_log2'] = [np.log2(float(r)/rate_mg_wt) for r in strain_df['rate']]\n",
    "\n",
    "beta_mg_wt = float(strain_df.loc['MG-WT']['beta'])\n",
    "strain_df['beta_ratio_log2'] =[np.log2(float(r)/beta_mg_wt) for r in strain_df['beta']]"
   ]
  },
  {
   "cell_type": "code",
   "execution_count": 64,
   "metadata": {},
   "outputs": [
    {
     "data": {
      "image/png": "[encoded data removed]",
      "text/plain": [
       "<Figure size 720x1008 with 3 Axes>"
      ]
     },
     "metadata": {},
     "output_type": "display_data"
    }
   ],
   "source": [
    "f, (ax1, ax2, ax3) = plt.subplots(3, sharex=False)\n",
    "\n",
    "\n",
    "ax1.plot(strain_df.loc[candidates, 'beta_ratio_log2'],\n",
    "         strain_df.loc[candidates, 'lifespan_ratio_log2'], 'o', label='candidates')\n",
    "\n",
    "ax1.plot(strain_df.loc['MG-WT', 'beta_ratio_log2'],\n",
    "         strain_df.loc['MG-WT', 'lifespan_ratio_log2'], '*b', label='mg-wt')\n",
    "\n",
    "ax1.set_ylabel('$log_2$ relative lifespan')\n",
    "ax1.set_xlabel('$log_2$ relative beta')\n",
    "ax1.legend(loc=4)\n",
    "\n",
    "ax2.plot(strain_df.loc[candidates, 'beta_ratio_log2'],\n",
    "         strain_df.loc[candidates, 'shape_ratio_log2'], 'o', label='candidates')\n",
    "\n",
    "ax2.plot(strain_df.loc['MG-WT', 'beta_ratio_log2'],\n",
    "         strain_df.loc['MG-WT', 'shape_ratio_log2'], '*b', label='mg-wt')\n",
    "ax2.set_xlabel('$log_2$ relative beta')\n",
    "ax2.set_ylabel('$log_2$ relative aging scale ')\n",
    "\n",
    "ax2.legend(loc=1)\n",
    "\n",
    "ax3.plot(strain_df.loc[candidates, 'beta_ratio_log2'],\n",
    "         strain_df.loc[candidates, 'scale_ratio_log2'], 'o', label='candidates')\n",
    "\n",
    "ax3.plot(strain_df.loc['MG-WT', 'beta_ratio_log2'],\n",
    "         strain_df.loc['MG-WT', 'scale_ratio_log2'], '*b', label='mg-wt')\n",
    "\n",
    "ax3.set_xlabel('$log_2$ relative beta')\n",
    "ax3.set_ylabel('$log_2$ relative aging scale ')\n",
    "\n",
    "ax3.legend(loc=1)\n",
    "\n",
    "f.set_size_inches(10,14)"
   ]
  },
  {
   "cell_type": "code",
   "execution_count": 59,
   "metadata": {},
   "outputs": [
    {
     "data": {
      "image/png": "[encoded data removed]",
      "text/plain": [
       "<Figure size 720x1008 with 3 Axes>"
      ]
     },
     "metadata": {},
     "output_type": "display_data"
    }
   ],
   "source": [
    "f, (ax1, ax2, ax3) = plt.subplots(3, sharex=False)\n",
    "\n",
    "\n",
    "ax1.plot(strain_df.loc[candidates, 'rate_ratio_log2'],\n",
    "         strain_df.loc[candidates, 'lifespan_ratio_log2'], 'o', label='candidates')\n",
    "\n",
    "ax1.plot(strain_df.loc['MG-WT', 'rate_ratio_log2'],\n",
    "         strain_df.loc['MG-WT', 'lifespan_ratio_log2'], '*b', label='mg-wt')\n",
    "\n",
    "ax1.set_ylabel('$log_2$ relative lifespan')\n",
    "ax1.set_xlabel('$log_2$ relative aging rate')\n",
    "ax1.legend(loc=4)\n",
    "\n",
    "ax2.plot(strain_df.loc[candidates, 'rate_ratio_log2'],\n",
    "         strain_df.loc[candidates, 'shape_ratio_log2'], 'o', label='candidates')\n",
    "\n",
    "ax2.plot(strain_df.loc['MG-WT', 'rate_ratio_log2'],\n",
    "         strain_df.loc['MG-WT', 'shape_ratio_log2'], '*b', label='mg-wt')\n",
    "ax2.set_xlabel('$log_2$ relative aging rate')\n",
    "ax2.set_ylabel('$log_2$ relative aging scale ')\n",
    "\n",
    "ax2.legend(loc=1)\n",
    "\n",
    "ax3.plot(strain_df.loc[candidates, 'rate_ratio_log2'],\n",
    "         strain_df.loc[candidates, 'scale_ratio_log2'], 'o', label='candidates')\n",
    "\n",
    "ax3.plot(strain_df.loc['MG-WT', 'rate_ratio_log2'],\n",
    "         strain_df.loc['MG-WT', 'scale_ratio_log2'], '*b', label='mg-wt')\n",
    "ax3.set_xlabel('$log_2$ relative aging rate')\n",
    "ax3.set_ylabel('$log_2$ relative aging scale ')\n",
    "\n",
    "ax3.legend(loc=1)\n",
    "\n",
    "f.set_size_inches(10,14)"
   ]
  },
  {
   "cell_type": "code",
   "execution_count": 16,
   "metadata": {},
   "outputs": [
    {
     "data": {
      "image/png": "[encoded data removed]",
      "text/plain": [
       "<Figure size 720x1008 with 2 Axes>"
      ]
     },
     "metadata": {},
     "output_type": "display_data"
    }
   ],
   "source": [
    "f, (ax1, ax2) = plt.subplots(2, sharex=False)\n",
    "\n",
    "ax1.plot(strain_df['scale_ratio_log2'], \n",
    "         strain_df['lifespan_ratio_log2'],\n",
    "         'o',label='others')\n",
    "ax1.plot(strain_df.loc[candidates, 'scale_ratio_log2'],\n",
    "         strain_df.loc[candidates, 'lifespan_ratio_log2'], 'o', label='candidates')\n",
    "ax1.set_ylabel('$log_2$ relative lifespan')\n",
    "ax1.set_xlabel('$log_2$ relative aging scale')\n",
    "ax1.plot(np.arange(4,-4,-0.1), [0]*80, '--')\n",
    "ax1.plot(np.arange(2,-3,-0.1), np.arange(2,-3,-0.1), '--', label='equal shape')\n",
    "ax1.legend(loc=4)\n",
    "\n",
    "\n",
    "ax2.plot(strain_df['scale_ratio_log2'], \n",
    "         strain_df['shape_ratio_log2'],\n",
    "         'o',label='others')\n",
    "ax2.plot(strain_df.loc[candidates, 'scale_ratio_log2'],\n",
    "         strain_df.loc[candidates, 'shape_ratio_log2'], 'o', label='candidates')\n",
    "ax2.set_xlabel('$log_2$ relative aging scale')\n",
    "ax2.set_ylabel('$log_2$ relative shape ')\n",
    "ax2.plot(np.arange(3,-4,-0.1), np.arange(-3,4,0.1), '--', label='equal lifespan')\n",
    "ax2.plot(np.arange(4,-4,-0.1), [0]*80, '--')\n",
    "ax2.legend(loc=1)\n",
    "\n",
    "ax1.set_xlim([-1.5,1.5])\n",
    "ax2.set_xlim([-1.5,1.5])\n",
    "ax1.set_ylim([-1.6,1.3])\n",
    "ax2.set_ylim([-1,2.8])\n",
    "\n",
    "\n",
    "f.set_size_inches(10,14)"
   ]
  },
  {
   "cell_type": "code",
   "execution_count": null,
   "metadata": {},
   "outputs": [],
   "source": [
    "f, (ax1) = plt.subplots(1, sharex=False)\n",
    "\n",
    "ax1.plot(strain_df['shape_ratio_log2'], \n",
    "         strain_df['lifespan_ratio_log2'],\n",
    "         'o',label='others')\n",
    "ax1.plot(strain_df.loc[candidates, 'shape_ratio_log2'],\n",
    "         strain_df.loc[candidates, 'lifespan_ratio_log2'], 'o', label='candidates')\n",
    "ax1.set_xlabel('$log_2$ relative shape')\n",
    "ax1.set_ylabel('$log_2$ relative lifespan')\n",
    "ax1.plot(np.arange(-1,1.5,0.1), np.arange(-1,1.5,0.1), '--', label='equal timescale')\n",
    "ax1.legend(loc=3)\n",
    "\n",
    "ax1.set_ylim([-1,1.4])\n",
    "ax1.set_xlim([-1,2.7])\n",
    "\n",
    "\n",
    "f.set_size_inches(10,8)"
   ]
  },
  {
   "cell_type": "markdown",
   "metadata": {},
   "source": [
    "### 3.3 Longevity strains as candidate strains"
   ]
  },
  {
   "cell_type": "code",
   "execution_count": null,
   "metadata": {},
   "outputs": [],
   "source": [
    "strain_df.loc[candidates,['scale_ratio_log2','lifespan_ratio_log2','shape_ratio_log2']]"
   ]
  },
  {
   "cell_type": "code",
   "execution_count": null,
   "metadata": {},
   "outputs": [],
   "source": [
    "strain_df.loc[strain_df['lifespan_ratio_log2']>0.4,['scale_ratio_log2','lifespan_ratio_log2','shape_ratio_log2']]"
   ]
  },
  {
   "cell_type": "markdown",
   "metadata": {},
   "source": [
    "# 4. Aging parameter C.I.s"
   ]
  },
  {
   "cell_type": "markdown",
   "metadata": {},
   "source": [
    "### 4.1 Median lifespan: medians estimated non-parametrically from Kaplan-Meier, versus parametrically from GGM"
   ]
  },
  {
   "cell_type": "code",
   "execution_count": null,
   "metadata": {},
   "outputs": [],
   "source": [
    "from cohortMortalitySummary import KaplanMeier\n",
    "def surv_prob_median(surv):\n",
    "    return (surv.index[surv<0.5][0] + surv.index[surv>0.5][-1])*0.5\n",
    "for strain in Fitted.keys():\n",
    "    if strain in strain_error:\n",
    "        print \"jump \", strain\n",
    "        continue\n",
    "    KM = KaplanMeier(dfs_mortality[strain], tgs_mortality[strain])\n",
    "    if KM['upper_ci'].iloc[-1]>0.5:\n",
    "        print strain\n",
    "    else:\n",
    "        strain_df.loc[strain,'med_exp'] = surv_prob_median( KM['survivorship'] )\n",
    "        strain_df.loc[strain,'med_exp_U95%'] = surv_prob_median( KM['upper_ci'] )\n",
    "        strain_df.loc[strain,'med_exp_L95%'] = surv_prob_median( KM['lower_ci'] )\n",
    "    "
   ]
  },
  {
   "cell_type": "code",
   "execution_count": null,
   "metadata": {},
   "outputs": [],
   "source": [
    "plt.plot([float(r) for r in strain_df['med_model']], strain_df['med_exp'],'o')\n",
    "plt.xlabel('experimental median lifespan (h)')\n",
    "plt.ylabel('model median lifespan (h)')\n"
   ]
  },
  {
   "cell_type": "markdown",
   "metadata": {},
   "source": [
    "### 4.2 Calculating C.I.s of aging statistics from bootstrapped GGM parameters"
   ]
  },
  {
   "cell_type": "code",
   "execution_count": null,
   "metadata": {},
   "outputs": [],
   "source": [
    "for strain in Fitted.keys():\n",
    "    if strain in strain_error:\n",
    "        print \"jump \", strain\n",
    "        continue\n",
    "    stats[strain]['smed'] = stats[strain]['median']*stats[strain]['rate']\n",
    "\n",
    "for strain in Fitted.keys():\n",
    "    if strain in strain_error:\n",
    "        print \"jump \", strain\n",
    "        continue\n",
    "    stats[strain]['inverse_eta'] = stats[strain]['beta']/stats[strain]['s']\n",
    "    strain_df.loc[strain, 'inverse_eta'] = np.median(stats[strain]['beta']/stats[strain]['s'])\n",
    "    strain_df.loc[strain,'model_type'] = Fitted[strain]['type']\n",
    "    strain_df.loc[strain,'shape_exp'] = strain_df.loc[strain,'med_exp']*strain_df.loc[strain,'rate']\n",
    "    strain_df.loc[strain,'shape_med'] = np.median(stats[strain]['median']*stats[strain]['rate'])\n",
    "    \n",
    "    strain_df.loc[strain,'med_model_L95%'] = 0.5*(np.sort(stats[strain]['median'])[int(np.floor(len(stats[strain]['median'])*0.025))]+np.sort(stats[strain]['median'])[1+int(np.floor(len(stats[strain]['median'])*0.025))])\n",
    "    strain_df.loc[strain,'med_model_U95%'] = 0.5*(np.sort(stats[strain]['median'])[int(np.floor(len(stats[strain]['median'])*0.975))]+np.sort(stats[strain]['median'])[1+int(np.floor(len(stats[strain]['median'])*0.975))])\n",
    "    \n",
    "    strain_df.loc[strain,'shape_med_L95%'] = 0.5*(np.sort(stats[strain]['smed'])[int(np.floor(len(stats[strain]['smed'])*0.025))]+np.sort(stats[strain]['smed'])[1+int(np.floor(len(stats[strain]['smed'])*0.025))])\n",
    "    strain_df.loc[strain,'shape_med_U95%'] = 0.5*(np.sort(stats[strain]['smed'])[int(np.floor(len(stats[strain]['smed'])*0.975))]+np.sort(stats[strain]['smed'])[1+int(np.floor(len(stats[strain]['smed'])*0.975))])\n",
    "    \n",
    "strain_df['shape_eta'] = [np.log(s*np.log(2)+1) for s in strain_df['inverse_eta']]\n",
    "\n",
    "strain_df['scale_ratio_log2'] = [np.log2(float(r)) for r in strain_df['scale_ratio']]\n",
    "strain_df['scale_ratio_log2_L95%'] = np.log2(strain_df.loc['MG-WT','rate'])-np.log2(strain_df.loc[:,'rate_U95%'])\n",
    "strain_df['scale_ratio_log2_U95%'] = np.log2(strain_df.loc['MG-WT','rate'])-np.log2(strain_df.loc[:,'rate_L95%'])\n",
    "strain_df['lifespan_ratio_log2'] = np.log2([lf/strain_df.loc['MG-WT','med_exp'] for lf in strain_df.loc[:,'med_exp']])\n",
    "strain_df['lifespan_ratio_log2_L95%'] = np.log2(strain_df.loc[:,'med_exp_L95%']/strain_df.loc['MG-WT','med_exp'])\n",
    "strain_df['lifespan_ratio_log2_U95%'] = np.log2(strain_df.loc[:,'med_exp_U95%']/strain_df.loc['MG-WT','med_exp']) \n",
    "strain_df['shape_ratio_log2'] = [np.log2(float(r)) for r in strain_df['med_ratio']/strain_df['scale_ratio']]\n",
    "strain_df['shape_ratio_log2_L95%'] = np.log2(strain_df.loc[:,'shape_med_L95%']/strain_df.loc['MG-WT','shape_med'])\n",
    "strain_df['shape_ratio_log2_U95%'] = np.log2(strain_df.loc[:,'shape_med_U95%']/strain_df.loc['MG-WT','shape_med'])"
   ]
  },
  {
   "cell_type": "markdown",
   "metadata": {},
   "source": [
    "### 4.3 Drop data with too few imaging positions to avoid large C.I.s"
   ]
  },
  {
   "cell_type": "code",
   "execution_count": null,
   "metadata": {},
   "outputs": [],
   "source": [
    "for strain in dfs_mortality.keys():\n",
    "    if strain in strain_error:\n",
    "        print \"jump \", strain\n",
    "        continue\n",
    "    if len(np.unique(dfs_mortality[strain]['fn'])) < 3:\n",
    "        print strain\n",
    "        strain_df.drop(strain, inplace=True)"
   ]
  },
  {
   "cell_type": "markdown",
   "metadata": {},
   "source": [
    "### 4.4 Classify and plot strains based on significant differences in aging parameters"
   ]
  },
  {
   "cell_type": "code",
   "execution_count": null,
   "metadata": {},
   "outputs": [],
   "source": [
    "for strain in strain_df.index:\n",
    "    for trait in ['rate', 'med_exp', 'shape_med']:\n",
    "        if strain_df.loc[strain, trait+'_U95%'] < strain_df.loc['MG-WT', trait+'_L95%']:\n",
    "            strain_df.loc[strain, trait+'_overlap_wt'] = -1\n",
    "        elif strain_df.loc[strain, trait+'_L95%'] > strain_df.loc['MG-WT', trait+'_U95%']:\n",
    "            strain_df.loc[strain, trait+'_overlap_wt'] = 1\n",
    "        else:\n",
    "            strain_df.loc[strain, trait+'_overlap_wt'] = 0"
   ]
  },
  {
   "cell_type": "code",
   "execution_count": null,
   "metadata": {},
   "outputs": [],
   "source": [
    "import seaborn as sns"
   ]
  },
  {
   "cell_type": "code",
   "execution_count": null,
   "metadata": {},
   "outputs": [],
   "source": [
    "#candidates = ['ompL_new','pgi','uxaB_new','aqpZ','ascG','caiT_new','yagS','yfiD_new', 'appY']\n",
    "candidates = list(strain_df.index)\n",
    "rate_diff = set(strain_df.index[strain_df['rate_overlap_wt']!=0])\n",
    "rate_non = set(strain_df.index[strain_df['rate_overlap_wt']==0])\n",
    "lifespan_diff = set(strain_df.index[strain_df['med_exp_overlap_wt']!=0])\n",
    "lifespan_non = set(strain_df.index[strain_df['med_exp_overlap_wt']==0])\n",
    "shape_diff = set(strain_df.index[strain_df['shape_med_overlap_wt']!=0])\n",
    "shape_non = set(strain_df.index[strain_df['shape_med_overlap_wt']==0])\n",
    "\n",
    "f, (ax1, ax2) = plt.subplots(2, sharex=False)\n",
    "\n",
    "ax1.plot(strain_df.loc[set.intersection(rate_diff, lifespan_diff),'scale_ratio_log2'], \n",
    "         strain_df.loc[set.intersection(rate_diff, lifespan_diff),'lifespan_ratio_log2'],\n",
    "         'o',label='p<0.05 for both', color='k', markersize=8, alpha=0.6)\n",
    "ax1.plot(strain_df.loc[candidates,'scale_ratio_log2'], \n",
    "         strain_df.loc[candidates,'lifespan_ratio_log2'],\n",
    "         '.',label='candidates', color='r', markersize=6)\n",
    "ax1.plot(strain_df.loc[set.difference(rate_non, lifespan_non), 'scale_ratio_log2'],\n",
    "         strain_df.loc[set.difference(rate_non, lifespan_non), 'lifespan_ratio_log2'],\n",
    "         'o',label='ageing scale ~ wt',markerfacecolor='none', markeredgecolor='r', alpha=0.4, markersize=10)\n",
    "ax1.plot(strain_df.loc[lifespan_non, 'scale_ratio_log2'],\n",
    "         strain_df.loc[lifespan_non, 'lifespan_ratio_log2'],\n",
    "         'o',label='lifespan ~ wt', markerfacecolor='none', markeredgecolor='g', alpha=0.8, markersize=10)\n",
    "\n",
    "ax1.set_ylabel('$log_2$ relative lifespan')\n",
    "ax1.set_xlabel('$log_2$ relative aging scale')\n",
    "ax1.plot(np.arange(4,-4,-0.1), [0]*80, '-', color='k', alpha=0.8)\n",
    "ax1.plot( [0]*80, np.arange(4,-4,-0.1), '-', color='r', alpha=0.4)\n",
    "ax1.plot(np.arange(2,-3,-0.1), np.arange(2,-3,-0.1), '--', color='b', label='equal shape')\n",
    "ax1.legend(loc=4)\n",
    "\n",
    "\n",
    "ax2.plot(strain_df.loc[set.intersection(shape_diff, rate_diff),'scale_ratio_log2'], \n",
    "         strain_df.loc[set.intersection(shape_diff, rate_diff),'shape_ratio_log2'],\n",
    "         'o',label='p<0.05 for both', color='k', markersize=8, alpha=0.6)\n",
    "ax2.plot(strain_df.loc[candidates,'scale_ratio_log2'], \n",
    "         strain_df.loc[candidates,'shape_ratio_log2'],\n",
    "         '.',label='candidates', color='r', markersize=6)\n",
    "ax2.plot(strain_df.loc[set.difference(shape_non, rate_non), 'scale_ratio_log2'],\n",
    "         strain_df.loc[set.difference(shape_non, rate_non), 'shape_ratio_log2'],\n",
    "        'o',label='ageing shape ~ wt',markerfacecolor='none', markeredgecolor='b', markersize=10)\n",
    "ax2.plot(strain_df.loc[rate_non, 'scale_ratio_log2'],\n",
    "         strain_df.loc[rate_non, 'shape_ratio_log2'],\n",
    "        'o',label='ageing scale ~ wt',markerfacecolor='none', markeredgecolor='r', alpha=0.4, markersize=10)\n",
    "ax2.set_xlabel('$log_2$ relative aging scale')\n",
    "ax2.set_ylabel('$log_2$ relative shape ')\n",
    "ax2.plot(np.arange(3,-4,-0.1), np.arange(-3,4,0.1), '-',color='k', alpha=0.8, label='equal lifespan')\n",
    "ax2.plot( [0]*80, np.arange(4,-4,-0.1), '-', color='r', alpha=0.4)\n",
    "ax2.plot(np.arange(4,-4,-0.1), [0]*80, '--',color='b')\n",
    "ax2.legend(loc=1)\n",
    "\n",
    "ax1.set_xlim([-1.5,1.5])\n",
    "ax2.set_xlim([-1.5,1.5])\n",
    "ax1.set_ylim([-1.6,1.5])\n",
    "ax2.set_ylim([-1,2.7])\n",
    "\n",
    "\n",
    "f.set_size_inches(10,14)"
   ]
  },
  {
   "cell_type": "code",
   "execution_count": null,
   "metadata": {},
   "outputs": [],
   "source": [
    "f, (ax1) = plt.subplots(1, sharex=False)\n",
    "\n",
    "ax1.plot(strain_df.loc[set.difference(set.intersection(shape_diff, lifespan_diff),rate_non),'shape_ratio_log2'], \n",
    "         strain_df.loc[set.difference(set.intersection(shape_diff, lifespan_diff),rate_non),'lifespan_ratio_log2'],\n",
    "         'o',label='p<0.05 for both', color='k', markersize=8, alpha=0.6)\n",
    "ax1.plot(strain_df.loc[candidates,'shape_ratio_log2'], \n",
    "         strain_df.loc[candidates,'lifespan_ratio_log2'],\n",
    "         '.',label='candidates', color='r', markersize=6)\n",
    "ax1.plot(strain_df.loc[set.difference(shape_non, lifespan_non), 'shape_ratio_log2'],\n",
    "         strain_df.loc[set.difference(shape_non, lifespan_non), 'lifespan_ratio_log2'],\n",
    "         'o',label='shape ~ wt',markerfacecolor='none', markeredgecolor='b', alpha=0.4, markersize=10)\n",
    "ax1.plot(strain_df.loc[set.difference(rate_non,lifespan_non), 'shape_ratio_log2'],\n",
    "         strain_df.loc[set.difference(rate_non,lifespan_non), 'lifespan_ratio_log2'],\n",
    "        'o',label='ageing scale ~ wt',markerfacecolor='none', markeredgecolor='r', alpha=0.4, markersize=10)\n",
    "ax1.plot(strain_df.loc[lifespan_non, 'shape_ratio_log2'],\n",
    "         strain_df.loc[lifespan_non, 'lifespan_ratio_log2'],\n",
    "         'o',label='lifespan ~ wt', markerfacecolor='none', markeredgecolor='g', alpha=0.8, markersize=10)\n",
    "\n",
    "\n",
    "ax1.set_xlabel('$log_2$ relative shape')\n",
    "ax1.set_ylabel('$log_2$ relative lifespan')\n",
    "ax1.plot(np.arange(-1,1.5,0.1), np.arange(-1,1.5,0.1), 'r--', label='equal timescale')\n",
    "ax1.plot(np.arange(4,-4,-0.1),[0]*80, '-',color='g', alpha=0.8, label='equal lifespan')\n",
    "ax1.plot([0]*80,np.arange(4,-4,-0.1),  '--',color='b', label='equal shape')\n",
    "ax1.legend(loc=4, fontsize=8)\n",
    "\n",
    "ax1.set_ylim([-0.5,1.5])\n",
    "ax1.set_xlim([-1,1.3])\n",
    "\n",
    "\n",
    "f.set_size_inches(8,7)"
   ]
  },
  {
   "cell_type": "markdown",
   "metadata": {},
   "source": [
    "# 5. What is shape? A function of Gompertz intercept"
   ]
  },
  {
   "cell_type": "markdown",
   "metadata": {},
   "source": [
    "### 5.1 Analytical formulation of shape using Gamma-Gompertz parameters: $ln(\\frac{\\beta}{s}ln2+1)$"
   ]
  },
  {
   "cell_type": "markdown",
   "metadata": {},
   "source": [
    "### 5.2 Analytical vs experimental shape"
   ]
  },
  {
   "cell_type": "markdown",
   "metadata": {},
   "source": [
    "__Experimental shape could be calculated using lifespan distribution without assuming parametric models__"
   ]
  },
  {
   "cell_type": "code",
   "execution_count": null,
   "metadata": {},
   "outputs": [],
   "source": [
    "f, ( ax1) = plt.subplots(1, sharex=False)\n",
    "\n",
    "ax1.plot(strain_df.loc[strain_df['model_type']=='GG','shape_eta'],\n",
    "         strain_df.loc[strain_df['model_type']=='GG','shape_exp'],'o',label='GG')\n",
    "ax1.plot(strain_df.loc[strain_df['model_type']=='GGM','shape_eta'],\n",
    "         strain_df.loc[strain_df['model_type']=='GGM','shape_exp'],'o',label='GGM')\n",
    "ax1.set_xlabel('Gompertz median')\n",
    "ax1.set_ylabel('Experimental shape (median / scale)')\n",
    "ax1.set_xlim([0,12.5])\n",
    "ax1.set_ylim([0,13.5])\n",
    "ax1.legend(loc=2)\n",
    "\n",
    "ax1.set_xlabel(r'Gompertz shape, $ln(\\frac{\\beta}{s}ln2+1)$')\n",
    "ax1.set_title('GammaGompertz parameters predict shape')\n",
    "\n",
    "f.set_size_inches(8,6)"
   ]
  },
  {
   "cell_type": "markdown",
   "metadata": {},
   "source": [
    "### 5.3 Analytical vs GGM model shape"
   ]
  },
  {
   "cell_type": "markdown",
   "metadata": {},
   "source": [
    "**Shape can also be calculated using fitted GGM models. Ignoring Makeham term do not make much difference**"
   ]
  },
  {
   "cell_type": "code",
   "execution_count": null,
   "metadata": {},
   "outputs": [],
   "source": [
    "f, ( ax1) = plt.subplots(1, sharex=False)\n",
    "\n",
    "ax1.plot(strain_df.loc[strain_df['model_type']=='GG','shape_eta'],\n",
    "         strain_df.loc[strain_df['model_type']=='GG','shape_med'],'o',label='GG')\n",
    "ax1.plot(strain_df.loc[strain_df['model_type']=='GGM','shape_eta'],\n",
    "         strain_df.loc[strain_df['model_type']=='GGM','shape_med'],'o',label='GGM')\n",
    "ax1.set_xlabel('Gompertz median')\n",
    "ax1.set_ylabel('Model shape (median / scale)')\n",
    "ax1.set_xlim([0,12.5])\n",
    "ax1.set_ylim([0,13.5])\n",
    "ax1.legend(loc=2)\n",
    "\n",
    "ax1.set_xlabel(r'Gompertz shape, $ln(\\frac{\\beta}{s}ln2+1)$')\n",
    "\n",
    "ax1.set_title('GammaGompertz parameters predict shape')\n",
    "\n",
    "f.set_size_inches(8,6)"
   ]
  },
  {
   "cell_type": "markdown",
   "metadata": {},
   "source": [
    "### 5.4 Shape and Gompertz intercept $\\eta = \\frac{\\beta}{s}$"
   ]
  },
  {
   "cell_type": "code",
   "execution_count": null,
   "metadata": {},
   "outputs": [],
   "source": [
    "ax2 = plt.gca()\n",
    "ax2.plot(np.arange(1,10,0.1), [(np.exp(s)-1)/np.log(2) for s in np.arange(1,10,0.1)], 'b',\n",
    "         label=r'Gompertz: $e^{shape}-1 = \\frac{1}{\\eta}ln2$')\n",
    "ax2.set_yscale('log')\n",
    "ax2.set_ylabel('$1/\\\\eta \\\\sim \\\\beta/s$')\n",
    "ax2.set_xlabel('shape = median/scale')\n",
    "ax2.legend(loc=0)\n",
    "ax2.set_title('Rescaled median (\\'shape\\') and Gompertz intercept $\\eta$')\n",
    "\n",
    "plt.gcf().set_size_inches(8,6)"
   ]
  },
  {
   "cell_type": "markdown",
   "metadata": {},
   "source": [
    "## 6. Saving and replotting aging parameters using only initially selected mutants"
   ]
  },
  {
   "cell_type": "markdown",
   "metadata": {},
   "source": [
    "### 6.0 Saving results so far"
   ]
  },
  {
   "cell_type": "code",
   "execution_count": null,
   "metadata": {},
   "outputs": [],
   "source": [
    "strain_df[['scale','scale_ratio','scale_ratio_log2','rate_overlap_wt',\n",
    "           'med_exp','med_exp_overlap_wt','med_model','med_ratio','lifespan_ratio_log2',\n",
    "           'shape_med','shape_med_overlap_wt','shape_exp','shape_eta','inverse_eta','shape_ratio_log2']].to_csv('/app/src/ms2_post_analysis/Aging parameters.csv')\n",
    "strain_df[['scale_ratio_log2','scale','lifespan_ratio_log2','med_exp',\n",
    "           'shape_ratio_log2','shape_exp',\n",
    "           'rate_overlap_wt','med_exp_overlap_wt','shape_med_overlap_wt']].to_csv(\n",
    "                '/app/src/ms2_post_analysis/Mutant effects on aging parameters.csv')"
   ]
  },
  {
   "cell_type": "markdown",
   "metadata": {},
   "source": [
    "## waiting candidates"
   ]
  },
  {
   "cell_type": "code",
   "execution_count": null,
   "metadata": {},
   "outputs": [],
   "source": [
    "strain_df.loc[['MG-WT']+candidates, ['model type']+\n",
    "              list(np.ravel([[trait,trait+'_L95%',trait+'_U95%'] for trait in ['rate','beta','s','lambda']]))].to_csv(\n",
    "                'csv/Candidates aging parameters.csv')\n",
    "strain_df.loc[['MG-WT']+candidates, ['model type']+\n",
    "              list(np.ravel([[trait,trait+'_L95%',trait+'_U95%'] for trait in ['rate','beta','s','lambda']]))]"
   ]
  },
  {
   "cell_type": "code",
   "execution_count": null,
   "metadata": {},
   "outputs": [],
   "source": [
    "for strain in Fitted.keys():\n",
    "    if strain in strain_error:\n",
    "        print \"jump \", strain\n",
    "        continue\n",
    "    quantiles[strain].to_csv('/app/src/ms2_post_analysis/bootstrap/'+strain+'.csv')"
   ]
  },
  {
   "cell_type": "markdown",
   "metadata": {},
   "source": [
    "### 6.1 Growth yields are only measured for the initially selected mutants"
   ]
  },
  {
   "cell_type": "code",
   "execution_count": null,
   "metadata": {},
   "outputs": [],
   "source": [
    "yield_df = pandas.read_csv('yield_all_strains.csv',sep=',')\n",
    "yield_df.set_index('Unnamed: 0', inplace=True)"
   ]
  },
  {
   "cell_type": "code",
   "execution_count": null,
   "metadata": {
    "scrolled": true
   },
   "outputs": [],
   "source": [
    "initial_genes = list(yield_df.index)\n",
    "initial_strains = [strain for strain in strain_df.index\n",
    "                   if strain.split('_')[0] in initial_genes]\n",
    "other_strains = [strain for strain in strain_df.index\n",
    "                   if strain.split('_')[0] not in initial_genes]\n",
    "for strain in initial_strains:\n",
    "    print strain\n",
    "    strain_df.loc[strain, 'yield_mean'] = np.mean(np.mean(yield_df.loc[strain.split('_')[0], :]))\n",
    "    strain_df.loc[strain, 'yield_std'] = np.mean(np.std(yield_df.loc[strain.split('_')[0], :]))\n"
   ]
  },
  {
   "cell_type": "code",
   "execution_count": null,
   "metadata": {},
   "outputs": [],
   "source": [
    "sns.set()"
   ]
  },
  {
   "cell_type": "markdown",
   "metadata": {},
   "source": [
    "### 6.2 Three sub-types are outlined: mutants with wildtype level lifespan or aging scale or shape"
   ]
  },
  {
   "cell_type": "code",
   "execution_count": null,
   "metadata": {},
   "outputs": [],
   "source": [
    "f, (ax1) = plt.subplots(1, sharex=False)\n",
    "\n",
    "ax1.plot(strain_df.loc[set.difference(set.intersection(set(initial_strains), shape_diff, lifespan_diff),rate_non),'shape_ratio_log2'], \n",
    "         strain_df.loc[set.difference(set.intersection(set(initial_strains), shape_diff, lifespan_diff),rate_non),'lifespan_ratio_log2'],\n",
    "         'o',label='p<0.05 for both', color='k', markersize=8, alpha=0.6)\n",
    "ax1.plot(strain_df.loc[candidates,'shape_ratio_log2'], \n",
    "         strain_df.loc[candidates,'lifespan_ratio_log2'],\n",
    "         '.',label='candidates', color='r', markersize=6)\n",
    "ax1.plot(strain_df.loc[set.intersection(set(initial_strains), set.difference(shape_non, lifespan_non)), 'shape_ratio_log2'],\n",
    "         strain_df.loc[set.intersection(set(initial_strains), set.difference(shape_non, lifespan_non)), 'lifespan_ratio_log2'],\n",
    "         'o',label='shape ~ wt',markerfacecolor='none', markeredgecolor='b', alpha=0.4, markersize=10)\n",
    "ax1.plot(strain_df.loc[set.intersection(set(initial_strains), set.difference(rate_non,lifespan_non)), 'shape_ratio_log2'],\n",
    "         strain_df.loc[set.intersection(set(initial_strains), set.difference(rate_non,lifespan_non)), 'lifespan_ratio_log2'],\n",
    "        'o',label='ageing scale ~ wt',markerfacecolor='none', markeredgecolor='r', alpha=0.4, markersize=10)\n",
    "ax1.plot(strain_df.loc[set.intersection(set(initial_strains), lifespan_non), 'shape_ratio_log2'],\n",
    "         strain_df.loc[set.intersection(set(initial_strains), lifespan_non), 'lifespan_ratio_log2'],\n",
    "         'o',label='lifespan ~ wt', markerfacecolor='none', markeredgecolor='g', alpha=0.8, markersize=10)\n",
    "\n",
    "\n",
    "ax1.set_xlabel('$log_2$ relative shape')\n",
    "ax1.set_ylabel('$log_2$ relative lifespan')\n",
    "ax1.plot(np.arange(-1,1.5,0.1), np.arange(-1,1.5,0.1), 'r--', label='equal timescale')\n",
    "ax1.plot(np.arange(4,-4,-0.1),[0]*80, '-',color='g', alpha=0.8, label='equal lifespan')\n",
    "ax1.plot([0]*80,np.arange(4,-4,-0.1),  '--',color='b', label='equal shape')\n",
    "ax1.legend(loc=4, fontsize=8)\n",
    "\n",
    "ax1.set_ylim([-0.6,1.2])\n",
    "ax1.set_xlim([-1,2.8])\n",
    "\n",
    "\n",
    "f.set_size_inches(6,5)"
   ]
  },
  {
   "cell_type": "code",
   "execution_count": null,
   "metadata": {},
   "outputs": [],
   "source": [
    "#candidates = ['ompL_new','pgi','uxaB_new','aqpZ','ascG','caiT_new','yagS','yfiD_new', 'appY']\n",
    "candidates = list(strain_df.index)\n",
    "\n",
    "rate_diff = set(strain_df.index[strain_df['rate_overlap_wt']!=0])\n",
    "rate_non = set(strain_df.index[strain_df['rate_overlap_wt']==0])\n",
    "lifespan_diff = set(strain_df.index[strain_df['med_exp_overlap_wt']!=0])\n",
    "lifespan_non = set(strain_df.index[strain_df['med_exp_overlap_wt']==0])\n",
    "shape_diff = set(strain_df.index[strain_df['shape_med_overlap_wt']!=0])\n",
    "shape_non = set(strain_df.index[strain_df['shape_med_overlap_wt']==0])\n",
    "\n",
    "f1, (ax1) = plt.subplots(1, sharex=False)\n",
    "f2, (ax2) = plt.subplots(1, sharex=False)\n",
    "\n",
    "ax1.plot(strain_df.loc[set.intersection(set(initial_strains), rate_diff, lifespan_diff, shape_diff),'scale_ratio_log2'], \n",
    "         strain_df.loc[set.intersection(set(initial_strains), rate_diff, lifespan_diff, shape_diff),'lifespan_ratio_log2'],\n",
    "         'o',label='p<0.05 for both', color='k', markersize=8, alpha=0.6)\n",
    "ax1.plot(strain_df.loc[candidates,'scale_ratio_log2'], \n",
    "         strain_df.loc[candidates,'lifespan_ratio_log2'],\n",
    "         '.',label='candidates', color='r', markersize=6)\n",
    "ax1.plot(strain_df.loc[set.intersection(set(initial_strains), set.difference(rate_non, lifespan_non)), 'scale_ratio_log2'],\n",
    "         strain_df.loc[set.intersection(set(initial_strains), set.difference(rate_non, lifespan_non)), 'lifespan_ratio_log2'],\n",
    "         'o',label='ageing scale ~ wt',markerfacecolor='none', markeredgecolor='r', alpha=0.4, markersize=10)\n",
    "ax1.plot(strain_df.loc[set.intersection(set(initial_strains),lifespan_non), 'scale_ratio_log2'],\n",
    "         strain_df.loc[set.intersection(set(initial_strains),lifespan_non), 'lifespan_ratio_log2'],\n",
    "         'o',label='lifespan ~ wt', markerfacecolor='none', markeredgecolor='g', alpha=0.8, markersize=10)\n",
    "ax1.plot(strain_df.loc[set.intersection(set(initial_strains), set.difference(shape_non, rate_non), lifespan_diff), 'scale_ratio_log2'],\n",
    "         strain_df.loc[set.intersection(set(initial_strains), set.difference(shape_non, rate_non), lifespan_diff), 'lifespan_ratio_log2'],\n",
    "        'o',label='ageing shape ~ wt',markerfacecolor='none', markeredgecolor='b', markersize=10)\n",
    "\n",
    "ax1.set_ylabel('$log_2$ relative lifespan')\n",
    "ax1.set_xlabel('$log_2$ relative aging scale')\n",
    "ax1.plot(np.arange(4,-4,-0.1), [0]*80, '-', color='k', alpha=0.8)\n",
    "ax1.plot( [0]*80, np.arange(4,-4,-0.1), '-', color='r', alpha=0.4)\n",
    "ax1.plot(np.arange(2,-3,-0.1), np.arange(2,-3,-0.1), '--', color='b', label='equal shape')\n",
    "ax1.legend(loc=4)\n",
    "\n",
    "\n",
    "ax2.plot(strain_df.loc[set.intersection(set(initial_strains), shape_diff, rate_diff, lifespan_diff),'scale_ratio_log2'], \n",
    "         strain_df.loc[set.intersection(set(initial_strains), shape_diff, rate_diff, lifespan_diff),'shape_ratio_log2'],\n",
    "         'o',label='p<0.05 for both', color='k', markersize=8, alpha=0.6)\n",
    "ax2.plot(strain_df.loc[candidates,'scale_ratio_log2'], \n",
    "         strain_df.loc[candidates,'shape_ratio_log2'],\n",
    "         '.',label='candidates', color='r', markersize=6)\n",
    "ax2.plot(strain_df.loc[set.intersection(set(initial_strains), set.difference(shape_non, rate_non)), 'scale_ratio_log2'],\n",
    "         strain_df.loc[set.intersection(set(initial_strains), set.difference(shape_non, rate_non)), 'shape_ratio_log2'],\n",
    "        'o',label='ageing shape ~ wt',markerfacecolor='none', markeredgecolor='b', markersize=10)\n",
    "ax2.plot(strain_df.loc[set.intersection(set(initial_strains), rate_non), 'scale_ratio_log2'],\n",
    "         strain_df.loc[set.intersection(set(initial_strains), rate_non), 'shape_ratio_log2'],\n",
    "        'o',label='ageing scale ~ wt',markerfacecolor='none', markeredgecolor='r', alpha=0.4, markersize=10)\n",
    "ax2.plot(strain_df.loc[set.intersection(set(initial_strains),lifespan_non), 'scale_ratio_log2'],\n",
    "         strain_df.loc[set.intersection(set(initial_strains),lifespan_non), 'shape_ratio_log2'],\n",
    "         'o',label='lifespan ~ wt', markerfacecolor='none', markeredgecolor='g', alpha=0.8, markersize=10)\n",
    "ax2.set_xlabel('$log_2$ relative aging scale')\n",
    "ax2.set_ylabel('$log_2$ relative shape ')\n",
    "ax2.plot(np.arange(3,-4,-0.1), np.arange(-3,4,0.1), '-',color='k', alpha=0.8, label='equal lifespan')\n",
    "ax2.plot( [0]*80, np.arange(4,-4,-0.1), '-', color='r', alpha=0.4)\n",
    "ax2.plot(np.arange(4,-4,-0.1), [0]*80, '--',color='b')\n",
    "ax2.legend(loc=1)\n",
    "\n",
    "ax1.set_xlim([-1.5,1.5])\n",
    "ax2.set_xlim([-2.0,1.5])\n",
    "ax1.set_ylim([-1.6,1.5])\n",
    "ax2.set_ylim([-1,2.5])\n",
    "\n",
    "\n",
    "f2.set_size_inches(10,7)\n",
    "f1.set_size_inches(10,7)"
   ]
  },
  {
   "cell_type": "markdown",
   "metadata": {},
   "source": [
    "### 6.3 Only two sub-types are outlined: mutants with wildtype level lifespan or aging scale"
   ]
  },
  {
   "cell_type": "code",
   "execution_count": null,
   "metadata": {},
   "outputs": [],
   "source": [
    "#candidates = ['ompL_new','pgi','uxaB_new','aqpZ','ascG','caiT_new','yagS','yfiD_new', 'appY']\n",
    "candidates = list(strain_df.index)\n",
    "rate_diff = set(strain_df.index[strain_df['rate_overlap_wt']!=0])\n",
    "rate_non = set(strain_df.index[strain_df['rate_overlap_wt']==0])\n",
    "lifespan_diff = set(strain_df.index[strain_df['med_exp_overlap_wt']!=0])\n",
    "lifespan_non = set(strain_df.index[strain_df['med_exp_overlap_wt']==0])\n",
    "shape_diff = set(strain_df.index[strain_df['shape_med_overlap_wt']!=0])\n",
    "shape_non = set(strain_df.index[strain_df['shape_med_overlap_wt']==0])\n",
    "\n",
    "f, (ax1, ax2) = plt.subplots(2, sharex=False)\n",
    "\n",
    "ax1.plot(strain_df.loc[set.intersection(set(initial_strains), rate_diff, lifespan_diff),'scale_ratio_log2'], \n",
    "         strain_df.loc[set.intersection(set(initial_strains), rate_diff, lifespan_diff),'lifespan_ratio_log2'],\n",
    "         'o',label='p<0.05 for both', color='k', markersize=8, alpha=0.6)\n",
    "ax1.plot(strain_df.loc[candidates,'scale_ratio_log2'], \n",
    "         strain_df.loc[candidates,'lifespan_ratio_log2'],\n",
    "         '.',label='candidates', color='r', markersize=6)\n",
    "ax1.plot(strain_df.loc[set.intersection(set(initial_strains), set.difference(rate_non, lifespan_non)), 'scale_ratio_log2'],\n",
    "         strain_df.loc[set.intersection(set(initial_strains), set.difference(rate_non, lifespan_non)), 'lifespan_ratio_log2'],\n",
    "         'o',label='ageing scale ~ wt',markerfacecolor='none', markeredgecolor='r', alpha=0.4, markersize=10)\n",
    "ax1.plot(strain_df.loc[set.intersection(set(initial_strains),lifespan_non), 'scale_ratio_log2'],\n",
    "         strain_df.loc[set.intersection(set(initial_strains),lifespan_non), 'lifespan_ratio_log2'],\n",
    "         'o',label='lifespan ~ wt', markerfacecolor='none', markeredgecolor='g', alpha=0.8, markersize=10)\n",
    "\n",
    "ax1.set_ylabel('$log_2$ relative lifespan')\n",
    "ax1.set_xlabel('$log_2$ relative aging scale')\n",
    "ax1.plot(np.arange(4,-4,-0.1), [0]*80, '-', color='k', alpha=0.8)\n",
    "ax1.plot( [0]*80, np.arange(4,-4,-0.1), '-', color='r', alpha=0.4)\n",
    "ax1.plot(np.arange(2,-3,-0.1), np.arange(2,-3,-0.1), '--', color='b', label='equal shape')\n",
    "ax1.legend(loc=4)\n",
    "\n",
    "\n",
    "ax2.plot(strain_df.loc[set.intersection(set(initial_strains), rate_diff, lifespan_diff),'scale_ratio_log2'], \n",
    "         strain_df.loc[set.intersection(set(initial_strains), rate_diff, lifespan_diff),'shape_ratio_log2'],\n",
    "         'o',label='p<0.05 for both', color='k', markersize=8, alpha=0.6)\n",
    "ax2.plot(strain_df.loc[candidates,'scale_ratio_log2'], \n",
    "         strain_df.loc[candidates,'shape_ratio_log2'],\n",
    "         '.',label='candidates', color='r', markersize=6)\n",
    "ax2.plot(strain_df.loc[set.intersection(set(initial_strains), rate_non), 'scale_ratio_log2'],\n",
    "         strain_df.loc[set.intersection(set(initial_strains), rate_non), 'shape_ratio_log2'],\n",
    "        'o',label='ageing scale ~ wt',markerfacecolor='none', markeredgecolor='r', alpha=0.4, markersize=10)\n",
    "ax2.plot(strain_df.loc[set.intersection(set(initial_strains),lifespan_non), 'scale_ratio_log2'],\n",
    "         strain_df.loc[set.intersection(set(initial_strains),lifespan_non), 'shape_ratio_log2'],\n",
    "         'o',label='lifespan ~ wt', markerfacecolor='none', markeredgecolor='g', alpha=0.8, markersize=10)\n",
    "ax2.set_xlabel('$log_2$ relative aging scale')\n",
    "ax2.set_ylabel('$log_2$ relative shape ')\n",
    "ax2.plot(np.arange(3,-4,-0.1), np.arange(-3,4,0.1), '-',color='k', alpha=0.8, label='equal lifespan')\n",
    "ax2.plot( [0]*80, np.arange(4,-4,-0.1), '-', color='r', alpha=0.4)\n",
    "ax2.plot(np.arange(4,-4,-0.1), [0]*80, '--',color='b')\n",
    "ax2.legend(loc=1)\n",
    "\n",
    "ax1.set_xlim([-1.5,1.5])\n",
    "ax2.set_xlim([-1.5,1.5])\n",
    "ax1.set_ylim([-0.6,1.2])\n",
    "ax2.set_ylim([-1,2.5])\n",
    "\n",
    "\n",
    "f.set_size_inches(10,14)"
   ]
  },
  {
   "cell_type": "code",
   "execution_count": null,
   "metadata": {},
   "outputs": [],
   "source": [
    "f, (ax1) = plt.subplots(1, sharex=False)\n",
    "\n",
    "ax1.plot(strain_df.loc[set.difference(set.intersection(set(initial_strains), lifespan_diff),rate_non),'shape_ratio_log2'], \n",
    "         strain_df.loc[set.difference(set.intersection(set(initial_strains), lifespan_diff),rate_non),'lifespan_ratio_log2'],\n",
    "         'o',label='p<0.05 for both', color='k', markersize=8, alpha=0.6)\n",
    "ax1.plot(strain_df.loc[candidates,'shape_ratio_log2'], \n",
    "         strain_df.loc[candidates,'lifespan_ratio_log2'],\n",
    "         '.',label='candidates', color='r', markersize=6)\n",
    "ax1.plot(strain_df.loc[set.intersection(set(initial_strains), set.difference(rate_non,lifespan_non)), 'shape_ratio_log2'],\n",
    "         strain_df.loc[set.intersection(set(initial_strains), set.difference(rate_non,lifespan_non)), 'lifespan_ratio_log2'],\n",
    "        'o',label='ageing scale ~ wt',markerfacecolor='none', markeredgecolor='r', alpha=0.4, markersize=10)\n",
    "ax1.plot(strain_df.loc[set.intersection(set(initial_strains), lifespan_non), 'shape_ratio_log2'],\n",
    "         strain_df.loc[set.intersection(set(initial_strains), lifespan_non), 'lifespan_ratio_log2'],\n",
    "         'o',label='lifespan ~ wt', markerfacecolor='none', markeredgecolor='g', alpha=0.8, markersize=10)\n",
    "\n",
    "\n",
    "ax1.set_xlabel('$log_2$ relative shape')\n",
    "ax1.set_ylabel('$log_2$ relative lifespan')\n",
    "ax1.plot(np.arange(-1,1.5,0.1), np.arange(-1,1.5,0.1), 'r--', label='equal timescale')\n",
    "ax1.plot(np.arange(4,-4,-0.1),[0]*80, '-',color='g', alpha=0.8, label='equal lifespan')\n",
    "ax1.plot([0]*80,np.arange(4,-4,-0.1),  '--',color='b', label='equal shape')\n",
    "ax1.legend(loc=4, fontsize=8)\n",
    "\n",
    "ax1.set_ylim([-1.6,1.9])\n",
    "ax1.set_xlim([-1,1.3])\n",
    "\n",
    "\n",
    "f.set_size_inches(6,5)"
   ]
  },
  {
   "cell_type": "markdown",
   "metadata": {},
   "source": [
    "# 7. Publication quality exhibitions of mutant lifespan distributions "
   ]
  },
  {
   "cell_type": "code",
   "execution_count": null,
   "metadata": {},
   "outputs": [],
   "source": [
    "import matplotlib as mpl\n",
    "from matplotlib import pyplot as plt\n",
    "import seaborn as sns\n",
    "sns.set_context(\"poster\")\n",
    "sns.set_style(\"white\")"
   ]
  },
  {
   "cell_type": "code",
   "execution_count": null,
   "metadata": {},
   "outputs": [],
   "source": [
    "coordinates = dict()\n",
    "for strain in initial_strains:\n",
    "    coordinates[strain] = (strain_df.loc[strain,'scale_ratio_log2'], strain_df.loc[strain,'lifespan_ratio_log2'])\n",
    "def distance(strain1, strain2):\n",
    "    return np.sqrt(np.sum(np.power(coordinates[strain1][i]-coordinates[strain2][i], 2) for i in range(2)))\n",
    "\n",
    "grid_positions = dict()\n",
    "vectors = dict()\n",
    "to_assign = set(initial_strains)\n",
    "grid_positions['MG-WT']=(0,0)\n",
    "#to_assign.remove('WT')\n",
    "while len(to_assign) > 0:\n",
    "    #finding the next strain to assign: closed to already assigned strains\n",
    "    min_dist2grid = 99.0\n",
    "    next_strain2assign = ''\n",
    "    for strain in to_assign:\n",
    "        dist2grid = np.min([distance(strain,assigned) for assigned in grid_positions.keys()])\n",
    "        if dist2grid < min_dist2grid:\n",
    "            next_strain2assign = strain\n",
    "            min_dist2grid = dist2grid\n",
    "    \n",
    "    if next_strain2assign == '':\n",
    "        break\n",
    "    else:\n",
    "        print next_strain2assign\n",
    "        \n",
    "    for assigned in grid_positions.keys():\n",
    "        if distance(next_strain2assign,assigned) == min_dist2grid:\n",
    "            #assign next_strain2assign next to its closest assignd neighbor\n",
    "            dist_x = np.abs(coordinates[next_strain2assign][0]-coordinates[assigned][0])\n",
    "            dist_y = np.abs(coordinates[next_strain2assign][1]-coordinates[assigned][1])\n",
    "            \n",
    "            if dist_x > dist_y:\n",
    "                grid_positions[next_strain2assign] = (grid_positions[assigned][0], \n",
    "                                                      grid_positions[assigned][1]+\n",
    "                                                     int((coordinates[next_strain2assign][1]-\n",
    "                                                          coordinates[assigned][1])/\n",
    "                                                         dist_y)\n",
    "                                                     )\n",
    "            else:\n",
    "                try:\n",
    "                    grid_positions[next_strain2assign] = (grid_positions[assigned][0]+\n",
    "                                                        int((coordinates[next_strain2assign][0]-\n",
    "                                                          coordinates[assigned][0])/dist_x), \n",
    "                                                      grid_positions[assigned][1])\n",
    "                except:\n",
    "                    grid_positions[next_strain2assign] = (0,0)\n",
    "                    \n",
    "            vectors[next_strain2assign] = (assigned, (coordinates[next_strain2assign][0]-coordinates[assigned][0],\n",
    "                                    coordinates[next_strain2assign][1]-coordinates[assigned][1]))\n",
    "            print assigned, grid_positions[assigned], '->', next_strain2assign, grid_positions[next_strain2assign],coordinates[next_strain2assign]\n",
    "            to_assign.remove(next_strain2assign)\n",
    "            \n",
    "            \n",
    "            \n",
    "            "
   ]
  },
  {
   "cell_type": "code",
   "execution_count": null,
   "metadata": {},
   "outputs": [],
   "source": [
    "f, (ax1) = plt.subplots(1, sharex=False)\n",
    "\n",
    "ax1.plot(strain_df.loc[set(initial_strains),'scale_ratio_log2'], \n",
    "         strain_df.loc[set(initial_strains),'lifespan_ratio_log2'],\n",
    "         'o',label='p<0.05 for both', color='k', markersize=8, alpha=0.6)\n",
    "for strain, (start, vector) in vectors.items():\n",
    "    ax1.plot([coordinates[start][0], coordinates[strain][0]], [coordinates[start][1], coordinates[strain][1]], 'k-')\n",
    "\n",
    "ax1.set_ylabel('$log_2$ relative lifespan')\n",
    "ax1.set_xlabel('$log_2$ relative aging scale')\n",
    "ax1.plot(np.arange(4,-4,-0.1), [0]*80, '-', color='k', alpha=0.8)\n",
    "ax1.plot( [0]*80, np.arange(4,-4,-0.1), '-', color='r', alpha=0.4)\n",
    "ax1.plot(np.arange(2,-3,-0.1), np.arange(2,-3,-0.1), '--', color='b', label='equal shape')\n",
    "ax1.legend(loc=4)\n",
    "\n",
    "ax1.set_xlim([-2.0,1.5])\n",
    "ax1.set_ylim([-1.6,1.2])\n",
    "\n",
    "f.set_size_inches(10,7)"
   ]
  },
  {
   "cell_type": "code",
   "execution_count": null,
   "metadata": {},
   "outputs": [],
   "source": [
    "sns.violinplot(dfs_mortality['MG-WT']['mortality'],\n",
    "               scale='area',cut=0,bw=0.2,gridsize=100,palette=\"muted\",orient='v',\n",
    "               width=0.2, inner='box')"
   ]
  },
  {
   "cell_type": "code",
   "execution_count": null,
   "metadata": {},
   "outputs": [],
   "source": [
    "from cohortMortalitySummary import KaplanMeier, NelsonAalen, Breslow, BSHazardR, generate_ts_image\n",
    "f, (ax1, ax3) = plt.subplots(2, 1, sharex=True, sharey=False)\n",
    "for strain in list(set.intersection(set(initial_strains), shape_diff, rate_non)):\n",
    "    KM = KaplanMeier(dfs_mortality[strain], tgs_mortality[strain])\n",
    "    ax1.plot(KM.index,KM.loc[:,'survivorship'],linewidth=1.4)\n",
    "    #ax1.plot(tgs_mortality[strain][1:],Fitted[strain]['ML_survivorship'](tgs_mortality[strain][1:]),linewidth=2, linestyle='--',alpha=0.8)\n",
    "    #ax1.fill_between(KM.index,KM.loc[:,'lower_ci'],KM.loc[:,'upper_ci'],\n",
    "    #                        alpha=0.3)\n",
    "    #BSFit = BSFits[strain]\n",
    "    #ax3.plot(BSFit['time'],BSFit['hazard'],linewidth=1.4)\n",
    "    #ax3.fill_between(BSFit['time'],BSFit['lower.ci'],BSFit['upper.ci'],\n",
    "    #                        alpha=0.5)\n",
    "    ax3.plot(tgs_mortality[strain][1:],Fitted[strain]['ML_hazard'](tgs_mortality[strain][1:]),linewidth=2, linestyle='--',alpha=0.8)\n",
    "ax1.set_ylim([0,1])\n",
    "ax1.set_xlim([0,140])\n",
    "ax3.set_yscale('log')\n",
    "ax3.set_ylim([0.00002,0.2])\n",
    "sns.despine()\n",
    "f.set_size_inches(6,8)\n",
    "plt.tight_layout()"
   ]
  },
  {
   "cell_type": "code",
   "execution_count": null,
   "metadata": {},
   "outputs": [],
   "source": [
    "from cohortMortalitySummary import KaplanMeier, NelsonAalen, Breslow, BSHazardR, generate_ts_image\n",
    "f, (ax1, ax3) = plt.subplots(2, 1, sharex=True, sharey=False)\n",
    "for strain in list(set.intersection(set(initial_strains), shape_diff, rate_non)):\n",
    "    KM = KaplanMeier(dfs_mortality[strain], tgs_mortality[strain])\n",
    "    ax1.plot(KM.index,KM.loc[:,'survivorship'],linewidth=1.4)\n",
    "    #ax1.plot(tgs_mortality[strain][1:],Fitted[strain]['ML_survivorship'](tgs_mortality[strain][1:]),linewidth=2, linestyle='--',alpha=0.8)\n",
    "    #ax1.fill_between(KM.index,KM.loc[:,'lower_ci'],KM.loc[:,'upper_ci'],\n",
    "    #                        alpha=0.3)\n",
    "    #BSFit = BSHazardR(dfs_mortality[strain])\n",
    "    #ax3.plot(BSFit['time'],BSFit['hazard'],linewidth=1.4)\n",
    "    #ax3.fill_between(BSFit['time'],BSFit['lower.ci'],BSFit['upper.ci'],\n",
    "    #                        alpha=0.5)\n",
    "    ax3.plot(tgs_mortality[strain][1:],Fitted[strain]['ML_hazard'](tgs_mortality[strain][1:]),linewidth=2, linestyle='--',alpha=0.8)\n",
    "ax1.set_ylim([0,1])\n",
    "ax1.set_xlim([0,140])\n",
    "ax3.set_yscale('log')\n",
    "ax3.set_ylim([0.00002,0.2])\n",
    "sns.despine()\n",
    "f.set_size_inches(6,8)\n",
    "plt.tight_layout()"
   ]
  },
  {
   "cell_type": "code",
   "execution_count": null,
   "metadata": {},
   "outputs": [],
   "source": [
    "from cohortMortalitySummary import KaplanMeier, NelsonAalen, Breslow, BSHazardR, generate_ts_image\n",
    "f, (ax1, ax3) = plt.subplots(2, 1, sharex=True, sharey=False)\n",
    "for strain in list(set.intersection(set(initial_strains), shape_non)):\n",
    "    KM = KaplanMeier(dfs_mortality[strain], tgs_mortality[strain])\n",
    "    ax1.plot(KM.index,KM.loc[:,'survivorship'],linewidth=1.4)\n",
    "    #ax1.plot(tgs_mortality[strain][1:],Fitted[strain]['ML_survivorship'](tgs_mortality[strain][1:]),linewidth=2, linestyle='--',alpha=0.8)\n",
    "    #ax1.fill_between(KM.index,KM.loc[:,'lower_ci'],KM.loc[:,'upper_ci'],\n",
    "    #                        alpha=0.3)\n",
    "    #BSFit = BSFits[strain]\n",
    "    #ax3.plot(BSFit['time'],BSFit['hazard'],linewidth=1.4)\n",
    "    #ax3.fill_between(BSFit['time'],BSFit['lower.ci'],BSFit['upper.ci'],\n",
    "    #                        alpha=0.5)\n",
    "    ax3.plot(tgs_mortality[strain][1:],Fitted[strain]['ML_hazard'](tgs_mortality[strain][1:]),linewidth=2, linestyle='--',alpha=0.8)\n",
    "ax1.set_ylim([0,1])\n",
    "ax1.set_xlim([0,140])\n",
    "ax3.set_yscale('log')\n",
    "ax3.set_ylim([0.0002,0.2])\n",
    "sns.despine()\n",
    "f.set_size_inches(6,8)\n",
    "plt.tight_layout()"
   ]
  },
  {
   "cell_type": "markdown",
   "metadata": {},
   "source": [
    "# 8. Correlations between aging and growth parameters"
   ]
  },
  {
   "cell_type": "markdown",
   "metadata": {},
   "source": [
    "### 8.1 Growth yields vs aging parameters"
   ]
  },
  {
   "cell_type": "code",
   "execution_count": null,
   "metadata": {
    "scrolled": false
   },
   "outputs": [],
   "source": [
    "strain_df['yield_ratio_log2'] = [np.log2(float(r)/strain_df.loc['MG-WT','yield_mean']) for r in strain_df['yield_mean']]\n",
    "strain_df['yield_ratio'] = [float(r)/strain_df.loc['MG-WT','yield_mean'] for r in strain_df['yield_mean']]\n",
    "\n",
    "f, (ax3, ax1, ax2) = plt.subplots(3, sharex=False)\n",
    "\n",
    "ax1.plot(strain_df.loc[initial_strains, 'yield_ratio'], \n",
    "         strain_df.loc[initial_strains, 'scale_ratio'],\n",
    "         'o',label='others')\n",
    "ax1.plot(strain_df.loc[candidates, 'yield_ratio'],\n",
    "         strain_df.loc[candidates, 'scale_ratio'], 'o', label='candidates')\n",
    "ax1.set_ylabel('relative aging scale')\n",
    "ax1.set_xlabel('relative yield')\n",
    "#ax1.plot(np.arange(4,-4,-0.1), [0]*80, '--')\n",
    "#ax1.plot(np.arange(2,-3,-0.1), np.arange(2,-3,-0.1), '--', label='equal shape')\n",
    "ax1.legend(loc=4)\n",
    "\n",
    "\n",
    "ax2.plot(strain_df.loc[initial_strains, 'yield_ratio'], \n",
    "         np.power(2,strain_df.loc[initial_strains, 'shape_ratio_log2']),\n",
    "         'o',label='others')\n",
    "ax2.plot(strain_df.loc[candidates, 'yield_ratio'],\n",
    "         np.power(2,strain_df.loc[candidates, 'shape_ratio_log2']), 'o', label='candidates')\n",
    "ax2.set_xlabel('relative yield')\n",
    "ax2.set_ylabel('relative shape ')\n",
    "#ax2.plot(np.arange(3,-4,-0.1), np.arange(-3,4,0.1), '--', label='equal lifespan')\n",
    "#ax2.plot(np.arange(4,-4,-0.1), [0]*80, '--')\n",
    "#ax2.legend(loc=1)\n",
    "\n",
    "#ax1.set_xlim([-1.5,1.5])\n",
    "#ax2.set_xlim([-1.5,1.5])\n",
    "#ax1.set_ylim([-1.6,0.9])\n",
    "#ax2.set_ylim([-1,1.5])\n",
    "\n",
    "ax3.plot(strain_df.loc[initial_strains, 'yield_ratio'], \n",
    "         strain_df.loc[initial_strains, 'med_ratio'],\n",
    "         'o',label='others')\n",
    "ax3.plot(strain_df.loc[candidates, 'yield_ratio'],\n",
    "         strain_df.loc[candidates, 'med_ratio'], 'o', label='candidates')\n",
    "ax3.set_ylabel('relative lifespan')\n",
    "ax3.set_xlabel('relative yield')\n",
    "#ax1.plot(np.arange(4,-4,-0.1), [0]*80, '--')\n",
    "#ax1.plot(np.arange(2,-3,-0.1), np.arange(2,-3,-0.1), '--', label='equal shape')\n",
    "#ax3.legend(loc=4)\n",
    "\n",
    "f.set_size_inches(10,20)"
   ]
  },
  {
   "cell_type": "code",
   "execution_count": null,
   "metadata": {},
   "outputs": [],
   "source": [
    "growth_curve_raw_df = pandas.read_csv('/Users/yyfwuhan/Projects/2018-TaMaRa-Ana-figures/growth/Growth Curves Raw Data MS1.csv',sep=';')\n",
    "max_od = growth_curve_raw_df.iloc[0,1:]\n",
    "for gene in max_od.index:\n",
    "    value = float(max_od.loc[gene].replace(',','.'))\n",
    "    if '.' not in gene:\n",
    "        yield_df.loc[gene, 'R1'] = value - 0.044\n",
    "    else:\n",
    "        yield_df.loc[gene.split('.')[0], 'R'+str(int(gene.split('.')[1])+1)] = value - 0.044"
   ]
  },
  {
   "cell_type": "code",
   "execution_count": null,
   "metadata": {
    "scrolled": false
   },
   "outputs": [],
   "source": [
    "strain_df['yield_ratio_log2'] = [np.log2(float(r)/strain_df.loc['MG-WT','yield_mean']) for r in strain_df['yield_mean']]\n",
    "strain_df['yield_ratio'] = [float(r)/strain_df.loc['MG-WT','yield_mean'] for r in strain_df['yield_mean']]\n",
    "\n",
    "f, (ax3, ax1, ax2) = plt.subplots(3, sharex=False)\n",
    "\n",
    "ax1.plot(strain_df.loc[initial_strains, 'yield_ratio'], \n",
    "         strain_df.loc[initial_strains, 'scale_ratio'],\n",
    "         'o',label='others')\n",
    "ax1.plot(strain_df.loc[candidates, 'yield_ratio'],\n",
    "         strain_df.loc[candidates, 'scale_ratio'], 'o', label='candidates')\n",
    "ax1.set_ylabel('relative aging scale')\n",
    "ax1.set_xlabel('relative yield')\n",
    "#ax1.plot(np.arange(4,-4,-0.1), [0]*80, '--')\n",
    "#ax1.plot(np.arange(2,-3,-0.1), np.arange(2,-3,-0.1), '--', label='equal shape')\n",
    "ax1.legend(loc=4)\n",
    "\n",
    "\n",
    "ax2.plot(strain_df.loc[initial_strains, 'yield_ratio'], \n",
    "         np.power(2,strain_df.loc[initial_strains, 'shape_ratio_log2']),\n",
    "         'o',label='others')\n",
    "ax2.plot(strain_df.loc[candidates, 'yield_ratio'],\n",
    "         np.power(2,strain_df.loc[candidates, 'shape_ratio_log2']), 'o', label='candidates')\n",
    "ax2.set_xlabel('relative yield')\n",
    "ax2.set_ylabel('relative shape ')\n",
    "#ax2.plot(np.arange(3,-4,-0.1), np.arange(-3,4,0.1), '--', label='equal lifespan')\n",
    "#ax2.plot(np.arange(4,-4,-0.1), [0]*80, '--')\n",
    "#ax2.legend(loc=1)\n",
    "\n",
    "#ax1.set_xlim([-1.5,1.5])\n",
    "#ax2.set_xlim([-1.5,1.5])\n",
    "#ax1.set_ylim([-1.6,0.9])\n",
    "#ax2.set_ylim([-1,1.5])\n",
    "\n",
    "ax3.plot(strain_df.loc[initial_strains, 'yield_ratio'], \n",
    "         strain_df.loc[initial_strains, 'med_ratio'],\n",
    "         'o',label='others')\n",
    "ax3.plot(strain_df.loc[candidates, 'yield_ratio'],\n",
    "         strain_df.loc[candidates, 'med_ratio'], 'o', label='candidates')\n",
    "ax3.set_ylabel('relative lifespan')\n",
    "ax3.set_xlabel('relative yield')\n",
    "#ax1.plot(np.arange(4,-4,-0.1), [0]*80, '--')\n",
    "#ax1.plot(np.arange(2,-3,-0.1), np.arange(2,-3,-0.1), '--', label='equal shape')\n",
    "#ax3.legend(loc=4)\n",
    "\n",
    "f.set_size_inches(10,20)"
   ]
  },
  {
   "cell_type": "markdown",
   "metadata": {},
   "source": [
    "### 8.2 Growth rates vs aging parameters"
   ]
  },
  {
   "cell_type": "code",
   "execution_count": null,
   "metadata": {},
   "outputs": [],
   "source": [
    "#grate_df = pandas.read_csv('/Users/yyfwuhan/Projects/2018-TaMaRa-Ana-figures/growth/Growth Rate of KO - Sheet1.csv',sep=',')\n",
    "grate_df = pandas.read_csv('growth_rate_all_strains.csv',sep=',')\n",
    "\n",
    "grate_df.set_index('Unnamed: 0', inplace=True)\n",
    "\n",
    "initial_genes = list(grate_df.index)\n",
    "initial_strains = [strain for strain in strain_df.index\n",
    "                   if strain.split('_')[0] in initial_genes]\n",
    "other_strains = [strain for strain in strain_df.index\n",
    "                   if strain.split('_')[0] not in initial_genes]\n",
    "for strain in initial_strains:\n",
    "    strain_df.loc[strain, 'growr_mean'] = np.mean(np.mean(grate_df.loc[strain.split('_')[0], :]))\n",
    "    strain_df.loc[strain, 'growr_std'] = np.mean(np.std(grate_df.loc[strain.split('_')[0], :]))"
   ]
  },
  {
   "cell_type": "code",
   "execution_count": null,
   "metadata": {
    "scrolled": false
   },
   "outputs": [],
   "source": [
    "strain_df['growr_ratio_log2'] = [np.log2(float(r)/strain_df.loc['MG-WT','growr_mean']) for r in strain_df['growr_mean']]\n",
    "strain_df['growr_ratio'] = [float(r)/strain_df.loc['MG-WT','growr_mean'] for r in strain_df['growr_mean']]\n",
    "\n",
    "f, (ax3, ax1, ax2) = plt.subplots(3, sharex=False)\n",
    "\n",
    "ax1.plot(strain_df.loc[initial_strains, 'growr_ratio_log2'], \n",
    "         strain_df.loc[initial_strains, 'scale_ratio_log2'],\n",
    "         'o',label='others')\n",
    "ax1.plot(strain_df.loc[candidates, 'growr_ratio_log2'],\n",
    "         strain_df.loc[candidates, 'scale_ratio_log2'], 'o', label='candidates')\n",
    "ax1.set_ylabel('$log_2$ relative aging scale')\n",
    "ax1.set_xlabel('$log_2$ relative growth rate')\n",
    "#ax1.plot(np.arange(4,-4,-0.1), [0]*80, '--')\n",
    "#ax1.plot(np.arange(2,-3,-0.1), np.arange(2,-3,-0.1), '--', label='equal shape')\n",
    "#ax2.legend(loc=4)\n",
    "\n",
    "\n",
    "ax2.plot(strain_df.loc[initial_strains, 'growr_ratio_log2'], \n",
    "         np.power(2,strain_df.loc[initial_strains, 'shape_ratio_log2']),\n",
    "         'o',label='others')\n",
    "ax2.plot(strain_df.loc[candidates, 'growr_ratio_log2'],\n",
    "         np.power(2,strain_df.loc[candidates, 'shape_ratio_log2']), 'o', label='candidates')\n",
    "ax2.set_xlabel('$log_2$ relative growth rate')\n",
    "ax2.set_ylabel('$log_2$ relative shape ')\n",
    "#ax2.plot(np.arange(3,-4,-0.1), np.arange(-3,4,0.1), '--', label='equal lifespan')\n",
    "#ax2.plot(np.arange(4,-4,-0.1), [0]*80, '--')\n",
    "ax2.legend(loc=1)\n",
    "\n",
    "#ax1.set_xlim([-1.5,1.5])\n",
    "#ax2.set_xlim([-1.5,1.5])\n",
    "#ax1.set_ylim([-1.6,0.9])\n",
    "#ax2.set_ylim([-1,1.5])\n",
    "\n",
    "ax3.plot(strain_df.loc[initial_strains, 'growr_ratio_log2'], \n",
    "         strain_df.loc[initial_strains, 'lifespan_ratio_log2'],\n",
    "         'o',label='others')\n",
    "ax3.plot(strain_df.loc[candidates, 'growr_ratio_log2'],\n",
    "         strain_df.loc[candidates, 'lifespan_ratio_log2'], 'o', label='candidates')\n",
    "ax3.set_ylabel('$log_2$ relative lifespan')\n",
    "ax3.set_xlabel('$log_2$ relative growth rate')\n",
    "#ax1.plot(np.arange(4,-4,-0.1), [0]*80, '--')\n",
    "#ax1.plot(np.arange(2,-3,-0.1), np.arange(2,-3,-0.1), '--', label='equal shape')\n",
    "#ax3.legend(loc=4)\n",
    "\n",
    "f.set_size_inches(10,20)"
   ]
  },
  {
   "cell_type": "code",
   "execution_count": null,
   "metadata": {},
   "outputs": [],
   "source": [
    "#grate_df_new = pandas.read_csv('/Users/yyfwuhan/Projects/2018-TaMaRa-Ana-figures/growth/growth_rate_max_xiaohu.csv',sep=',')\n",
    "\n",
    "\n",
    "grate_df_new = pandas.read_csv('growth_rate_all_strains.csv',sep=',')\n",
    "\n",
    "grate_dict = dict()\n",
    "for i in range(len(grate_df_new)):\n",
    "    name = grate_df_new.iloc[i,0]\n",
    "    if grate_dict.has_key(name.split('-')[0]):\n",
    "        grate_dict[name.split('-')[0]].append(grate_df_new.iloc[i,1])\n",
    "    else:\n",
    "        grate_dict[name.split('-')[0]] = [grate_df_new.iloc[i,1]]\n",
    "initial_genes = list()\n",
    "initial_strains = list()\n",
    "for gene, grates in grate_dict.items():\n",
    "    init_mean = np.mean(grates)\n",
    "    init_std = np.std(grates)\n",
    "    for gr in grates:\n",
    "        if np.abs(gr - init_mean) > 2*init_std:\n",
    "            print gene, gr, init_mean, init_std\n",
    "            grates.remove(gr)\n",
    "    if len(grates) != 0:\n",
    "        try:\n",
    "            initial_genes.append(gene)\n",
    "            initial_strains.extend([strain for strain in strain_df.index if strain.split('_')[0] == gene])\n",
    "            strain = initial_strains[-1]\n",
    "            strain_df.loc[strain, 'growr_mean'] = np.mean(grates)\n",
    "            strain_df.loc[strain, 'growr_std'] = np.std(grates)\n",
    "        except:\n",
    "            \"error\", gene, grates\n",
    "        \n",
    "other_strains = [strain for strain in strain_df.index\n",
    "                   if strain.split('_')[0] not in initial_genes]"
   ]
  },
  {
   "cell_type": "code",
   "execution_count": null,
   "metadata": {
    "scrolled": false
   },
   "outputs": [],
   "source": [
    "strain_df['growr_ratio_log2'] = [np.log2(float(r)/strain_df.loc['MG-WT','growr_mean']) for r in strain_df['growr_mean']]\n",
    "strain_df['growr_ratio'] = [float(r)/strain_df.loc['MG-WT','growr_mean'] for r in strain_df['growr_mean']]\n",
    "\n",
    "f, (ax3, ax1, ax2) = plt.subplots(3, sharex=False)\n",
    "\n",
    "ax1.plot(strain_df.loc[initial_strains, 'growr_ratio_log2'], \n",
    "         strain_df.loc[initial_strains, 'scale_ratio_log2'],\n",
    "         'o',label='others')\n",
    "ax1.plot(strain_df.loc[candidates, 'growr_ratio_log2'],\n",
    "         strain_df.loc[candidates, 'scale_ratio_log2'], 'o', label='candidates')\n",
    "ax1.set_ylabel('$log_2$ relative aging scale')\n",
    "ax1.set_xlabel('$log_2$ relative growth rate')\n",
    "#ax1.plot(np.arange(4,-4,-0.1), [0]*80, '--')\n",
    "#ax1.plot(np.arange(2,-3,-0.1), np.arange(2,-3,-0.1), '--', label='equal shape')\n",
    "#ax2.legend(loc=4)\n",
    "\n",
    "\n",
    "ax2.plot(strain_df.loc[initial_strains, 'growr_ratio_log2'], \n",
    "         np.power(2,strain_df.loc[initial_strains, 'shape_ratio_log2']),\n",
    "         'o',label='others')\n",
    "ax2.plot(strain_df.loc[candidates, 'growr_ratio_log2'],\n",
    "         np.power(2,strain_df.loc[candidates, 'shape_ratio_log2']), 'o', label='candidates')\n",
    "ax2.set_xlabel('$log_2$ relative growth rate')\n",
    "ax2.set_ylabel('$log_2$ relative shape ')\n",
    "#ax2.plot(np.arange(3,-4,-0.1), np.arange(-3,4,0.1), '--', label='equal lifespan')\n",
    "#ax2.plot(np.arange(4,-4,-0.1), [0]*80, '--')\n",
    "ax2.legend(loc=1)\n",
    "\n",
    "#ax1.set_xlim([-1.5,1.5])\n",
    "#ax2.set_xlim([-1.5,1.5])\n",
    "#ax1.set_ylim([-1.6,0.9])\n",
    "#ax2.set_ylim([-1,1.5])\n",
    "\n",
    "ax3.plot(strain_df.loc[initial_strains, 'growr_ratio_log2'], \n",
    "         strain_df.loc[initial_strains, 'lifespan_ratio_log2'],\n",
    "         'o',label='others')\n",
    "ax3.plot(strain_df.loc[candidates, 'growr_ratio_log2'],\n",
    "         strain_df.loc[candidates, 'lifespan_ratio_log2'], 'o', label='candidates')\n",
    "ax3.set_ylabel('$log_2$ relative lifespan')\n",
    "ax3.set_xlabel('$log_2$ relative growth rate')\n",
    "#ax1.plot(np.arange(4,-4,-0.1), [0]*80, '--')\n",
    "#ax1.plot(np.arange(2,-3,-0.1), np.arange(2,-3,-0.1), '--', label='equal shape')\n",
    "#ax3.legend(loc=4)\n",
    "\n",
    "f.set_size_inches(10,20)"
   ]
  },
  {
   "cell_type": "markdown",
   "metadata": {},
   "source": [
    "### 8.3 Strains with extreme growth rates: are growth rate estimates correct?"
   ]
  },
  {
   "cell_type": "code",
   "execution_count": null,
   "metadata": {},
   "outputs": [],
   "source": [
    "strain_df.loc[strain_df['growr_ratio_log2']>1,['growr_ratio_log2','scale_ratio_log2','lifespan_ratio_log2','shape_ratio_log2']]"
   ]
  },
  {
   "cell_type": "code",
   "execution_count": null,
   "metadata": {},
   "outputs": [],
   "source": [
    "strain_df.loc[strain_df['growr_ratio_log2']<-0.75,['growr_ratio_log2','scale_ratio_log2','lifespan_ratio_log2','shape_ratio_log2']]"
   ]
  }
 ],
 "metadata": {
  "kernelspec": {
   "display_name": "Python 2",
   "language": "python",
   "name": "python2"
  },
  "language_info": {
   "codemirror_mode": {
    "name": "ipython",
    "version": 2
   },
   "file_extension": ".py",
   "mimetype": "text/x-python",
   "name": "python",
   "nbconvert_exporter": "python",
   "pygments_lexer": "ipython2",
   "version": "2.7.16"
  }
 },
 "nbformat": 4,
 "nbformat_minor": 2
}
